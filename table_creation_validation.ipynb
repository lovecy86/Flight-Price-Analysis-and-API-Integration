{
 "cells": [
  {
   "cell_type": "code",
   "execution_count": null,
   "metadata": {},
   "outputs": [],
   "source": [
    "# ! pip install pandas great_expectations pandas-profiling cerberus\n",
    "# ! pip install pandas Pandera \n",
    "import pandas as pd\n",
    "import numpy as np\n",
    "import pandera as pa\n",
    "from ydata_profiling import ProfileReport\n",
    "from pandera import Check, Column, DataFrameSchema\n",
    "\n"
   ]
  },
  {
   "cell_type": "markdown",
   "metadata": {},
   "source": [
    "# Creating DataFrames for Importing Tables in Postgres\n",
    "#### The DataFrames created are for:\n",
    "- Itinerary\n",
    "- Cabin Class\n",
    "- Flight Number\n",
    "- Airports\n",
    "- Airlines\n",
    "- Itinerary Details\n",
    "- Flight Price"
   ]
  },
  {
   "cell_type": "markdown",
   "metadata": {},
   "source": [
    "### Creating DataFrame for itinerary\n",
    "**Primary Key:** `itinerary_id`\n"
   ]
  },
  {
   "cell_type": "code",
   "execution_count": 140,
   "metadata": {},
   "outputs": [
    {
     "data": {
      "application/vnd.microsoft.datawrangler.viewer.v0+json": {
       "columns": [
        {
         "name": "index",
         "rawType": "int64",
         "type": "integer"
        },
        {
         "name": "itinerary_id",
         "rawType": "object",
         "type": "string"
        },
        {
         "name": "cabin_class",
         "rawType": "object",
         "type": "string"
        },
        {
         "name": "one_way_price_candollar",
         "rawType": "int64",
         "type": "integer"
        },
        {
         "name": "flight_number",
         "rawType": "int64",
         "type": "integer"
        },
        {
         "name": "origin_airport",
         "rawType": "object",
         "type": "string"
        },
        {
         "name": "destination_airport",
         "rawType": "object",
         "type": "string"
        },
        {
         "name": "departure_date_time",
         "rawType": "object",
         "type": "string"
        },
        {
         "name": "arrival_date_time",
         "rawType": "object",
         "type": "string"
        },
        {
         "name": "stop_count",
         "rawType": "int64",
         "type": "integer"
        },
        {
         "name": "marketing_airline",
         "rawType": "object",
         "type": "string"
        },
        {
         "name": "operating_airline",
         "rawType": "object",
         "type": "string"
        },
        {
         "name": "is_self_transfer",
         "rawType": "bool",
         "type": "boolean"
        },
        {
         "name": "duration_in_hours",
         "rawType": "float64",
         "type": "float"
        }
       ],
       "conversionMethod": "pd.DataFrame",
       "ref": "ffdd52a3-e1d1-4d63-b204-69860365c7a5",
       "rows": [
        [
         "0",
         "18467-2504010745--31679-1-10968-2504011249",
         "economy",
         "477",
         "6340",
         "YYZ",
         "ATL",
         "2025-04-01 07:45:00",
         "2025-04-01 10:17:00",
         "1",
         "Westjet",
         "Delta Air Lines",
         "True",
         "2.53"
        ],
        [
         "1",
         "18467-2504010745--31679-1-10968-2504011249",
         "economy",
         "477",
         "6482",
         "ATL",
         "DFW",
         "2025-04-01 11:20:00",
         "2025-04-01 12:49:00",
         "1",
         "Westjet",
         "Delta Air Lines",
         "True",
         "2.48"
        ],
        [
         "2",
         "18390-2504010700--31954,-31825-2-10968-2504011735",
         "economy",
         "253",
         "2205",
         "YTZ",
         "YOW",
         "2025-04-01 07:00:00",
         "2025-04-01 07:59:00",
         "2",
         "Porter Airlines",
         "Porter Airlines Inc",
         "True",
         "0.98"
        ],
        [
         "3",
         "18467-2504010615--32385-1-10910-2504011111",
         "premium_economy",
         "581",
         "2662",
         "YYZ",
         "ATL",
         "2025-04-01 06:15:00",
         "2025-04-01 08:49:00",
         "1",
         "Delta Air Lines",
         "Delta Air Lines",
         "True",
         "2.57"
        ],
        [
         "4",
         "18467-2504010745--32385-1-10968-2504011249",
         "premium_economy",
         "581",
         "2988",
         "YYZ",
         "ATL",
         "2025-04-01 07:45:00",
         "2025-04-01 10:17:00",
         "1",
         "Delta Air Lines",
         "Delta Air Lines",
         "True",
         "2.53"
        ]
       ],
       "shape": {
        "columns": 13,
        "rows": 5
       }
      },
      "text/html": [
       "<div>\n",
       "<style scoped>\n",
       "    .dataframe tbody tr th:only-of-type {\n",
       "        vertical-align: middle;\n",
       "    }\n",
       "\n",
       "    .dataframe tbody tr th {\n",
       "        vertical-align: top;\n",
       "    }\n",
       "\n",
       "    .dataframe thead th {\n",
       "        text-align: right;\n",
       "    }\n",
       "</style>\n",
       "<table border=\"1\" class=\"dataframe\">\n",
       "  <thead>\n",
       "    <tr style=\"text-align: right;\">\n",
       "      <th></th>\n",
       "      <th>itinerary_id</th>\n",
       "      <th>cabin_class</th>\n",
       "      <th>one_way_price_candollar</th>\n",
       "      <th>flight_number</th>\n",
       "      <th>origin_airport</th>\n",
       "      <th>destination_airport</th>\n",
       "      <th>departure_date_time</th>\n",
       "      <th>arrival_date_time</th>\n",
       "      <th>stop_count</th>\n",
       "      <th>marketing_airline</th>\n",
       "      <th>operating_airline</th>\n",
       "      <th>is_self_transfer</th>\n",
       "      <th>duration_in_hours</th>\n",
       "    </tr>\n",
       "  </thead>\n",
       "  <tbody>\n",
       "    <tr>\n",
       "      <th>0</th>\n",
       "      <td>18467-2504010745--31679-1-10968-2504011249</td>\n",
       "      <td>economy</td>\n",
       "      <td>477</td>\n",
       "      <td>6340</td>\n",
       "      <td>YYZ</td>\n",
       "      <td>ATL</td>\n",
       "      <td>2025-04-01 07:45:00</td>\n",
       "      <td>2025-04-01 10:17:00</td>\n",
       "      <td>1</td>\n",
       "      <td>Westjet</td>\n",
       "      <td>Delta Air Lines</td>\n",
       "      <td>True</td>\n",
       "      <td>2.53</td>\n",
       "    </tr>\n",
       "    <tr>\n",
       "      <th>1</th>\n",
       "      <td>18467-2504010745--31679-1-10968-2504011249</td>\n",
       "      <td>economy</td>\n",
       "      <td>477</td>\n",
       "      <td>6482</td>\n",
       "      <td>ATL</td>\n",
       "      <td>DFW</td>\n",
       "      <td>2025-04-01 11:20:00</td>\n",
       "      <td>2025-04-01 12:49:00</td>\n",
       "      <td>1</td>\n",
       "      <td>Westjet</td>\n",
       "      <td>Delta Air Lines</td>\n",
       "      <td>True</td>\n",
       "      <td>2.48</td>\n",
       "    </tr>\n",
       "    <tr>\n",
       "      <th>2</th>\n",
       "      <td>18390-2504010700--31954,-31825-2-10968-2504011735</td>\n",
       "      <td>economy</td>\n",
       "      <td>253</td>\n",
       "      <td>2205</td>\n",
       "      <td>YTZ</td>\n",
       "      <td>YOW</td>\n",
       "      <td>2025-04-01 07:00:00</td>\n",
       "      <td>2025-04-01 07:59:00</td>\n",
       "      <td>2</td>\n",
       "      <td>Porter Airlines</td>\n",
       "      <td>Porter Airlines Inc</td>\n",
       "      <td>True</td>\n",
       "      <td>0.98</td>\n",
       "    </tr>\n",
       "    <tr>\n",
       "      <th>3</th>\n",
       "      <td>18467-2504010615--32385-1-10910-2504011111</td>\n",
       "      <td>premium_economy</td>\n",
       "      <td>581</td>\n",
       "      <td>2662</td>\n",
       "      <td>YYZ</td>\n",
       "      <td>ATL</td>\n",
       "      <td>2025-04-01 06:15:00</td>\n",
       "      <td>2025-04-01 08:49:00</td>\n",
       "      <td>1</td>\n",
       "      <td>Delta Air Lines</td>\n",
       "      <td>Delta Air Lines</td>\n",
       "      <td>True</td>\n",
       "      <td>2.57</td>\n",
       "    </tr>\n",
       "    <tr>\n",
       "      <th>4</th>\n",
       "      <td>18467-2504010745--32385-1-10968-2504011249</td>\n",
       "      <td>premium_economy</td>\n",
       "      <td>581</td>\n",
       "      <td>2988</td>\n",
       "      <td>YYZ</td>\n",
       "      <td>ATL</td>\n",
       "      <td>2025-04-01 07:45:00</td>\n",
       "      <td>2025-04-01 10:17:00</td>\n",
       "      <td>1</td>\n",
       "      <td>Delta Air Lines</td>\n",
       "      <td>Delta Air Lines</td>\n",
       "      <td>True</td>\n",
       "      <td>2.53</td>\n",
       "    </tr>\n",
       "  </tbody>\n",
       "</table>\n",
       "</div>"
      ],
      "text/plain": [
       "                                        itinerary_id      cabin_class  \\\n",
       "0         18467-2504010745--31679-1-10968-2504011249          economy   \n",
       "1         18467-2504010745--31679-1-10968-2504011249          economy   \n",
       "2  18390-2504010700--31954,-31825-2-10968-2504011735          economy   \n",
       "3         18467-2504010615--32385-1-10910-2504011111  premium_economy   \n",
       "4         18467-2504010745--32385-1-10968-2504011249  premium_economy   \n",
       "\n",
       "   one_way_price_candollar  flight_number origin_airport destination_airport  \\\n",
       "0                      477           6340            YYZ                 ATL   \n",
       "1                      477           6482            ATL                 DFW   \n",
       "2                      253           2205            YTZ                 YOW   \n",
       "3                      581           2662            YYZ                 ATL   \n",
       "4                      581           2988            YYZ                 ATL   \n",
       "\n",
       "   departure_date_time    arrival_date_time  stop_count marketing_airline  \\\n",
       "0  2025-04-01 07:45:00  2025-04-01 10:17:00           1           Westjet   \n",
       "1  2025-04-01 11:20:00  2025-04-01 12:49:00           1           Westjet   \n",
       "2  2025-04-01 07:00:00  2025-04-01 07:59:00           2   Porter Airlines   \n",
       "3  2025-04-01 06:15:00  2025-04-01 08:49:00           1   Delta Air Lines   \n",
       "4  2025-04-01 07:45:00  2025-04-01 10:17:00           1   Delta Air Lines   \n",
       "\n",
       "     operating_airline  is_self_transfer  duration_in_hours  \n",
       "0      Delta Air Lines              True               2.53  \n",
       "1      Delta Air Lines              True               2.48  \n",
       "2  Porter Airlines Inc              True               0.98  \n",
       "3      Delta Air Lines              True               2.57  \n",
       "4      Delta Air Lines              True               2.53  "
      ]
     },
     "execution_count": 140,
     "metadata": {},
     "output_type": "execute_result"
    }
   ],
   "source": [
    "# Read the cleaned_price_data csv\n",
    "flight_price_data =  pd.read_csv('cleaning_output/cleaned_price_data.csv')\n",
    "flight_price_data.head()"
   ]
  },
  {
   "cell_type": "code",
   "execution_count": 242,
   "metadata": {},
   "outputs": [
    {
     "data": {
      "application/vnd.jupyter.widget-view+json": {
       "model_id": "f0f8eb9f418047fd82028235122c6135",
       "version_major": 2,
       "version_minor": 0
      },
      "text/plain": [
       "Summarize dataset:   0%|          | 0/5 [00:00<?, ?it/s]"
      ]
     },
     "metadata": {},
     "output_type": "display_data"
    },
    {
     "data": {
      "application/vnd.jupyter.widget-view+json": {
       "model_id": "a8b2684bfd1f4db99c2106b32113b4ae",
       "version_major": 2,
       "version_minor": 0
      },
      "text/plain": [
       "Generate report structure:   0%|          | 0/1 [00:00<?, ?it/s]"
      ]
     },
     "metadata": {},
     "output_type": "display_data"
    },
    {
     "data": {
      "application/vnd.jupyter.widget-view+json": {
       "model_id": "3db175689b984c9c8fe76432f1edf843",
       "version_major": 2,
       "version_minor": 0
      },
      "text/plain": [
       "Render HTML:   0%|          | 0/1 [00:00<?, ?it/s]"
      ]
     },
     "metadata": {},
     "output_type": "display_data"
    },
    {
     "data": {
      "application/vnd.jupyter.widget-view+json": {
       "model_id": "5397d6a57a304612a4f1617618f3cc0d",
       "version_major": 2,
       "version_minor": 0
      },
      "text/plain": [
       "Export report to file:   0%|          | 0/1 [00:00<?, ?it/s]"
      ]
     },
     "metadata": {},
     "output_type": "display_data"
    }
   ],
   "source": [
    "# Data validation for flight_price_data\n",
    "# profiling report for flight_price_data using pandas_profiling.\n",
    "# Generate a profiling report\n",
    "profile = ProfileReport(flight_price_data, title=\"Combine Flight Price Profiling Report\", explorative=True)\n",
    "\n",
    "# Save the report to an HTML file\n",
    "profile.to_file(\"combine_flight_price_data.html\")\n"
   ]
  },
  {
   "cell_type": "code",
   "execution_count": 142,
   "metadata": {},
   "outputs": [
    {
     "name": "stdout",
     "output_type": "stream",
     "text": [
      "<class 'pandas.core.frame.DataFrame'>\n",
      "RangeIndex: 11127 entries, 0 to 11126\n",
      "Data columns (total 13 columns):\n",
      " #   Column                   Non-Null Count  Dtype  \n",
      "---  ------                   --------------  -----  \n",
      " 0   itinerary_id             11127 non-null  object \n",
      " 1   cabin_class              11127 non-null  object \n",
      " 2   one_way_price_candollar  11127 non-null  int64  \n",
      " 3   flight_number            11127 non-null  int64  \n",
      " 4   origin_airport           11127 non-null  object \n",
      " 5   destination_airport      11127 non-null  object \n",
      " 6   departure_date_time      11127 non-null  object \n",
      " 7   arrival_date_time        11127 non-null  object \n",
      " 8   stop_count               11127 non-null  int64  \n",
      " 9   marketing_airline        11127 non-null  object \n",
      " 10  operating_airline        11127 non-null  object \n",
      " 11  is_self_transfer         11127 non-null  bool   \n",
      " 12  duration_in_hours        11127 non-null  float64\n",
      "dtypes: bool(1), float64(1), int64(3), object(8)\n",
      "memory usage: 1.0+ MB\n"
     ]
    }
   ],
   "source": [
    "# Describe the dataframe\n",
    "flight_price_data.info()"
   ]
  },
  {
   "cell_type": "code",
   "execution_count": 143,
   "metadata": {},
   "outputs": [],
   "source": [
    "# Convert departure_date_time to datetime format\n",
    "flight_price_data['departure_date_time']=pd.to_datetime(flight_price_data['departure_date_time'], errors='coerce')"
   ]
  },
  {
   "cell_type": "code",
   "execution_count": 144,
   "metadata": {},
   "outputs": [],
   "source": [
    "# Convert arrival_date_time to datetime format\n",
    "flight_price_data['arrival_date_time']=pd.to_datetime(flight_price_data['arrival_date_time'], errors='coerce')"
   ]
  },
  {
   "cell_type": "code",
   "execution_count": 145,
   "metadata": {},
   "outputs": [
    {
     "name": "stdout",
     "output_type": "stream",
     "text": [
      "<class 'pandas.core.frame.DataFrame'>\n",
      "RangeIndex: 11127 entries, 0 to 11126\n",
      "Data columns (total 13 columns):\n",
      " #   Column                   Non-Null Count  Dtype         \n",
      "---  ------                   --------------  -----         \n",
      " 0   itinerary_id             11127 non-null  object        \n",
      " 1   cabin_class              11127 non-null  object        \n",
      " 2   one_way_price_candollar  11127 non-null  int64         \n",
      " 3   flight_number            11127 non-null  int64         \n",
      " 4   origin_airport           11127 non-null  object        \n",
      " 5   destination_airport      11127 non-null  object        \n",
      " 6   departure_date_time      11127 non-null  datetime64[ns]\n",
      " 7   arrival_date_time        11127 non-null  datetime64[ns]\n",
      " 8   stop_count               11127 non-null  int64         \n",
      " 9   marketing_airline        11127 non-null  object        \n",
      " 10  operating_airline        11127 non-null  object        \n",
      " 11  is_self_transfer         11127 non-null  bool          \n",
      " 12  duration_in_hours        11127 non-null  float64       \n",
      "dtypes: bool(1), datetime64[ns](2), float64(1), int64(3), object(6)\n",
      "memory usage: 1.0+ MB\n"
     ]
    }
   ],
   "source": [
    "flight_price_data.info()"
   ]
  },
  {
   "cell_type": "markdown",
   "metadata": {},
   "source": [
    "##### Extracting unique itinerary_id from  flight_price_data\n"
   ]
  },
  {
   "cell_type": "code",
   "execution_count": 146,
   "metadata": {},
   "outputs": [
    {
     "data": {
      "text/plain": [
       "array(['18467-2504010745--31679-1-10968-2504011249',\n",
       "       '18390-2504010700--31954,-31825-2-10968-2504011735',\n",
       "       '18467-2504010615--32385-1-10910-2504011111', ...,\n",
       "       '18467-2509301635--31722-0-10968-2509301857',\n",
       "       '18467-2509300820--31722-0-10968-2509301042',\n",
       "       '18467-2509301130--32573-1-10968-2509301841'], dtype=object)"
      ]
     },
     "execution_count": 146,
     "metadata": {},
     "output_type": "execute_result"
    }
   ],
   "source": [
    "unique_itineraries = flight_price_data['itinerary_id'].unique()\n",
    "unique_itineraries"
   ]
  },
  {
   "cell_type": "code",
   "execution_count": 147,
   "metadata": {},
   "outputs": [
    {
     "data": {
      "application/vnd.microsoft.datawrangler.viewer.v0+json": {
       "columns": [
        {
         "name": "index",
         "rawType": "int64",
         "type": "integer"
        },
        {
         "name": "itinerary_id",
         "rawType": "object",
         "type": "string"
        },
        {
         "name": "itineraries",
         "rawType": "object",
         "type": "string"
        }
       ],
       "conversionMethod": "pd.DataFrame",
       "ref": "72908431-6f2b-44b3-bca4-208cbeb04c85",
       "rows": [
        [
         "0",
         "it1",
         "18467-2504010745--31679-1-10968-2504011249"
        ],
        [
         "1",
         "it2",
         "18390-2504010700--31954,-31825-2-10968-2504011735"
        ],
        [
         "2",
         "it3",
         "18467-2504010615--32385-1-10910-2504011111"
        ],
        [
         "3",
         "it4",
         "18467-2504010745--32385-1-10968-2504011249"
        ],
        [
         "4",
         "it5",
         "18467-2504011220--32385-1-10910-2504011753"
        ],
        [
         "5",
         "it6",
         "18467-2504011324--32573-0-10968-2504011614"
        ],
        [
         "6",
         "it7",
         "18467-2504011715--32573-0-10968-2504012010"
        ],
        [
         "7",
         "it8",
         "18467-2504010645--32573-0-10968-2504010940"
        ],
        [
         "8",
         "it9",
         "18467-2504011940--31722-0-10968-2504012214"
        ],
        [
         "9",
         "it10",
         "18467-2504011400--31722-0-10968-2504011634"
        ],
        [
         "10",
         "it11",
         "18467-2504011314--32573-1-10968-2504011741"
        ],
        [
         "11",
         "it12",
         "18467-2504010615--32573-1-10968-2504011047"
        ],
        [
         "12",
         "it13",
         "18467-2504011644--32573-1-10968-2504012133"
        ],
        [
         "13",
         "it14",
         "18390-2504020700--31954,-31825-2-10968-2504021735"
        ],
        [
         "14",
         "it15",
         "18390-2504021155--31954,-31825-2-10968-2504022254"
        ],
        [
         "15",
         "it16",
         "18390-2504020900--31954,-31825-2-10968-2504022254"
        ],
        [
         "16",
         "it17",
         "18467-2504020615--32385-1-10910-2504021111"
        ],
        [
         "17",
         "it18",
         "18467-2504020745--32385-1-10968-2504021249"
        ],
        [
         "18",
         "it19",
         "18467-2504020745--32385-1-10968-2504021440"
        ],
        [
         "19",
         "it20",
         "18467-2504020615--32385-2-10968-2504021440"
        ],
        [
         "20",
         "it21",
         "18467-2504021324--32573-0-10968-2504021614"
        ],
        [
         "21",
         "it22",
         "18467-2504021715--32573-0-10968-2504022010"
        ],
        [
         "22",
         "it23",
         "18467-2504020645--32573-0-10968-2504020940"
        ],
        [
         "23",
         "it24",
         "18467-2504021940--31722-0-10968-2504022214"
        ],
        [
         "24",
         "it25",
         "18467-2504021400--31722-0-10968-2504021634"
        ],
        [
         "25",
         "it26",
         "18467-2504020900--31722-1-10968-2504021332"
        ],
        [
         "26",
         "it27",
         "18467-2504020615--32573-1-10968-2504021300"
        ],
        [
         "27",
         "it28",
         "18390-2504030700--31954,-31825-2-10968-2504031735"
        ],
        [
         "28",
         "it29",
         "18467-2504030745--32385-1-10968-2504031243"
        ],
        [
         "29",
         "it30",
         "18467-2504030615--32385-1-10910-2504031126"
        ],
        [
         "30",
         "it31",
         "18467-2504031815--32385-1-10968-2504032357"
        ],
        [
         "31",
         "it32",
         "18467-2504031324--32573-0-10968-2504031614"
        ],
        [
         "32",
         "it33",
         "18467-2504030645--32573-0-10968-2504030940"
        ],
        [
         "33",
         "it34",
         "18467-2504031715--32573-0-10968-2504032010"
        ],
        [
         "34",
         "it35",
         "18467-2504031400--31722-0-10968-2504031634"
        ],
        [
         "35",
         "it36",
         "18467-2504031940--31722-0-10968-2504032214"
        ],
        [
         "36",
         "it37",
         "18467-2504030615--32573-1-10968-2504031047"
        ],
        [
         "37",
         "it38",
         "18467-2504040745--31679-1-10968-2504041243"
        ],
        [
         "38",
         "it39",
         "18467-2504040615--31679-1-10910-2504041126"
        ],
        [
         "39",
         "it40",
         "18467-2504041815--31679-1-10968-2504042357"
        ],
        [
         "40",
         "it41",
         "18467-2504040745--31679-1-10910-2504041513"
        ],
        [
         "41",
         "it42",
         "18467-2504040615--31679-1-10910-2504041513"
        ],
        [
         "42",
         "it43",
         "18467-2504040615--32385-1-10910-2504041126"
        ],
        [
         "43",
         "it44",
         "18467-2504041815--32385-1-10968-2504042357"
        ],
        [
         "44",
         "it45",
         "18467-2504041720--32573-0-10968-2504042000"
        ],
        [
         "45",
         "it46",
         "18467-2504040645--32573-0-10968-2504040929"
        ],
        [
         "46",
         "it47",
         "18467-2504041329--32573-0-10968-2504041614"
        ],
        [
         "47",
         "it48",
         "18467-2504041514--32573-1-10968-2504041916"
        ],
        [
         "48",
         "it49",
         "18467-2504040630--32573-1-10968-2504041056"
        ],
        [
         "49",
         "it50",
         "18467-2504041315--32573-1-10968-2504041756"
        ]
       ],
       "shape": {
        "columns": 2,
        "rows": 6327
       }
      },
      "text/html": [
       "<div>\n",
       "<style scoped>\n",
       "    .dataframe tbody tr th:only-of-type {\n",
       "        vertical-align: middle;\n",
       "    }\n",
       "\n",
       "    .dataframe tbody tr th {\n",
       "        vertical-align: top;\n",
       "    }\n",
       "\n",
       "    .dataframe thead th {\n",
       "        text-align: right;\n",
       "    }\n",
       "</style>\n",
       "<table border=\"1\" class=\"dataframe\">\n",
       "  <thead>\n",
       "    <tr style=\"text-align: right;\">\n",
       "      <th></th>\n",
       "      <th>itinerary_id</th>\n",
       "      <th>itineraries</th>\n",
       "    </tr>\n",
       "  </thead>\n",
       "  <tbody>\n",
       "    <tr>\n",
       "      <th>0</th>\n",
       "      <td>it1</td>\n",
       "      <td>18467-2504010745--31679-1-10968-2504011249</td>\n",
       "    </tr>\n",
       "    <tr>\n",
       "      <th>1</th>\n",
       "      <td>it2</td>\n",
       "      <td>18390-2504010700--31954,-31825-2-10968-2504011735</td>\n",
       "    </tr>\n",
       "    <tr>\n",
       "      <th>2</th>\n",
       "      <td>it3</td>\n",
       "      <td>18467-2504010615--32385-1-10910-2504011111</td>\n",
       "    </tr>\n",
       "    <tr>\n",
       "      <th>3</th>\n",
       "      <td>it4</td>\n",
       "      <td>18467-2504010745--32385-1-10968-2504011249</td>\n",
       "    </tr>\n",
       "    <tr>\n",
       "      <th>4</th>\n",
       "      <td>it5</td>\n",
       "      <td>18467-2504011220--32385-1-10910-2504011753</td>\n",
       "    </tr>\n",
       "    <tr>\n",
       "      <th>...</th>\n",
       "      <td>...</td>\n",
       "      <td>...</td>\n",
       "    </tr>\n",
       "    <tr>\n",
       "      <th>6322</th>\n",
       "      <td>it6323</td>\n",
       "      <td>18467-2509301320--32385-1-10968-2509301833</td>\n",
       "    </tr>\n",
       "    <tr>\n",
       "      <th>6323</th>\n",
       "      <td>it6324</td>\n",
       "      <td>18467-2509301130--32385-1-10968-2509301647</td>\n",
       "    </tr>\n",
       "    <tr>\n",
       "      <th>6324</th>\n",
       "      <td>it6325</td>\n",
       "      <td>18467-2509301635--31722-0-10968-2509301857</td>\n",
       "    </tr>\n",
       "    <tr>\n",
       "      <th>6325</th>\n",
       "      <td>it6326</td>\n",
       "      <td>18467-2509300820--31722-0-10968-2509301042</td>\n",
       "    </tr>\n",
       "    <tr>\n",
       "      <th>6326</th>\n",
       "      <td>it6327</td>\n",
       "      <td>18467-2509301130--32573-1-10968-2509301841</td>\n",
       "    </tr>\n",
       "  </tbody>\n",
       "</table>\n",
       "<p>6327 rows × 2 columns</p>\n",
       "</div>"
      ],
      "text/plain": [
       "     itinerary_id                                        itineraries\n",
       "0             it1         18467-2504010745--31679-1-10968-2504011249\n",
       "1             it2  18390-2504010700--31954,-31825-2-10968-2504011735\n",
       "2             it3         18467-2504010615--32385-1-10910-2504011111\n",
       "3             it4         18467-2504010745--32385-1-10968-2504011249\n",
       "4             it5         18467-2504011220--32385-1-10910-2504011753\n",
       "...           ...                                                ...\n",
       "6322       it6323         18467-2509301320--32385-1-10968-2509301833\n",
       "6323       it6324         18467-2509301130--32385-1-10968-2509301647\n",
       "6324       it6325         18467-2509301635--31722-0-10968-2509301857\n",
       "6325       it6326         18467-2509300820--31722-0-10968-2509301042\n",
       "6326       it6327         18467-2509301130--32573-1-10968-2509301841\n",
       "\n",
       "[6327 rows x 2 columns]"
      ]
     },
     "execution_count": 147,
     "metadata": {},
     "output_type": "execute_result"
    }
   ],
   "source": [
    "# Create a DataFrame\n",
    "itinerary_df = pd.DataFrame({\"itineraries\": unique_itineraries})\n",
    "itinerary_df\n",
    "# Add a new column with sequential labels ('it1', 'it2', ...)\n",
    "itinerary_df['itinerary_id'] = [f\"it{i+1}\" for i in range(len(itinerary_df))]\n",
    "itinerary_df = itinerary_df[['itinerary_id','itineraries']]\n",
    "itinerary_df"
   ]
  },
  {
   "cell_type": "code",
   "execution_count": 148,
   "metadata": {},
   "outputs": [],
   "source": [
    "itinerary_df.to_csv('postgrs_tables/itinerary.csv', index=False)"
   ]
  },
  {
   "cell_type": "code",
   "execution_count": 149,
   "metadata": {},
   "outputs": [
    {
     "name": "stdout",
     "output_type": "stream",
     "text": [
      "<class 'pandas.core.frame.DataFrame'>\n",
      "RangeIndex: 6327 entries, 0 to 6326\n",
      "Data columns (total 2 columns):\n",
      " #   Column        Non-Null Count  Dtype \n",
      "---  ------        --------------  ----- \n",
      " 0   itinerary_id  6327 non-null   object\n",
      " 1   itineraries   6327 non-null   object\n",
      "dtypes: object(2)\n",
      "memory usage: 99.0+ KB\n"
     ]
    }
   ],
   "source": [
    "itinerary_df.info()"
   ]
  },
  {
   "cell_type": "markdown",
   "metadata": {},
   "source": [
    "# Creating DataFrame for Cabin Class\n",
    "**Primary Key:** `cabin_class_id`"
   ]
  },
  {
   "cell_type": "markdown",
   "metadata": {},
   "source": [
    "### Extracting unique cabin classes from the cabin_class column of flight_price_data"
   ]
  },
  {
   "cell_type": "code",
   "execution_count": 150,
   "metadata": {},
   "outputs": [
    {
     "data": {
      "text/plain": [
       "array(['economy', 'premium_economy', 'business', 'first'], dtype=object)"
      ]
     },
     "execution_count": 150,
     "metadata": {},
     "output_type": "execute_result"
    }
   ],
   "source": [
    "unique_cabin_classes = flight_price_data['cabin_class'].unique()\n",
    "unique_cabin_classes\n"
   ]
  },
  {
   "cell_type": "code",
   "execution_count": 151,
   "metadata": {},
   "outputs": [
    {
     "data": {
      "application/vnd.microsoft.datawrangler.viewer.v0+json": {
       "columns": [
        {
         "name": "index",
         "rawType": "int64",
         "type": "integer"
        },
        {
         "name": "cabin_class_id",
         "rawType": "object",
         "type": "string"
        },
        {
         "name": "cabin_class",
         "rawType": "object",
         "type": "string"
        }
       ],
       "conversionMethod": "pd.DataFrame",
       "ref": "c9d78ac1-775a-45a1-8868-afc4905b9bbe",
       "rows": [
        [
         "0",
         "cc1",
         "economy"
        ],
        [
         "1",
         "cc2",
         "premium_economy"
        ],
        [
         "2",
         "cc3",
         "business"
        ],
        [
         "3",
         "cc4",
         "first"
        ]
       ],
       "shape": {
        "columns": 2,
        "rows": 4
       }
      },
      "text/html": [
       "<div>\n",
       "<style scoped>\n",
       "    .dataframe tbody tr th:only-of-type {\n",
       "        vertical-align: middle;\n",
       "    }\n",
       "\n",
       "    .dataframe tbody tr th {\n",
       "        vertical-align: top;\n",
       "    }\n",
       "\n",
       "    .dataframe thead th {\n",
       "        text-align: right;\n",
       "    }\n",
       "</style>\n",
       "<table border=\"1\" class=\"dataframe\">\n",
       "  <thead>\n",
       "    <tr style=\"text-align: right;\">\n",
       "      <th></th>\n",
       "      <th>cabin_class_id</th>\n",
       "      <th>cabin_class</th>\n",
       "    </tr>\n",
       "  </thead>\n",
       "  <tbody>\n",
       "    <tr>\n",
       "      <th>0</th>\n",
       "      <td>cc1</td>\n",
       "      <td>economy</td>\n",
       "    </tr>\n",
       "    <tr>\n",
       "      <th>1</th>\n",
       "      <td>cc2</td>\n",
       "      <td>premium_economy</td>\n",
       "    </tr>\n",
       "    <tr>\n",
       "      <th>2</th>\n",
       "      <td>cc3</td>\n",
       "      <td>business</td>\n",
       "    </tr>\n",
       "    <tr>\n",
       "      <th>3</th>\n",
       "      <td>cc4</td>\n",
       "      <td>first</td>\n",
       "    </tr>\n",
       "  </tbody>\n",
       "</table>\n",
       "</div>"
      ],
      "text/plain": [
       "  cabin_class_id      cabin_class\n",
       "0            cc1          economy\n",
       "1            cc2  premium_economy\n",
       "2            cc3         business\n",
       "3            cc4            first"
      ]
     },
     "execution_count": 151,
     "metadata": {},
     "output_type": "execute_result"
    }
   ],
   "source": [
    "# Create a DataFrame\n",
    "unique_cabin_classes_df = pd.DataFrame({\"cabin_class\": unique_cabin_classes})\n",
    "unique_cabin_classes_df\n",
    "# Add a new column with sequential labels ('cc1', 'cc2', ...)\n",
    "unique_cabin_classes_df['cabin_class_id'] = [f\"cc{i+1}\" for i in range(len(unique_cabin_classes_df))]\n",
    "unique_cabin_classes_df = unique_cabin_classes_df[['cabin_class_id','cabin_class']]\n",
    "unique_cabin_classes_df"
   ]
  },
  {
   "cell_type": "code",
   "execution_count": 152,
   "metadata": {},
   "outputs": [
    {
     "name": "stdout",
     "output_type": "stream",
     "text": [
      "Data is valid!\n"
     ]
    }
   ],
   "source": [
    "# Validation for cabin_class\n",
    "# we have unique_cabin_classes_df ready\n",
    "# define schema\n",
    "schema = pa.DataFrameSchema({\n",
    "    \"cabin_class_id\": pa.Column(str, checks=pa.Check.str_length(min_value=3, max_value=4)),\n",
    "    \"cabin_class\": pa.Column(str, checks=pa.Check.str_length(min_value=5, max_value=15))\n",
    "      })\n",
    "\n",
    "# Validate the dataframe\n",
    "try:\n",
    "    schema.validate(unique_cabin_classes_df)\n",
    "    print(\"Data is valid!\")\n",
    "    unique_cabin_classes_df = schema(unique_cabin_classes_df)\n",
    "except pa.errors.SchemaError as e:\n",
    "    print(f\"Data validation error: {e}\")"
   ]
  },
  {
   "cell_type": "code",
   "execution_count": 153,
   "metadata": {},
   "outputs": [],
   "source": [
    "unique_cabin_classes_df.to_csv('postgrs_tables/cabin_class.csv', index=False)"
   ]
  },
  {
   "cell_type": "markdown",
   "metadata": {},
   "source": [
    "# Creating DataFrame for Airports\n",
    "**Primary Key:** `airport_id`"
   ]
  },
  {
   "cell_type": "code",
   "execution_count": 154,
   "metadata": {},
   "outputs": [
    {
     "data": {
      "application/vnd.microsoft.datawrangler.viewer.v0+json": {
       "columns": [
        {
         "name": "index",
         "rawType": "int64",
         "type": "integer"
        },
        {
         "name": "name",
         "rawType": "object",
         "type": "string"
        },
        {
         "name": "iata code",
         "rawType": "object",
         "type": "string"
        },
        {
         "name": "country",
         "rawType": "object",
         "type": "string"
        },
        {
         "name": "city",
         "rawType": "object",
         "type": "string"
        },
        {
         "name": "latitude",
         "rawType": "float64",
         "type": "float"
        },
        {
         "name": "longitude",
         "rawType": "float64",
         "type": "float"
        },
        {
         "name": "timezone",
         "rawType": "object",
         "type": "string"
        },
        {
         "name": "departures",
         "rawType": "int64",
         "type": "integer"
        }
       ],
       "conversionMethod": "pd.DataFrame",
       "ref": "839bfc9d-ef83-4494-969c-765828ecdec0",
       "rows": [
        [
         "0",
         "Billy Bishop Toronto City Airport",
         "YTZ",
         "CA",
         "Toronto",
         "43.62974",
         "-79.39828",
         "EST",
         "752"
        ],
        [
         "1",
         "Kitchener/Waterloo Airport",
         "YKF",
         "CA",
         "Breslau",
         "43.45747",
         "-80.38593",
         "EST",
         "454"
        ],
        [
         "2",
         "Montreal-Pierre Elliott Trudeau International Airport",
         "YUL",
         "CA",
         "Montreal",
         "45.46106",
         "-73.75019",
         "EST",
         "35190"
        ],
        [
         "3",
         "Ottawa Macdonald-Cartier International Airport",
         "YOW",
         "CA",
         "Ottawa",
         "45.3225",
         "-75.66917",
         "EST",
         "10293"
        ],
        [
         "4",
         "Toronto Pearson International Airport",
         "YYZ",
         "CA",
         "Toronto",
         "43.68066",
         "-79.61286",
         "EST",
         "72355"
        ],
        [
         "5",
         "Chicago O'Hare International Airport",
         "ORD",
         "US",
         "Chicago",
         "41.97959",
         "-87.90446",
         "CST",
         "177167"
        ],
        [
         "6",
         "Dallas/Fort Worth International Airport",
         "DFW",
         "US",
         "Dallas-Ft Worth",
         "32.89595",
         "-97.0372",
         "CST",
         "172447"
        ],
        [
         "7",
         "Denver International Airport",
         "DEN",
         "US",
         "Denver",
         "39.85891",
         "-104.67326",
         "MST",
         "100565"
        ],
        [
         "8",
         "Hartsfield-Jackson Atlanta International Airport",
         "ATL",
         "US",
         "Atlanta",
         "33.64099",
         "-84.42265",
         "EST",
         "168164"
        ],
        [
         "9",
         "Los Angeles International Airport",
         "LAX",
         "US",
         "Los Angeles",
         "33.94251",
         "-118.40897",
         "PST",
         "112571"
        ]
       ],
       "shape": {
        "columns": 8,
        "rows": 10
       }
      },
      "text/html": [
       "<div>\n",
       "<style scoped>\n",
       "    .dataframe tbody tr th:only-of-type {\n",
       "        vertical-align: middle;\n",
       "    }\n",
       "\n",
       "    .dataframe tbody tr th {\n",
       "        vertical-align: top;\n",
       "    }\n",
       "\n",
       "    .dataframe thead th {\n",
       "        text-align: right;\n",
       "    }\n",
       "</style>\n",
       "<table border=\"1\" class=\"dataframe\">\n",
       "  <thead>\n",
       "    <tr style=\"text-align: right;\">\n",
       "      <th></th>\n",
       "      <th>name</th>\n",
       "      <th>iata code</th>\n",
       "      <th>country</th>\n",
       "      <th>city</th>\n",
       "      <th>latitude</th>\n",
       "      <th>longitude</th>\n",
       "      <th>timezone</th>\n",
       "      <th>departures</th>\n",
       "    </tr>\n",
       "  </thead>\n",
       "  <tbody>\n",
       "    <tr>\n",
       "      <th>0</th>\n",
       "      <td>Billy Bishop Toronto City Airport</td>\n",
       "      <td>YTZ</td>\n",
       "      <td>CA</td>\n",
       "      <td>Toronto</td>\n",
       "      <td>43.62974</td>\n",
       "      <td>-79.39828</td>\n",
       "      <td>EST</td>\n",
       "      <td>752</td>\n",
       "    </tr>\n",
       "    <tr>\n",
       "      <th>1</th>\n",
       "      <td>Kitchener/Waterloo Airport</td>\n",
       "      <td>YKF</td>\n",
       "      <td>CA</td>\n",
       "      <td>Breslau</td>\n",
       "      <td>43.45747</td>\n",
       "      <td>-80.38593</td>\n",
       "      <td>EST</td>\n",
       "      <td>454</td>\n",
       "    </tr>\n",
       "    <tr>\n",
       "      <th>2</th>\n",
       "      <td>Montreal-Pierre Elliott Trudeau International ...</td>\n",
       "      <td>YUL</td>\n",
       "      <td>CA</td>\n",
       "      <td>Montreal</td>\n",
       "      <td>45.46106</td>\n",
       "      <td>-73.75019</td>\n",
       "      <td>EST</td>\n",
       "      <td>35190</td>\n",
       "    </tr>\n",
       "    <tr>\n",
       "      <th>3</th>\n",
       "      <td>Ottawa Macdonald-Cartier International Airport</td>\n",
       "      <td>YOW</td>\n",
       "      <td>CA</td>\n",
       "      <td>Ottawa</td>\n",
       "      <td>45.32250</td>\n",
       "      <td>-75.66917</td>\n",
       "      <td>EST</td>\n",
       "      <td>10293</td>\n",
       "    </tr>\n",
       "    <tr>\n",
       "      <th>4</th>\n",
       "      <td>Toronto Pearson International Airport</td>\n",
       "      <td>YYZ</td>\n",
       "      <td>CA</td>\n",
       "      <td>Toronto</td>\n",
       "      <td>43.68066</td>\n",
       "      <td>-79.61286</td>\n",
       "      <td>EST</td>\n",
       "      <td>72355</td>\n",
       "    </tr>\n",
       "    <tr>\n",
       "      <th>5</th>\n",
       "      <td>Chicago O'Hare International Airport</td>\n",
       "      <td>ORD</td>\n",
       "      <td>US</td>\n",
       "      <td>Chicago</td>\n",
       "      <td>41.97959</td>\n",
       "      <td>-87.90446</td>\n",
       "      <td>CST</td>\n",
       "      <td>177167</td>\n",
       "    </tr>\n",
       "    <tr>\n",
       "      <th>6</th>\n",
       "      <td>Dallas/Fort Worth International Airport</td>\n",
       "      <td>DFW</td>\n",
       "      <td>US</td>\n",
       "      <td>Dallas-Ft Worth</td>\n",
       "      <td>32.89595</td>\n",
       "      <td>-97.03720</td>\n",
       "      <td>CST</td>\n",
       "      <td>172447</td>\n",
       "    </tr>\n",
       "    <tr>\n",
       "      <th>7</th>\n",
       "      <td>Denver International Airport</td>\n",
       "      <td>DEN</td>\n",
       "      <td>US</td>\n",
       "      <td>Denver</td>\n",
       "      <td>39.85891</td>\n",
       "      <td>-104.67326</td>\n",
       "      <td>MST</td>\n",
       "      <td>100565</td>\n",
       "    </tr>\n",
       "    <tr>\n",
       "      <th>8</th>\n",
       "      <td>Hartsfield-Jackson Atlanta International Airport</td>\n",
       "      <td>ATL</td>\n",
       "      <td>US</td>\n",
       "      <td>Atlanta</td>\n",
       "      <td>33.64099</td>\n",
       "      <td>-84.42265</td>\n",
       "      <td>EST</td>\n",
       "      <td>168164</td>\n",
       "    </tr>\n",
       "    <tr>\n",
       "      <th>9</th>\n",
       "      <td>Los Angeles International Airport</td>\n",
       "      <td>LAX</td>\n",
       "      <td>US</td>\n",
       "      <td>Los Angeles</td>\n",
       "      <td>33.94251</td>\n",
       "      <td>-118.40897</td>\n",
       "      <td>PST</td>\n",
       "      <td>112571</td>\n",
       "    </tr>\n",
       "  </tbody>\n",
       "</table>\n",
       "</div>"
      ],
      "text/plain": [
       "                                                name iata code country  \\\n",
       "0                  Billy Bishop Toronto City Airport       YTZ      CA   \n",
       "1                         Kitchener/Waterloo Airport       YKF      CA   \n",
       "2  Montreal-Pierre Elliott Trudeau International ...       YUL      CA   \n",
       "3     Ottawa Macdonald-Cartier International Airport       YOW      CA   \n",
       "4              Toronto Pearson International Airport       YYZ      CA   \n",
       "5               Chicago O'Hare International Airport       ORD      US   \n",
       "6            Dallas/Fort Worth International Airport       DFW      US   \n",
       "7                       Denver International Airport       DEN      US   \n",
       "8   Hartsfield-Jackson Atlanta International Airport       ATL      US   \n",
       "9                  Los Angeles International Airport       LAX      US   \n",
       "\n",
       "              city  latitude  longitude timezone  departures  \n",
       "0          Toronto  43.62974  -79.39828      EST         752  \n",
       "1          Breslau  43.45747  -80.38593      EST         454  \n",
       "2         Montreal  45.46106  -73.75019      EST       35190  \n",
       "3           Ottawa  45.32250  -75.66917      EST       10293  \n",
       "4          Toronto  43.68066  -79.61286      EST       72355  \n",
       "5          Chicago  41.97959  -87.90446      CST      177167  \n",
       "6  Dallas-Ft Worth  32.89595  -97.03720      CST      172447  \n",
       "7           Denver  39.85891 -104.67326      MST      100565  \n",
       "8          Atlanta  33.64099  -84.42265      EST      168164  \n",
       "9      Los Angeles  33.94251 -118.40897      PST      112571  "
      ]
     },
     "execution_count": 154,
     "metadata": {},
     "output_type": "execute_result"
    }
   ],
   "source": [
    "# Read in cleaned_extracted_airports csv file\n",
    "airports_df = pd.read_csv('cleaning_output/cleaned_extracted_airports.csv')\n",
    "airports_df"
   ]
  },
  {
   "cell_type": "code",
   "execution_count": 155,
   "metadata": {},
   "outputs": [
    {
     "data": {
      "application/vnd.microsoft.datawrangler.viewer.v0+json": {
       "columns": [
        {
         "name": "index",
         "rawType": "int64",
         "type": "integer"
        },
        {
         "name": "name",
         "rawType": "object",
         "type": "string"
        },
        {
         "name": "iata code",
         "rawType": "object",
         "type": "string"
        },
        {
         "name": "country",
         "rawType": "object",
         "type": "string"
        },
        {
         "name": "city",
         "rawType": "object",
         "type": "string"
        },
        {
         "name": "latitude",
         "rawType": "float64",
         "type": "float"
        },
        {
         "name": "longitude",
         "rawType": "float64",
         "type": "float"
        },
        {
         "name": "timezone",
         "rawType": "object",
         "type": "string"
        },
        {
         "name": "departures",
         "rawType": "int64",
         "type": "integer"
        },
        {
         "name": "airport_id",
         "rawType": "object",
         "type": "string"
        }
       ],
       "conversionMethod": "pd.DataFrame",
       "ref": "5961df49-5c80-4fac-bfdd-80e2c49913b0",
       "rows": [
        [
         "0",
         "Billy Bishop Toronto City Airport",
         "YTZ",
         "CA",
         "Toronto",
         "43.62974",
         "-79.39828",
         "EST",
         "752",
         "ap1"
        ],
        [
         "1",
         "Kitchener/Waterloo Airport",
         "YKF",
         "CA",
         "Breslau",
         "43.45747",
         "-80.38593",
         "EST",
         "454",
         "ap2"
        ],
        [
         "2",
         "Montreal-Pierre Elliott Trudeau International Airport",
         "YUL",
         "CA",
         "Montreal",
         "45.46106",
         "-73.75019",
         "EST",
         "35190",
         "ap3"
        ],
        [
         "3",
         "Ottawa Macdonald-Cartier International Airport",
         "YOW",
         "CA",
         "Ottawa",
         "45.3225",
         "-75.66917",
         "EST",
         "10293",
         "ap4"
        ],
        [
         "4",
         "Toronto Pearson International Airport",
         "YYZ",
         "CA",
         "Toronto",
         "43.68066",
         "-79.61286",
         "EST",
         "72355",
         "ap5"
        ],
        [
         "5",
         "Chicago O'Hare International Airport",
         "ORD",
         "US",
         "Chicago",
         "41.97959",
         "-87.90446",
         "CST",
         "177167",
         "ap6"
        ],
        [
         "6",
         "Dallas/Fort Worth International Airport",
         "DFW",
         "US",
         "Dallas-Ft Worth",
         "32.89595",
         "-97.0372",
         "CST",
         "172447",
         "ap7"
        ],
        [
         "7",
         "Denver International Airport",
         "DEN",
         "US",
         "Denver",
         "39.85891",
         "-104.67326",
         "MST",
         "100565",
         "ap8"
        ],
        [
         "8",
         "Hartsfield-Jackson Atlanta International Airport",
         "ATL",
         "US",
         "Atlanta",
         "33.64099",
         "-84.42265",
         "EST",
         "168164",
         "ap9"
        ],
        [
         "9",
         "Los Angeles International Airport",
         "LAX",
         "US",
         "Los Angeles",
         "33.94251",
         "-118.40897",
         "PST",
         "112571",
         "ap10"
        ]
       ],
       "shape": {
        "columns": 9,
        "rows": 10
       }
      },
      "text/html": [
       "<div>\n",
       "<style scoped>\n",
       "    .dataframe tbody tr th:only-of-type {\n",
       "        vertical-align: middle;\n",
       "    }\n",
       "\n",
       "    .dataframe tbody tr th {\n",
       "        vertical-align: top;\n",
       "    }\n",
       "\n",
       "    .dataframe thead th {\n",
       "        text-align: right;\n",
       "    }\n",
       "</style>\n",
       "<table border=\"1\" class=\"dataframe\">\n",
       "  <thead>\n",
       "    <tr style=\"text-align: right;\">\n",
       "      <th></th>\n",
       "      <th>name</th>\n",
       "      <th>iata code</th>\n",
       "      <th>country</th>\n",
       "      <th>city</th>\n",
       "      <th>latitude</th>\n",
       "      <th>longitude</th>\n",
       "      <th>timezone</th>\n",
       "      <th>departures</th>\n",
       "      <th>airport_id</th>\n",
       "    </tr>\n",
       "  </thead>\n",
       "  <tbody>\n",
       "    <tr>\n",
       "      <th>0</th>\n",
       "      <td>Billy Bishop Toronto City Airport</td>\n",
       "      <td>YTZ</td>\n",
       "      <td>CA</td>\n",
       "      <td>Toronto</td>\n",
       "      <td>43.62974</td>\n",
       "      <td>-79.39828</td>\n",
       "      <td>EST</td>\n",
       "      <td>752</td>\n",
       "      <td>ap1</td>\n",
       "    </tr>\n",
       "    <tr>\n",
       "      <th>1</th>\n",
       "      <td>Kitchener/Waterloo Airport</td>\n",
       "      <td>YKF</td>\n",
       "      <td>CA</td>\n",
       "      <td>Breslau</td>\n",
       "      <td>43.45747</td>\n",
       "      <td>-80.38593</td>\n",
       "      <td>EST</td>\n",
       "      <td>454</td>\n",
       "      <td>ap2</td>\n",
       "    </tr>\n",
       "    <tr>\n",
       "      <th>2</th>\n",
       "      <td>Montreal-Pierre Elliott Trudeau International ...</td>\n",
       "      <td>YUL</td>\n",
       "      <td>CA</td>\n",
       "      <td>Montreal</td>\n",
       "      <td>45.46106</td>\n",
       "      <td>-73.75019</td>\n",
       "      <td>EST</td>\n",
       "      <td>35190</td>\n",
       "      <td>ap3</td>\n",
       "    </tr>\n",
       "    <tr>\n",
       "      <th>3</th>\n",
       "      <td>Ottawa Macdonald-Cartier International Airport</td>\n",
       "      <td>YOW</td>\n",
       "      <td>CA</td>\n",
       "      <td>Ottawa</td>\n",
       "      <td>45.32250</td>\n",
       "      <td>-75.66917</td>\n",
       "      <td>EST</td>\n",
       "      <td>10293</td>\n",
       "      <td>ap4</td>\n",
       "    </tr>\n",
       "    <tr>\n",
       "      <th>4</th>\n",
       "      <td>Toronto Pearson International Airport</td>\n",
       "      <td>YYZ</td>\n",
       "      <td>CA</td>\n",
       "      <td>Toronto</td>\n",
       "      <td>43.68066</td>\n",
       "      <td>-79.61286</td>\n",
       "      <td>EST</td>\n",
       "      <td>72355</td>\n",
       "      <td>ap5</td>\n",
       "    </tr>\n",
       "    <tr>\n",
       "      <th>5</th>\n",
       "      <td>Chicago O'Hare International Airport</td>\n",
       "      <td>ORD</td>\n",
       "      <td>US</td>\n",
       "      <td>Chicago</td>\n",
       "      <td>41.97959</td>\n",
       "      <td>-87.90446</td>\n",
       "      <td>CST</td>\n",
       "      <td>177167</td>\n",
       "      <td>ap6</td>\n",
       "    </tr>\n",
       "    <tr>\n",
       "      <th>6</th>\n",
       "      <td>Dallas/Fort Worth International Airport</td>\n",
       "      <td>DFW</td>\n",
       "      <td>US</td>\n",
       "      <td>Dallas-Ft Worth</td>\n",
       "      <td>32.89595</td>\n",
       "      <td>-97.03720</td>\n",
       "      <td>CST</td>\n",
       "      <td>172447</td>\n",
       "      <td>ap7</td>\n",
       "    </tr>\n",
       "    <tr>\n",
       "      <th>7</th>\n",
       "      <td>Denver International Airport</td>\n",
       "      <td>DEN</td>\n",
       "      <td>US</td>\n",
       "      <td>Denver</td>\n",
       "      <td>39.85891</td>\n",
       "      <td>-104.67326</td>\n",
       "      <td>MST</td>\n",
       "      <td>100565</td>\n",
       "      <td>ap8</td>\n",
       "    </tr>\n",
       "    <tr>\n",
       "      <th>8</th>\n",
       "      <td>Hartsfield-Jackson Atlanta International Airport</td>\n",
       "      <td>ATL</td>\n",
       "      <td>US</td>\n",
       "      <td>Atlanta</td>\n",
       "      <td>33.64099</td>\n",
       "      <td>-84.42265</td>\n",
       "      <td>EST</td>\n",
       "      <td>168164</td>\n",
       "      <td>ap9</td>\n",
       "    </tr>\n",
       "    <tr>\n",
       "      <th>9</th>\n",
       "      <td>Los Angeles International Airport</td>\n",
       "      <td>LAX</td>\n",
       "      <td>US</td>\n",
       "      <td>Los Angeles</td>\n",
       "      <td>33.94251</td>\n",
       "      <td>-118.40897</td>\n",
       "      <td>PST</td>\n",
       "      <td>112571</td>\n",
       "      <td>ap10</td>\n",
       "    </tr>\n",
       "  </tbody>\n",
       "</table>\n",
       "</div>"
      ],
      "text/plain": [
       "                                                name iata code country  \\\n",
       "0                  Billy Bishop Toronto City Airport       YTZ      CA   \n",
       "1                         Kitchener/Waterloo Airport       YKF      CA   \n",
       "2  Montreal-Pierre Elliott Trudeau International ...       YUL      CA   \n",
       "3     Ottawa Macdonald-Cartier International Airport       YOW      CA   \n",
       "4              Toronto Pearson International Airport       YYZ      CA   \n",
       "5               Chicago O'Hare International Airport       ORD      US   \n",
       "6            Dallas/Fort Worth International Airport       DFW      US   \n",
       "7                       Denver International Airport       DEN      US   \n",
       "8   Hartsfield-Jackson Atlanta International Airport       ATL      US   \n",
       "9                  Los Angeles International Airport       LAX      US   \n",
       "\n",
       "              city  latitude  longitude timezone  departures airport_id  \n",
       "0          Toronto  43.62974  -79.39828      EST         752        ap1  \n",
       "1          Breslau  43.45747  -80.38593      EST         454        ap2  \n",
       "2         Montreal  45.46106  -73.75019      EST       35190        ap3  \n",
       "3           Ottawa  45.32250  -75.66917      EST       10293        ap4  \n",
       "4          Toronto  43.68066  -79.61286      EST       72355        ap5  \n",
       "5          Chicago  41.97959  -87.90446      CST      177167        ap6  \n",
       "6  Dallas-Ft Worth  32.89595  -97.03720      CST      172447        ap7  \n",
       "7           Denver  39.85891 -104.67326      MST      100565        ap8  \n",
       "8          Atlanta  33.64099  -84.42265      EST      168164        ap9  \n",
       "9      Los Angeles  33.94251 -118.40897      PST      112571       ap10  "
      ]
     },
     "execution_count": 155,
     "metadata": {},
     "output_type": "execute_result"
    }
   ],
   "source": [
    "# Add airline_id as an index-based unique identifier\n",
    "airports_df['airport_id'] = [f\"ap{i+1}\" for i in range(len(airports_df))]\n",
    "airports_df"
   ]
  },
  {
   "cell_type": "code",
   "execution_count": 156,
   "metadata": {},
   "outputs": [
    {
     "name": "stdout",
     "output_type": "stream",
     "text": [
      "<class 'pandas.core.frame.DataFrame'>\n",
      "RangeIndex: 10 entries, 0 to 9\n",
      "Data columns (total 9 columns):\n",
      " #   Column      Non-Null Count  Dtype  \n",
      "---  ------      --------------  -----  \n",
      " 0   name        10 non-null     object \n",
      " 1   iata code   10 non-null     object \n",
      " 2   country     10 non-null     object \n",
      " 3   city        10 non-null     object \n",
      " 4   latitude    10 non-null     float64\n",
      " 5   longitude   10 non-null     float64\n",
      " 6   timezone    10 non-null     object \n",
      " 7   departures  10 non-null     int64  \n",
      " 8   airport_id  10 non-null     object \n",
      "dtypes: float64(2), int64(1), object(6)\n",
      "memory usage: 848.0+ bytes\n"
     ]
    }
   ],
   "source": [
    "airports_df.info()"
   ]
  },
  {
   "cell_type": "markdown",
   "metadata": {},
   "source": [
    "# Creating DataFrame for Airlines\n",
    "**Primary Key:** `airline_id`"
   ]
  },
  {
   "cell_type": "code",
   "execution_count": 157,
   "metadata": {},
   "outputs": [],
   "source": [
    "# Read in the airlines data\n",
    "airlines_df =  pd.read_csv('cleaning_output/cleaned_extracted_airlines.csv')"
   ]
  },
  {
   "cell_type": "code",
   "execution_count": 158,
   "metadata": {},
   "outputs": [
    {
     "name": "stdout",
     "output_type": "stream",
     "text": [
      "<class 'pandas.core.frame.DataFrame'>\n",
      "RangeIndex: 17 entries, 0 to 16\n",
      "Data columns (total 9 columns):\n",
      " #   Column                Non-Null Count  Dtype  \n",
      "---  ------                --------------  -----  \n",
      " 0   airline_name          17 non-null     object \n",
      " 1   country_code          17 non-null     object \n",
      " 2   iata                  17 non-null     object \n",
      " 3   iosa_registered       17 non-null     bool   \n",
      " 4   iosa_expiry           15 non-null     object \n",
      " 5   is_airline_passenger  17 non-null     bool   \n",
      " 6   total_aircrafts       17 non-null     int64  \n",
      " 7   average_fleet_age     17 non-null     float64\n",
      " 8   accidents_last_5y     17 non-null     int64  \n",
      "dtypes: bool(2), float64(1), int64(2), object(4)\n",
      "memory usage: 1.1+ KB\n"
     ]
    }
   ],
   "source": [
    "airlines_df.info()"
   ]
  },
  {
   "cell_type": "code",
   "execution_count": 159,
   "metadata": {},
   "outputs": [],
   "source": [
    "# Convert to datetime\n",
    "airlines_df['iosa_expiry'] = pd.to_datetime(airlines_df['iosa_expiry'], errors='coerce')\n",
    "# Fill missing value with NAT \n",
    "airlines_df['iosa_expiry'] = airlines_df['iosa_expiry'].fillna(pd.NaT)"
   ]
  },
  {
   "cell_type": "code",
   "execution_count": 160,
   "metadata": {},
   "outputs": [
    {
     "name": "stdout",
     "output_type": "stream",
     "text": [
      "<class 'pandas.core.frame.DataFrame'>\n",
      "RangeIndex: 17 entries, 0 to 16\n",
      "Data columns (total 9 columns):\n",
      " #   Column                Non-Null Count  Dtype              \n",
      "---  ------                --------------  -----              \n",
      " 0   airline_name          17 non-null     object             \n",
      " 1   country_code          17 non-null     object             \n",
      " 2   iata                  17 non-null     object             \n",
      " 3   iosa_registered       17 non-null     bool               \n",
      " 4   iosa_expiry           15 non-null     datetime64[ns, UTC]\n",
      " 5   is_airline_passenger  17 non-null     bool               \n",
      " 6   total_aircrafts       17 non-null     int64              \n",
      " 7   average_fleet_age     17 non-null     float64            \n",
      " 8   accidents_last_5y     17 non-null     int64              \n",
      "dtypes: bool(2), datetime64[ns, UTC](1), float64(1), int64(2), object(3)\n",
      "memory usage: 1.1+ KB\n"
     ]
    }
   ],
   "source": [
    "airlines_df.info()"
   ]
  },
  {
   "cell_type": "code",
   "execution_count": 161,
   "metadata": {},
   "outputs": [
    {
     "data": {
      "application/vnd.microsoft.datawrangler.viewer.v0+json": {
       "columns": [
        {
         "name": "index",
         "rawType": "int64",
         "type": "integer"
        },
        {
         "name": "airline_name",
         "rawType": "object",
         "type": "string"
        },
        {
         "name": "country_code",
         "rawType": "object",
         "type": "string"
        },
        {
         "name": "iata",
         "rawType": "object",
         "type": "string"
        },
        {
         "name": "iosa_registered",
         "rawType": "bool",
         "type": "boolean"
        },
        {
         "name": "iosa_expiry",
         "rawType": "datetime64[ns, UTC]",
         "type": "unknown"
        },
        {
         "name": "is_airline_passenger",
         "rawType": "bool",
         "type": "boolean"
        },
        {
         "name": "total_aircrafts",
         "rawType": "int64",
         "type": "integer"
        },
        {
         "name": "average_fleet_age",
         "rawType": "float64",
         "type": "float"
        },
        {
         "name": "accidents_last_5y",
         "rawType": "int64",
         "type": "integer"
        },
        {
         "name": "airline_id",
         "rawType": "object",
         "type": "string"
        }
       ],
       "conversionMethod": "pd.DataFrame",
       "ref": "27c84197-a02e-4a73-ae59-df58f48d3139",
       "rows": [
        [
         "0",
         "Alaska Airlines",
         "US",
         "AS",
         "True",
         "2025-01-16 00:00:00+00:00",
         "True",
         "158",
         "8.1",
         "1",
         "al1"
        ],
        [
         "1",
         "American Airlines",
         "US",
         "AA",
         "True",
         "2025-07-29 00:00:00+00:00",
         "True",
         "684",
         "10.2",
         "26",
         "al2"
        ],
        [
         "2",
         "Air Canada",
         "CA",
         "AC",
         "True",
         "2024-04-18 00:00:00+00:00",
         "True",
         "98",
         "11.7",
         "0",
         "al3"
        ],
        [
         "3",
         "Delta Air Lines",
         "US",
         "DL",
         "True",
         "2024-10-17 00:00:00+00:00",
         "True",
         "591",
         "12.5",
         "22",
         "al4"
        ],
        [
         "4",
         "Envoy Air",
         "US",
         "MQ",
         "True",
         "2025-11-18 00:00:00+00:00",
         "True",
         "161",
         "9.6",
         "0",
         "al5"
        ],
        [
         "5",
         "Frontier Airlines",
         "US",
         "F9",
         "True",
         "2024-01-03 00:00:00+00:00",
         "True",
         "83",
         "3.0",
         "4",
         "al6"
        ],
        [
         "6",
         "GOL Linhas Aereas Inteligentes",
         "BR",
         "G3",
         "True",
         "2025-11-23 00:00:00+00:00",
         "True",
         "103",
         "10.7",
         "0",
         "al7"
        ],
        [
         "7",
         "Jazz Aviation",
         "CA",
         "QK",
         "True",
         "2024-10-21 00:00:00+00:00",
         "True",
         "85",
         "13.8",
         "3",
         "al8"
        ],
        [
         "8",
         "Lufthansa",
         "DE",
         "LH",
         "True",
         "2026-05-12 00:00:00+00:00",
         "True",
         "131",
         "8.9",
         "1",
         "al9"
        ],
        [
         "9",
         "Porter Airlines Inc",
         "CA",
         "P3",
         "True",
         null,
         "True",
         "1",
         "8.0",
         "0",
         "al10"
        ],
        [
         "10",
         "Porter Airlines",
         "CA",
         "PD",
         "True",
         null,
         "True",
         "1",
         "9.0",
         "0",
         "al11"
        ],
        [
         "11",
         "Republic Airline United Express",
         "US",
         "YX",
         "True",
         "2024-12-12 00:00:00+00:00",
         "True",
         "182",
         "10.1",
         "1",
         "al12"
        ],
        [
         "12",
         "SkyWest Airlines",
         "US",
         "OO",
         "True",
         "2024-09-25 00:00:00+00:00",
         "True",
         "462",
         "10.7",
         "3",
         "al13"
        ],
        [
         "13",
         "Spirit Airlines",
         "US",
         "NK",
         "True",
         "2025-07-30 00:00:00+00:00",
         "True",
         "125",
         "4.1",
         "4",
         "al14"
        ],
        [
         "14",
         "United Airlines",
         "US",
         "UA",
         "True",
         "2025-02-26 00:00:00+00:00",
         "True",
         "502",
         "14.1",
         "12",
         "al15"
        ],
        [
         "15",
         "Westjet",
         "CA",
         "WS",
         "True",
         "2024-11-27 00:00:00+00:00",
         "True",
         "70",
         "9.8",
         "5",
         "al16"
        ],
        [
         "16",
         "American Eagle",
         "US",
         "AA",
         "True",
         "2024-08-02 00:00:00+00:00",
         "True",
         "567",
         "10.0",
         "1",
         "al17"
        ]
       ],
       "shape": {
        "columns": 10,
        "rows": 17
       }
      },
      "text/html": [
       "<div>\n",
       "<style scoped>\n",
       "    .dataframe tbody tr th:only-of-type {\n",
       "        vertical-align: middle;\n",
       "    }\n",
       "\n",
       "    .dataframe tbody tr th {\n",
       "        vertical-align: top;\n",
       "    }\n",
       "\n",
       "    .dataframe thead th {\n",
       "        text-align: right;\n",
       "    }\n",
       "</style>\n",
       "<table border=\"1\" class=\"dataframe\">\n",
       "  <thead>\n",
       "    <tr style=\"text-align: right;\">\n",
       "      <th></th>\n",
       "      <th>airline_name</th>\n",
       "      <th>country_code</th>\n",
       "      <th>iata</th>\n",
       "      <th>iosa_registered</th>\n",
       "      <th>iosa_expiry</th>\n",
       "      <th>is_airline_passenger</th>\n",
       "      <th>total_aircrafts</th>\n",
       "      <th>average_fleet_age</th>\n",
       "      <th>accidents_last_5y</th>\n",
       "      <th>airline_id</th>\n",
       "    </tr>\n",
       "  </thead>\n",
       "  <tbody>\n",
       "    <tr>\n",
       "      <th>0</th>\n",
       "      <td>Alaska Airlines</td>\n",
       "      <td>US</td>\n",
       "      <td>AS</td>\n",
       "      <td>True</td>\n",
       "      <td>2025-01-16 00:00:00+00:00</td>\n",
       "      <td>True</td>\n",
       "      <td>158</td>\n",
       "      <td>8.1</td>\n",
       "      <td>1</td>\n",
       "      <td>al1</td>\n",
       "    </tr>\n",
       "    <tr>\n",
       "      <th>1</th>\n",
       "      <td>American Airlines</td>\n",
       "      <td>US</td>\n",
       "      <td>AA</td>\n",
       "      <td>True</td>\n",
       "      <td>2025-07-29 00:00:00+00:00</td>\n",
       "      <td>True</td>\n",
       "      <td>684</td>\n",
       "      <td>10.2</td>\n",
       "      <td>26</td>\n",
       "      <td>al2</td>\n",
       "    </tr>\n",
       "    <tr>\n",
       "      <th>2</th>\n",
       "      <td>Air Canada</td>\n",
       "      <td>CA</td>\n",
       "      <td>AC</td>\n",
       "      <td>True</td>\n",
       "      <td>2024-04-18 00:00:00+00:00</td>\n",
       "      <td>True</td>\n",
       "      <td>98</td>\n",
       "      <td>11.7</td>\n",
       "      <td>0</td>\n",
       "      <td>al3</td>\n",
       "    </tr>\n",
       "    <tr>\n",
       "      <th>3</th>\n",
       "      <td>Delta Air Lines</td>\n",
       "      <td>US</td>\n",
       "      <td>DL</td>\n",
       "      <td>True</td>\n",
       "      <td>2024-10-17 00:00:00+00:00</td>\n",
       "      <td>True</td>\n",
       "      <td>591</td>\n",
       "      <td>12.5</td>\n",
       "      <td>22</td>\n",
       "      <td>al4</td>\n",
       "    </tr>\n",
       "    <tr>\n",
       "      <th>4</th>\n",
       "      <td>Envoy Air</td>\n",
       "      <td>US</td>\n",
       "      <td>MQ</td>\n",
       "      <td>True</td>\n",
       "      <td>2025-11-18 00:00:00+00:00</td>\n",
       "      <td>True</td>\n",
       "      <td>161</td>\n",
       "      <td>9.6</td>\n",
       "      <td>0</td>\n",
       "      <td>al5</td>\n",
       "    </tr>\n",
       "    <tr>\n",
       "      <th>5</th>\n",
       "      <td>Frontier Airlines</td>\n",
       "      <td>US</td>\n",
       "      <td>F9</td>\n",
       "      <td>True</td>\n",
       "      <td>2024-01-03 00:00:00+00:00</td>\n",
       "      <td>True</td>\n",
       "      <td>83</td>\n",
       "      <td>3.0</td>\n",
       "      <td>4</td>\n",
       "      <td>al6</td>\n",
       "    </tr>\n",
       "    <tr>\n",
       "      <th>6</th>\n",
       "      <td>GOL Linhas Aereas Inteligentes</td>\n",
       "      <td>BR</td>\n",
       "      <td>G3</td>\n",
       "      <td>True</td>\n",
       "      <td>2025-11-23 00:00:00+00:00</td>\n",
       "      <td>True</td>\n",
       "      <td>103</td>\n",
       "      <td>10.7</td>\n",
       "      <td>0</td>\n",
       "      <td>al7</td>\n",
       "    </tr>\n",
       "    <tr>\n",
       "      <th>7</th>\n",
       "      <td>Jazz Aviation</td>\n",
       "      <td>CA</td>\n",
       "      <td>QK</td>\n",
       "      <td>True</td>\n",
       "      <td>2024-10-21 00:00:00+00:00</td>\n",
       "      <td>True</td>\n",
       "      <td>85</td>\n",
       "      <td>13.8</td>\n",
       "      <td>3</td>\n",
       "      <td>al8</td>\n",
       "    </tr>\n",
       "    <tr>\n",
       "      <th>8</th>\n",
       "      <td>Lufthansa</td>\n",
       "      <td>DE</td>\n",
       "      <td>LH</td>\n",
       "      <td>True</td>\n",
       "      <td>2026-05-12 00:00:00+00:00</td>\n",
       "      <td>True</td>\n",
       "      <td>131</td>\n",
       "      <td>8.9</td>\n",
       "      <td>1</td>\n",
       "      <td>al9</td>\n",
       "    </tr>\n",
       "    <tr>\n",
       "      <th>9</th>\n",
       "      <td>Porter Airlines Inc</td>\n",
       "      <td>CA</td>\n",
       "      <td>P3</td>\n",
       "      <td>True</td>\n",
       "      <td>NaT</td>\n",
       "      <td>True</td>\n",
       "      <td>1</td>\n",
       "      <td>8.0</td>\n",
       "      <td>0</td>\n",
       "      <td>al10</td>\n",
       "    </tr>\n",
       "    <tr>\n",
       "      <th>10</th>\n",
       "      <td>Porter Airlines</td>\n",
       "      <td>CA</td>\n",
       "      <td>PD</td>\n",
       "      <td>True</td>\n",
       "      <td>NaT</td>\n",
       "      <td>True</td>\n",
       "      <td>1</td>\n",
       "      <td>9.0</td>\n",
       "      <td>0</td>\n",
       "      <td>al11</td>\n",
       "    </tr>\n",
       "    <tr>\n",
       "      <th>11</th>\n",
       "      <td>Republic Airline United Express</td>\n",
       "      <td>US</td>\n",
       "      <td>YX</td>\n",
       "      <td>True</td>\n",
       "      <td>2024-12-12 00:00:00+00:00</td>\n",
       "      <td>True</td>\n",
       "      <td>182</td>\n",
       "      <td>10.1</td>\n",
       "      <td>1</td>\n",
       "      <td>al12</td>\n",
       "    </tr>\n",
       "    <tr>\n",
       "      <th>12</th>\n",
       "      <td>SkyWest Airlines</td>\n",
       "      <td>US</td>\n",
       "      <td>OO</td>\n",
       "      <td>True</td>\n",
       "      <td>2024-09-25 00:00:00+00:00</td>\n",
       "      <td>True</td>\n",
       "      <td>462</td>\n",
       "      <td>10.7</td>\n",
       "      <td>3</td>\n",
       "      <td>al13</td>\n",
       "    </tr>\n",
       "    <tr>\n",
       "      <th>13</th>\n",
       "      <td>Spirit Airlines</td>\n",
       "      <td>US</td>\n",
       "      <td>NK</td>\n",
       "      <td>True</td>\n",
       "      <td>2025-07-30 00:00:00+00:00</td>\n",
       "      <td>True</td>\n",
       "      <td>125</td>\n",
       "      <td>4.1</td>\n",
       "      <td>4</td>\n",
       "      <td>al14</td>\n",
       "    </tr>\n",
       "    <tr>\n",
       "      <th>14</th>\n",
       "      <td>United Airlines</td>\n",
       "      <td>US</td>\n",
       "      <td>UA</td>\n",
       "      <td>True</td>\n",
       "      <td>2025-02-26 00:00:00+00:00</td>\n",
       "      <td>True</td>\n",
       "      <td>502</td>\n",
       "      <td>14.1</td>\n",
       "      <td>12</td>\n",
       "      <td>al15</td>\n",
       "    </tr>\n",
       "    <tr>\n",
       "      <th>15</th>\n",
       "      <td>Westjet</td>\n",
       "      <td>CA</td>\n",
       "      <td>WS</td>\n",
       "      <td>True</td>\n",
       "      <td>2024-11-27 00:00:00+00:00</td>\n",
       "      <td>True</td>\n",
       "      <td>70</td>\n",
       "      <td>9.8</td>\n",
       "      <td>5</td>\n",
       "      <td>al16</td>\n",
       "    </tr>\n",
       "    <tr>\n",
       "      <th>16</th>\n",
       "      <td>American Eagle</td>\n",
       "      <td>US</td>\n",
       "      <td>AA</td>\n",
       "      <td>True</td>\n",
       "      <td>2024-08-02 00:00:00+00:00</td>\n",
       "      <td>True</td>\n",
       "      <td>567</td>\n",
       "      <td>10.0</td>\n",
       "      <td>1</td>\n",
       "      <td>al17</td>\n",
       "    </tr>\n",
       "  </tbody>\n",
       "</table>\n",
       "</div>"
      ],
      "text/plain": [
       "                       airline_name country_code iata  iosa_registered  \\\n",
       "0                   Alaska Airlines           US   AS             True   \n",
       "1                 American Airlines           US   AA             True   \n",
       "2                        Air Canada           CA   AC             True   \n",
       "3                   Delta Air Lines           US   DL             True   \n",
       "4                         Envoy Air           US   MQ             True   \n",
       "5                 Frontier Airlines           US   F9             True   \n",
       "6    GOL Linhas Aereas Inteligentes           BR   G3             True   \n",
       "7                     Jazz Aviation           CA   QK             True   \n",
       "8                         Lufthansa           DE   LH             True   \n",
       "9               Porter Airlines Inc           CA   P3             True   \n",
       "10                  Porter Airlines           CA   PD             True   \n",
       "11  Republic Airline United Express           US   YX             True   \n",
       "12                 SkyWest Airlines           US   OO             True   \n",
       "13                  Spirit Airlines           US   NK             True   \n",
       "14                  United Airlines           US   UA             True   \n",
       "15                          Westjet           CA   WS             True   \n",
       "16                   American Eagle           US   AA             True   \n",
       "\n",
       "                 iosa_expiry  is_airline_passenger  total_aircrafts  \\\n",
       "0  2025-01-16 00:00:00+00:00                  True              158   \n",
       "1  2025-07-29 00:00:00+00:00                  True              684   \n",
       "2  2024-04-18 00:00:00+00:00                  True               98   \n",
       "3  2024-10-17 00:00:00+00:00                  True              591   \n",
       "4  2025-11-18 00:00:00+00:00                  True              161   \n",
       "5  2024-01-03 00:00:00+00:00                  True               83   \n",
       "6  2025-11-23 00:00:00+00:00                  True              103   \n",
       "7  2024-10-21 00:00:00+00:00                  True               85   \n",
       "8  2026-05-12 00:00:00+00:00                  True              131   \n",
       "9                        NaT                  True                1   \n",
       "10                       NaT                  True                1   \n",
       "11 2024-12-12 00:00:00+00:00                  True              182   \n",
       "12 2024-09-25 00:00:00+00:00                  True              462   \n",
       "13 2025-07-30 00:00:00+00:00                  True              125   \n",
       "14 2025-02-26 00:00:00+00:00                  True              502   \n",
       "15 2024-11-27 00:00:00+00:00                  True               70   \n",
       "16 2024-08-02 00:00:00+00:00                  True              567   \n",
       "\n",
       "    average_fleet_age  accidents_last_5y airline_id  \n",
       "0                 8.1                  1        al1  \n",
       "1                10.2                 26        al2  \n",
       "2                11.7                  0        al3  \n",
       "3                12.5                 22        al4  \n",
       "4                 9.6                  0        al5  \n",
       "5                 3.0                  4        al6  \n",
       "6                10.7                  0        al7  \n",
       "7                13.8                  3        al8  \n",
       "8                 8.9                  1        al9  \n",
       "9                 8.0                  0       al10  \n",
       "10                9.0                  0       al11  \n",
       "11               10.1                  1       al12  \n",
       "12               10.7                  3       al13  \n",
       "13                4.1                  4       al14  \n",
       "14               14.1                 12       al15  \n",
       "15                9.8                  5       al16  \n",
       "16               10.0                  1       al17  "
      ]
     },
     "execution_count": 161,
     "metadata": {},
     "output_type": "execute_result"
    }
   ],
   "source": [
    "# Add airline_id as an index-based unique identifier\n",
    "airlines_df['airline_id'] = [f\"al{i+1}\" for i in range(len(airlines_df))]\n",
    "\n",
    "airlines_df"
   ]
  },
  {
   "cell_type": "code",
   "execution_count": 162,
   "metadata": {},
   "outputs": [
    {
     "name": "stdout",
     "output_type": "stream",
     "text": [
      "<class 'pandas.core.frame.DataFrame'>\n",
      "RangeIndex: 17 entries, 0 to 16\n",
      "Data columns (total 10 columns):\n",
      " #   Column                Non-Null Count  Dtype              \n",
      "---  ------                --------------  -----              \n",
      " 0   airline_name          17 non-null     object             \n",
      " 1   country_code          17 non-null     object             \n",
      " 2   iata                  17 non-null     object             \n",
      " 3   iosa_registered       17 non-null     bool               \n",
      " 4   iosa_expiry           15 non-null     datetime64[ns, UTC]\n",
      " 5   is_airline_passenger  17 non-null     bool               \n",
      " 6   total_aircrafts       17 non-null     int64              \n",
      " 7   average_fleet_age     17 non-null     float64            \n",
      " 8   accidents_last_5y     17 non-null     int64              \n",
      " 9   airline_id            17 non-null     object             \n",
      "dtypes: bool(2), datetime64[ns, UTC](1), float64(1), int64(2), object(4)\n",
      "memory usage: 1.2+ KB\n"
     ]
    }
   ],
   "source": [
    "airlines_df.info()"
   ]
  },
  {
   "cell_type": "code",
   "execution_count": 163,
   "metadata": {},
   "outputs": [
    {
     "data": {
      "application/vnd.microsoft.datawrangler.viewer.v0+json": {
       "columns": [
        {
         "name": "index",
         "rawType": "int64",
         "type": "integer"
        },
        {
         "name": "airline_id",
         "rawType": "object",
         "type": "string"
        },
        {
         "name": "airline_name",
         "rawType": "object",
         "type": "string"
        },
        {
         "name": "iata",
         "rawType": "object",
         "type": "string"
        },
        {
         "name": "country_code",
         "rawType": "object",
         "type": "string"
        },
        {
         "name": "is_airline_passenger",
         "rawType": "bool",
         "type": "boolean"
        },
        {
         "name": "total_aircrafts",
         "rawType": "int64",
         "type": "integer"
        },
        {
         "name": "average_fleet_age",
         "rawType": "float64",
         "type": "float"
        },
        {
         "name": "accidents_last_5y",
         "rawType": "int64",
         "type": "integer"
        },
        {
         "name": "iosa_registered",
         "rawType": "bool",
         "type": "boolean"
        },
        {
         "name": "iosa_expiry",
         "rawType": "datetime64[ns, UTC]",
         "type": "unknown"
        }
       ],
       "conversionMethod": "pd.DataFrame",
       "ref": "e2296afe-bddb-42a4-a7c0-095a930d9c1f",
       "rows": [
        [
         "0",
         "al1",
         "Alaska Airlines",
         "AS",
         "US",
         "True",
         "158",
         "8.1",
         "1",
         "True",
         "2025-01-16 00:00:00+00:00"
        ],
        [
         "1",
         "al2",
         "American Airlines",
         "AA",
         "US",
         "True",
         "684",
         "10.2",
         "26",
         "True",
         "2025-07-29 00:00:00+00:00"
        ],
        [
         "2",
         "al3",
         "Air Canada",
         "AC",
         "CA",
         "True",
         "98",
         "11.7",
         "0",
         "True",
         "2024-04-18 00:00:00+00:00"
        ],
        [
         "3",
         "al4",
         "Delta Air Lines",
         "DL",
         "US",
         "True",
         "591",
         "12.5",
         "22",
         "True",
         "2024-10-17 00:00:00+00:00"
        ],
        [
         "4",
         "al5",
         "Envoy Air",
         "MQ",
         "US",
         "True",
         "161",
         "9.6",
         "0",
         "True",
         "2025-11-18 00:00:00+00:00"
        ]
       ],
       "shape": {
        "columns": 10,
        "rows": 5
       }
      },
      "text/html": [
       "<div>\n",
       "<style scoped>\n",
       "    .dataframe tbody tr th:only-of-type {\n",
       "        vertical-align: middle;\n",
       "    }\n",
       "\n",
       "    .dataframe tbody tr th {\n",
       "        vertical-align: top;\n",
       "    }\n",
       "\n",
       "    .dataframe thead th {\n",
       "        text-align: right;\n",
       "    }\n",
       "</style>\n",
       "<table border=\"1\" class=\"dataframe\">\n",
       "  <thead>\n",
       "    <tr style=\"text-align: right;\">\n",
       "      <th></th>\n",
       "      <th>airline_id</th>\n",
       "      <th>airline_name</th>\n",
       "      <th>iata</th>\n",
       "      <th>country_code</th>\n",
       "      <th>is_airline_passenger</th>\n",
       "      <th>total_aircrafts</th>\n",
       "      <th>average_fleet_age</th>\n",
       "      <th>accidents_last_5y</th>\n",
       "      <th>iosa_registered</th>\n",
       "      <th>iosa_expiry</th>\n",
       "    </tr>\n",
       "  </thead>\n",
       "  <tbody>\n",
       "    <tr>\n",
       "      <th>0</th>\n",
       "      <td>al1</td>\n",
       "      <td>Alaska Airlines</td>\n",
       "      <td>AS</td>\n",
       "      <td>US</td>\n",
       "      <td>True</td>\n",
       "      <td>158</td>\n",
       "      <td>8.1</td>\n",
       "      <td>1</td>\n",
       "      <td>True</td>\n",
       "      <td>2025-01-16 00:00:00+00:00</td>\n",
       "    </tr>\n",
       "    <tr>\n",
       "      <th>1</th>\n",
       "      <td>al2</td>\n",
       "      <td>American Airlines</td>\n",
       "      <td>AA</td>\n",
       "      <td>US</td>\n",
       "      <td>True</td>\n",
       "      <td>684</td>\n",
       "      <td>10.2</td>\n",
       "      <td>26</td>\n",
       "      <td>True</td>\n",
       "      <td>2025-07-29 00:00:00+00:00</td>\n",
       "    </tr>\n",
       "    <tr>\n",
       "      <th>2</th>\n",
       "      <td>al3</td>\n",
       "      <td>Air Canada</td>\n",
       "      <td>AC</td>\n",
       "      <td>CA</td>\n",
       "      <td>True</td>\n",
       "      <td>98</td>\n",
       "      <td>11.7</td>\n",
       "      <td>0</td>\n",
       "      <td>True</td>\n",
       "      <td>2024-04-18 00:00:00+00:00</td>\n",
       "    </tr>\n",
       "    <tr>\n",
       "      <th>3</th>\n",
       "      <td>al4</td>\n",
       "      <td>Delta Air Lines</td>\n",
       "      <td>DL</td>\n",
       "      <td>US</td>\n",
       "      <td>True</td>\n",
       "      <td>591</td>\n",
       "      <td>12.5</td>\n",
       "      <td>22</td>\n",
       "      <td>True</td>\n",
       "      <td>2024-10-17 00:00:00+00:00</td>\n",
       "    </tr>\n",
       "    <tr>\n",
       "      <th>4</th>\n",
       "      <td>al5</td>\n",
       "      <td>Envoy Air</td>\n",
       "      <td>MQ</td>\n",
       "      <td>US</td>\n",
       "      <td>True</td>\n",
       "      <td>161</td>\n",
       "      <td>9.6</td>\n",
       "      <td>0</td>\n",
       "      <td>True</td>\n",
       "      <td>2025-11-18 00:00:00+00:00</td>\n",
       "    </tr>\n",
       "  </tbody>\n",
       "</table>\n",
       "</div>"
      ],
      "text/plain": [
       "  airline_id       airline_name iata country_code  is_airline_passenger  \\\n",
       "0        al1    Alaska Airlines   AS           US                  True   \n",
       "1        al2  American Airlines   AA           US                  True   \n",
       "2        al3         Air Canada   AC           CA                  True   \n",
       "3        al4    Delta Air Lines   DL           US                  True   \n",
       "4        al5          Envoy Air   MQ           US                  True   \n",
       "\n",
       "   total_aircrafts  average_fleet_age  accidents_last_5y  iosa_registered  \\\n",
       "0              158                8.1                  1             True   \n",
       "1              684               10.2                 26             True   \n",
       "2               98               11.7                  0             True   \n",
       "3              591               12.5                 22             True   \n",
       "4              161                9.6                  0             True   \n",
       "\n",
       "                iosa_expiry  \n",
       "0 2025-01-16 00:00:00+00:00  \n",
       "1 2025-07-29 00:00:00+00:00  \n",
       "2 2024-04-18 00:00:00+00:00  \n",
       "3 2024-10-17 00:00:00+00:00  \n",
       "4 2025-11-18 00:00:00+00:00  "
      ]
     },
     "execution_count": 163,
     "metadata": {},
     "output_type": "execute_result"
    }
   ],
   "source": [
    "# Reorder the columns\n",
    "airlines_df=airlines_df[['airline_id','airline_name','iata','country_code','is_airline_passenger','total_aircrafts','average_fleet_age','accidents_last_5y','iosa_registered','iosa_expiry']]\n",
    "airlines_df.head()"
   ]
  },
  {
   "cell_type": "markdown",
   "metadata": {},
   "source": [
    "# Creating DataFrame for Country Code\n",
    "**Primary Key:** `country_id`\n"
   ]
  },
  {
   "cell_type": "code",
   "execution_count": 164,
   "metadata": {},
   "outputs": [
    {
     "data": {
      "text/plain": [
       "array(['US', 'CA', 'BR', 'DE'], dtype=object)"
      ]
     },
     "execution_count": 164,
     "metadata": {},
     "output_type": "execute_result"
    }
   ],
   "source": [
    "# Read in unique country code from airlines dataframe\n",
    "unique_country_code = airlines_df['country_code'].unique()\n",
    "unique_country_code"
   ]
  },
  {
   "cell_type": "code",
   "execution_count": 165,
   "metadata": {},
   "outputs": [
    {
     "data": {
      "application/vnd.microsoft.datawrangler.viewer.v0+json": {
       "columns": [
        {
         "name": "index",
         "rawType": "int64",
         "type": "integer"
        },
        {
         "name": "country_code_id",
         "rawType": "object",
         "type": "string"
        },
        {
         "name": "country_code",
         "rawType": "object",
         "type": "string"
        }
       ],
       "conversionMethod": "pd.DataFrame",
       "ref": "1771985c-2719-4b88-93aa-4b726ca4a197",
       "rows": [
        [
         "0",
         "coc1",
         "US"
        ],
        [
         "1",
         "coc2",
         "CA"
        ],
        [
         "2",
         "coc3",
         "BR"
        ],
        [
         "3",
         "coc4",
         "DE"
        ]
       ],
       "shape": {
        "columns": 2,
        "rows": 4
       }
      },
      "text/html": [
       "<div>\n",
       "<style scoped>\n",
       "    .dataframe tbody tr th:only-of-type {\n",
       "        vertical-align: middle;\n",
       "    }\n",
       "\n",
       "    .dataframe tbody tr th {\n",
       "        vertical-align: top;\n",
       "    }\n",
       "\n",
       "    .dataframe thead th {\n",
       "        text-align: right;\n",
       "    }\n",
       "</style>\n",
       "<table border=\"1\" class=\"dataframe\">\n",
       "  <thead>\n",
       "    <tr style=\"text-align: right;\">\n",
       "      <th></th>\n",
       "      <th>country_code_id</th>\n",
       "      <th>country_code</th>\n",
       "    </tr>\n",
       "  </thead>\n",
       "  <tbody>\n",
       "    <tr>\n",
       "      <th>0</th>\n",
       "      <td>coc1</td>\n",
       "      <td>US</td>\n",
       "    </tr>\n",
       "    <tr>\n",
       "      <th>1</th>\n",
       "      <td>coc2</td>\n",
       "      <td>CA</td>\n",
       "    </tr>\n",
       "    <tr>\n",
       "      <th>2</th>\n",
       "      <td>coc3</td>\n",
       "      <td>BR</td>\n",
       "    </tr>\n",
       "    <tr>\n",
       "      <th>3</th>\n",
       "      <td>coc4</td>\n",
       "      <td>DE</td>\n",
       "    </tr>\n",
       "  </tbody>\n",
       "</table>\n",
       "</div>"
      ],
      "text/plain": [
       "  country_code_id country_code\n",
       "0            coc1           US\n",
       "1            coc2           CA\n",
       "2            coc3           BR\n",
       "3            coc4           DE"
      ]
     },
     "execution_count": 165,
     "metadata": {},
     "output_type": "execute_result"
    }
   ],
   "source": [
    "# Create a DataFrame\n",
    "unique_country_code = pd.DataFrame({\"country_code\": unique_country_code})\n",
    "unique_country_code\n",
    "# Add a new column with sequential labels ('cc1', 'cc2', ...)\n",
    "unique_country_code['country_code_id'] = [f\"coc{i+1}\" for i in range(len(unique_country_code))]\n",
    "unique_country_code = unique_country_code[['country_code_id','country_code']]\n",
    "unique_country_code"
   ]
  },
  {
   "cell_type": "code",
   "execution_count": 204,
   "metadata": {},
   "outputs": [
    {
     "name": "stdout",
     "output_type": "stream",
     "text": [
      "Data is valid!\n"
     ]
    }
   ],
   "source": [
    "# dataframe to validate \n",
    "# we have unique_country_code ready\n",
    "# define schema\n",
    "schema = pa.DataFrameSchema({\n",
    "    \"country_code_id\": pa.Column(str,unique=True),\n",
    "    \"country_code\": pa.Column(str)   \n",
    "      })\n",
    "\n",
    "# Validate the dataframe\n",
    "try:\n",
    "    schema.validate(unique_country_code)\n",
    "    print(\"Data is valid!\")\n",
    "    unique_country_code = schema(unique_country_code)\n",
    "except pa.errors.SchemaError as e:\n",
    "    print(f\"Data validation error: {e}\")"
   ]
  },
  {
   "cell_type": "code",
   "execution_count": 205,
   "metadata": {},
   "outputs": [],
   "source": [
    "unique_country_code.to_csv('postgrs_tables/country_code.csv',index=False)"
   ]
  },
  {
   "cell_type": "markdown",
   "metadata": {},
   "source": [
    "# Creating DataFrame for Flight Numbers\n",
    "**Primary Key:** `flight_id`"
   ]
  },
  {
   "cell_type": "code",
   "execution_count": 168,
   "metadata": {},
   "outputs": [
    {
     "data": {
      "text/plain": [
       "array([6340, 6482, 2205, 2662, 2988,  414, 2835, 3993, 1111, 1169, 8019,\n",
       "       8130, 4731, 2257, 3524,  481, 3608,  550,  611,  921, 1538,  307,\n",
       "       1109, 2714,  818, 8135, 6768, 6499, 2499, 3606, 7789, 6498,  374,\n",
       "       8533, 3449, 5578, 2290, 1031, 1033, 4476, 4408, 4854, 4990, 5521,\n",
       "        894, 8813, 5143, 4888, 5634, 3610, 2281,  598, 6536, 5141, 5186,\n",
       "       8901, 3658, 2259, 2217, 2710, 3604,  436, 7106, 8720, 8742, 2249,\n",
       "        505, 4235, 7129, 4902, 3371, 6502,  420, 7968, 5137, 5481, 2219,\n",
       "       2461,  920,  961, 1993, 8156, 8169, 1491, 3499,  490, 1297, 3605,\n",
       "        793, 1290, 1555, 8080, 1029,  507,  503, 3132, 8903, 1071, 1053,\n",
       "       3078, 5588, 8909, 4770, 2346,   31, 4530, 8779, 6999, 6479, 6931,\n",
       "       8278, 2421, 8078, 3170, 3297, 1239, 2999,  501, 1893, 3102, 1401,\n",
       "       1914, 2862, 2868, 1213, 2247, 1961, 1390, 1642,  416, 2483, 2473,\n",
       "       2463, 2459, 2485, 4238, 2156, 1841, 2536, 1362, 8307, 3444, 3489,\n",
       "        516, 8085, 2364, 8694, 1193, 1371, 1856, 8600, 6330, 6980, 1102,\n",
       "       8497, 7992, 8794, 1041, 3676, 2124, 3093, 5783,  418, 7916,  932,\n",
       "       1559, 2839,  157,  163, 2333, 3542, 5345, 2201, 4246, 6176, 5697,\n",
       "       2684, 2565, 3611,  663, 3212, 3241, 1175, 1044, 3529, 3064, 8535,\n",
       "       8538, 6638, 2451, 2079, 2221, 1777, 2429, 3142], dtype=int64)"
      ]
     },
     "execution_count": 168,
     "metadata": {},
     "output_type": "execute_result"
    }
   ],
   "source": [
    "# Get unique flight numbers from flight price data\n",
    "unique_flights = flight_price_data['flight_number'].unique()\n",
    "unique_flights"
   ]
  },
  {
   "cell_type": "code",
   "execution_count": 169,
   "metadata": {},
   "outputs": [],
   "source": [
    "\n",
    "# Create a DataFrame properly\n",
    "unique_flights_df = pd.DataFrame({\"flight_number\": unique_flights})\n",
    "\n",
    "# Add a new column with sequential labels ('fl1', 'fl2', ...)\n",
    "unique_flights_df['flight_id'] = [f\"{i+1}\" for i in range(len(unique_flights_df))]\n",
    "# Reorder columns\n",
    "unique_flights_df = unique_flights_df[['flight_id','flight_number']]\n",
    "\n",
    "#Convert it into int type\n",
    "unique_flights_df['flight_id'] = unique_flights_df['flight_id'].astype('int64')"
   ]
  },
  {
   "cell_type": "code",
   "execution_count": 170,
   "metadata": {},
   "outputs": [
    {
     "name": "stdout",
     "output_type": "stream",
     "text": [
      "<class 'pandas.core.frame.DataFrame'>\n",
      "RangeIndex: 195 entries, 0 to 194\n",
      "Data columns (total 2 columns):\n",
      " #   Column         Non-Null Count  Dtype\n",
      "---  ------         --------------  -----\n",
      " 0   flight_id      195 non-null    int64\n",
      " 1   flight_number  195 non-null    int64\n",
      "dtypes: int64(2)\n",
      "memory usage: 3.2 KB\n"
     ]
    }
   ],
   "source": [
    "unique_flights_df.info()"
   ]
  },
  {
   "cell_type": "code",
   "execution_count": 207,
   "metadata": {},
   "outputs": [
    {
     "name": "stdout",
     "output_type": "stream",
     "text": [
      "Data is valid!\n"
     ]
    }
   ],
   "source": [
    "# dataframe to validate \n",
    "# we have unique_flights_df ready\n",
    "# define schema\n",
    "schema = pa.DataFrameSchema({\n",
    "    \"flight_id\": pa.Column(int,unique=True),\n",
    "    \"flight_number\": pa.Column(int, unique=True)   \n",
    "      })\n",
    "\n",
    "# Validate the dataframe\n",
    "try:\n",
    "    schema.validate(unique_flights_df)\n",
    "    print(\"Data is valid!\")\n",
    "    unique_flights_df = schema(unique_flights_df)\n",
    "except pa.errors.SchemaError as e:\n",
    "    print(f\"Data validation error: {e}\")"
   ]
  },
  {
   "cell_type": "code",
   "execution_count": 208,
   "metadata": {},
   "outputs": [],
   "source": [
    "unique_flights_df.to_csv('postgrs_tables/unique_flights.csv',index=False)"
   ]
  },
  {
   "cell_type": "markdown",
   "metadata": {},
   "source": [
    "# Merge airport with country_code"
   ]
  },
  {
   "cell_type": "code",
   "execution_count": 172,
   "metadata": {},
   "outputs": [
    {
     "data": {
      "application/vnd.microsoft.datawrangler.viewer.v0+json": {
       "columns": [
        {
         "name": "index",
         "rawType": "int64",
         "type": "integer"
        },
        {
         "name": "name",
         "rawType": "object",
         "type": "string"
        },
        {
         "name": "iata code",
         "rawType": "object",
         "type": "string"
        },
        {
         "name": "country",
         "rawType": "object",
         "type": "string"
        },
        {
         "name": "city",
         "rawType": "object",
         "type": "string"
        },
        {
         "name": "latitude",
         "rawType": "float64",
         "type": "float"
        },
        {
         "name": "longitude",
         "rawType": "float64",
         "type": "float"
        },
        {
         "name": "timezone",
         "rawType": "object",
         "type": "string"
        },
        {
         "name": "departures",
         "rawType": "int64",
         "type": "integer"
        },
        {
         "name": "airport_id",
         "rawType": "object",
         "type": "string"
        },
        {
         "name": "country_code_id",
         "rawType": "object",
         "type": "string"
        },
        {
         "name": "country_code",
         "rawType": "object",
         "type": "string"
        }
       ],
       "conversionMethod": "pd.DataFrame",
       "ref": "4da843bd-9e2e-4b2a-a95b-db3ed3590c58",
       "rows": [
        [
         "0",
         "Billy Bishop Toronto City Airport",
         "YTZ",
         "CA",
         "Toronto",
         "43.62974",
         "-79.39828",
         "EST",
         "752",
         "ap1",
         "coc2",
         "CA"
        ],
        [
         "1",
         "Kitchener/Waterloo Airport",
         "YKF",
         "CA",
         "Breslau",
         "43.45747",
         "-80.38593",
         "EST",
         "454",
         "ap2",
         "coc2",
         "CA"
        ],
        [
         "2",
         "Montreal-Pierre Elliott Trudeau International Airport",
         "YUL",
         "CA",
         "Montreal",
         "45.46106",
         "-73.75019",
         "EST",
         "35190",
         "ap3",
         "coc2",
         "CA"
        ],
        [
         "3",
         "Ottawa Macdonald-Cartier International Airport",
         "YOW",
         "CA",
         "Ottawa",
         "45.3225",
         "-75.66917",
         "EST",
         "10293",
         "ap4",
         "coc2",
         "CA"
        ],
        [
         "4",
         "Toronto Pearson International Airport",
         "YYZ",
         "CA",
         "Toronto",
         "43.68066",
         "-79.61286",
         "EST",
         "72355",
         "ap5",
         "coc2",
         "CA"
        ]
       ],
       "shape": {
        "columns": 11,
        "rows": 5
       }
      },
      "text/html": [
       "<div>\n",
       "<style scoped>\n",
       "    .dataframe tbody tr th:only-of-type {\n",
       "        vertical-align: middle;\n",
       "    }\n",
       "\n",
       "    .dataframe tbody tr th {\n",
       "        vertical-align: top;\n",
       "    }\n",
       "\n",
       "    .dataframe thead th {\n",
       "        text-align: right;\n",
       "    }\n",
       "</style>\n",
       "<table border=\"1\" class=\"dataframe\">\n",
       "  <thead>\n",
       "    <tr style=\"text-align: right;\">\n",
       "      <th></th>\n",
       "      <th>name</th>\n",
       "      <th>iata code</th>\n",
       "      <th>country</th>\n",
       "      <th>city</th>\n",
       "      <th>latitude</th>\n",
       "      <th>longitude</th>\n",
       "      <th>timezone</th>\n",
       "      <th>departures</th>\n",
       "      <th>airport_id</th>\n",
       "      <th>country_code_id</th>\n",
       "      <th>country_code</th>\n",
       "    </tr>\n",
       "  </thead>\n",
       "  <tbody>\n",
       "    <tr>\n",
       "      <th>0</th>\n",
       "      <td>Billy Bishop Toronto City Airport</td>\n",
       "      <td>YTZ</td>\n",
       "      <td>CA</td>\n",
       "      <td>Toronto</td>\n",
       "      <td>43.62974</td>\n",
       "      <td>-79.39828</td>\n",
       "      <td>EST</td>\n",
       "      <td>752</td>\n",
       "      <td>ap1</td>\n",
       "      <td>coc2</td>\n",
       "      <td>CA</td>\n",
       "    </tr>\n",
       "    <tr>\n",
       "      <th>1</th>\n",
       "      <td>Kitchener/Waterloo Airport</td>\n",
       "      <td>YKF</td>\n",
       "      <td>CA</td>\n",
       "      <td>Breslau</td>\n",
       "      <td>43.45747</td>\n",
       "      <td>-80.38593</td>\n",
       "      <td>EST</td>\n",
       "      <td>454</td>\n",
       "      <td>ap2</td>\n",
       "      <td>coc2</td>\n",
       "      <td>CA</td>\n",
       "    </tr>\n",
       "    <tr>\n",
       "      <th>2</th>\n",
       "      <td>Montreal-Pierre Elliott Trudeau International ...</td>\n",
       "      <td>YUL</td>\n",
       "      <td>CA</td>\n",
       "      <td>Montreal</td>\n",
       "      <td>45.46106</td>\n",
       "      <td>-73.75019</td>\n",
       "      <td>EST</td>\n",
       "      <td>35190</td>\n",
       "      <td>ap3</td>\n",
       "      <td>coc2</td>\n",
       "      <td>CA</td>\n",
       "    </tr>\n",
       "    <tr>\n",
       "      <th>3</th>\n",
       "      <td>Ottawa Macdonald-Cartier International Airport</td>\n",
       "      <td>YOW</td>\n",
       "      <td>CA</td>\n",
       "      <td>Ottawa</td>\n",
       "      <td>45.32250</td>\n",
       "      <td>-75.66917</td>\n",
       "      <td>EST</td>\n",
       "      <td>10293</td>\n",
       "      <td>ap4</td>\n",
       "      <td>coc2</td>\n",
       "      <td>CA</td>\n",
       "    </tr>\n",
       "    <tr>\n",
       "      <th>4</th>\n",
       "      <td>Toronto Pearson International Airport</td>\n",
       "      <td>YYZ</td>\n",
       "      <td>CA</td>\n",
       "      <td>Toronto</td>\n",
       "      <td>43.68066</td>\n",
       "      <td>-79.61286</td>\n",
       "      <td>EST</td>\n",
       "      <td>72355</td>\n",
       "      <td>ap5</td>\n",
       "      <td>coc2</td>\n",
       "      <td>CA</td>\n",
       "    </tr>\n",
       "  </tbody>\n",
       "</table>\n",
       "</div>"
      ],
      "text/plain": [
       "                                                name iata code country  \\\n",
       "0                  Billy Bishop Toronto City Airport       YTZ      CA   \n",
       "1                         Kitchener/Waterloo Airport       YKF      CA   \n",
       "2  Montreal-Pierre Elliott Trudeau International ...       YUL      CA   \n",
       "3     Ottawa Macdonald-Cartier International Airport       YOW      CA   \n",
       "4              Toronto Pearson International Airport       YYZ      CA   \n",
       "\n",
       "       city  latitude  longitude timezone  departures airport_id  \\\n",
       "0   Toronto  43.62974  -79.39828      EST         752        ap1   \n",
       "1   Breslau  43.45747  -80.38593      EST         454        ap2   \n",
       "2  Montreal  45.46106  -73.75019      EST       35190        ap3   \n",
       "3    Ottawa  45.32250  -75.66917      EST       10293        ap4   \n",
       "4   Toronto  43.68066  -79.61286      EST       72355        ap5   \n",
       "\n",
       "  country_code_id country_code  \n",
       "0            coc2           CA  \n",
       "1            coc2           CA  \n",
       "2            coc2           CA  \n",
       "3            coc2           CA  \n",
       "4            coc2           CA  "
      ]
     },
     "execution_count": 172,
     "metadata": {},
     "output_type": "execute_result"
    }
   ],
   "source": [
    "airport_data = pd.merge(airports_df,unique_country_code,left_on='country', right_on='country_code', how='left')\n",
    "airport_data.head()"
   ]
  },
  {
   "cell_type": "code",
   "execution_count": 173,
   "metadata": {},
   "outputs": [],
   "source": [
    "# Drop unwanted columnss\n",
    "airport_data.drop(columns=['country','country_code'], errors='ignore', inplace=True)"
   ]
  },
  {
   "cell_type": "code",
   "execution_count": 174,
   "metadata": {},
   "outputs": [
    {
     "data": {
      "application/vnd.microsoft.datawrangler.viewer.v0+json": {
       "columns": [
        {
         "name": "index",
         "rawType": "int64",
         "type": "integer"
        },
        {
         "name": "name",
         "rawType": "object",
         "type": "string"
        },
        {
         "name": "iata code",
         "rawType": "object",
         "type": "string"
        },
        {
         "name": "city",
         "rawType": "object",
         "type": "string"
        },
        {
         "name": "latitude",
         "rawType": "float64",
         "type": "float"
        },
        {
         "name": "longitude",
         "rawType": "float64",
         "type": "float"
        },
        {
         "name": "timezone",
         "rawType": "object",
         "type": "string"
        },
        {
         "name": "departures",
         "rawType": "int64",
         "type": "integer"
        },
        {
         "name": "airport_id",
         "rawType": "object",
         "type": "string"
        },
        {
         "name": "country_code_id",
         "rawType": "object",
         "type": "string"
        }
       ],
       "conversionMethod": "pd.DataFrame",
       "ref": "c9cafafb-1d7c-49ad-b126-70d3a4097b1b",
       "rows": [
        [
         "0",
         "Billy Bishop Toronto City Airport",
         "YTZ",
         "Toronto",
         "43.62974",
         "-79.39828",
         "EST",
         "752",
         "ap1",
         "coc2"
        ],
        [
         "1",
         "Kitchener/Waterloo Airport",
         "YKF",
         "Breslau",
         "43.45747",
         "-80.38593",
         "EST",
         "454",
         "ap2",
         "coc2"
        ],
        [
         "2",
         "Montreal-Pierre Elliott Trudeau International Airport",
         "YUL",
         "Montreal",
         "45.46106",
         "-73.75019",
         "EST",
         "35190",
         "ap3",
         "coc2"
        ],
        [
         "3",
         "Ottawa Macdonald-Cartier International Airport",
         "YOW",
         "Ottawa",
         "45.3225",
         "-75.66917",
         "EST",
         "10293",
         "ap4",
         "coc2"
        ],
        [
         "4",
         "Toronto Pearson International Airport",
         "YYZ",
         "Toronto",
         "43.68066",
         "-79.61286",
         "EST",
         "72355",
         "ap5",
         "coc2"
        ]
       ],
       "shape": {
        "columns": 9,
        "rows": 5
       }
      },
      "text/html": [
       "<div>\n",
       "<style scoped>\n",
       "    .dataframe tbody tr th:only-of-type {\n",
       "        vertical-align: middle;\n",
       "    }\n",
       "\n",
       "    .dataframe tbody tr th {\n",
       "        vertical-align: top;\n",
       "    }\n",
       "\n",
       "    .dataframe thead th {\n",
       "        text-align: right;\n",
       "    }\n",
       "</style>\n",
       "<table border=\"1\" class=\"dataframe\">\n",
       "  <thead>\n",
       "    <tr style=\"text-align: right;\">\n",
       "      <th></th>\n",
       "      <th>name</th>\n",
       "      <th>iata code</th>\n",
       "      <th>city</th>\n",
       "      <th>latitude</th>\n",
       "      <th>longitude</th>\n",
       "      <th>timezone</th>\n",
       "      <th>departures</th>\n",
       "      <th>airport_id</th>\n",
       "      <th>country_code_id</th>\n",
       "    </tr>\n",
       "  </thead>\n",
       "  <tbody>\n",
       "    <tr>\n",
       "      <th>0</th>\n",
       "      <td>Billy Bishop Toronto City Airport</td>\n",
       "      <td>YTZ</td>\n",
       "      <td>Toronto</td>\n",
       "      <td>43.62974</td>\n",
       "      <td>-79.39828</td>\n",
       "      <td>EST</td>\n",
       "      <td>752</td>\n",
       "      <td>ap1</td>\n",
       "      <td>coc2</td>\n",
       "    </tr>\n",
       "    <tr>\n",
       "      <th>1</th>\n",
       "      <td>Kitchener/Waterloo Airport</td>\n",
       "      <td>YKF</td>\n",
       "      <td>Breslau</td>\n",
       "      <td>43.45747</td>\n",
       "      <td>-80.38593</td>\n",
       "      <td>EST</td>\n",
       "      <td>454</td>\n",
       "      <td>ap2</td>\n",
       "      <td>coc2</td>\n",
       "    </tr>\n",
       "    <tr>\n",
       "      <th>2</th>\n",
       "      <td>Montreal-Pierre Elliott Trudeau International ...</td>\n",
       "      <td>YUL</td>\n",
       "      <td>Montreal</td>\n",
       "      <td>45.46106</td>\n",
       "      <td>-73.75019</td>\n",
       "      <td>EST</td>\n",
       "      <td>35190</td>\n",
       "      <td>ap3</td>\n",
       "      <td>coc2</td>\n",
       "    </tr>\n",
       "    <tr>\n",
       "      <th>3</th>\n",
       "      <td>Ottawa Macdonald-Cartier International Airport</td>\n",
       "      <td>YOW</td>\n",
       "      <td>Ottawa</td>\n",
       "      <td>45.32250</td>\n",
       "      <td>-75.66917</td>\n",
       "      <td>EST</td>\n",
       "      <td>10293</td>\n",
       "      <td>ap4</td>\n",
       "      <td>coc2</td>\n",
       "    </tr>\n",
       "    <tr>\n",
       "      <th>4</th>\n",
       "      <td>Toronto Pearson International Airport</td>\n",
       "      <td>YYZ</td>\n",
       "      <td>Toronto</td>\n",
       "      <td>43.68066</td>\n",
       "      <td>-79.61286</td>\n",
       "      <td>EST</td>\n",
       "      <td>72355</td>\n",
       "      <td>ap5</td>\n",
       "      <td>coc2</td>\n",
       "    </tr>\n",
       "  </tbody>\n",
       "</table>\n",
       "</div>"
      ],
      "text/plain": [
       "                                                name iata code      city  \\\n",
       "0                  Billy Bishop Toronto City Airport       YTZ   Toronto   \n",
       "1                         Kitchener/Waterloo Airport       YKF   Breslau   \n",
       "2  Montreal-Pierre Elliott Trudeau International ...       YUL  Montreal   \n",
       "3     Ottawa Macdonald-Cartier International Airport       YOW    Ottawa   \n",
       "4              Toronto Pearson International Airport       YYZ   Toronto   \n",
       "\n",
       "   latitude  longitude timezone  departures airport_id country_code_id  \n",
       "0  43.62974  -79.39828      EST         752        ap1            coc2  \n",
       "1  43.45747  -80.38593      EST         454        ap2            coc2  \n",
       "2  45.46106  -73.75019      EST       35190        ap3            coc2  \n",
       "3  45.32250  -75.66917      EST       10293        ap4            coc2  \n",
       "4  43.68066  -79.61286      EST       72355        ap5            coc2  "
      ]
     },
     "execution_count": 174,
     "metadata": {},
     "output_type": "execute_result"
    }
   ],
   "source": [
    "airport_data.head()"
   ]
  },
  {
   "cell_type": "code",
   "execution_count": 175,
   "metadata": {},
   "outputs": [
    {
     "name": "stdout",
     "output_type": "stream",
     "text": [
      "<class 'pandas.core.frame.DataFrame'>\n",
      "RangeIndex: 10 entries, 0 to 9\n",
      "Data columns (total 9 columns):\n",
      " #   Column           Non-Null Count  Dtype  \n",
      "---  ------           --------------  -----  \n",
      " 0   name             10 non-null     object \n",
      " 1   iata code        10 non-null     object \n",
      " 2   city             10 non-null     object \n",
      " 3   latitude         10 non-null     float64\n",
      " 4   longitude        10 non-null     float64\n",
      " 5   timezone         10 non-null     object \n",
      " 6   departures       10 non-null     int64  \n",
      " 7   airport_id       10 non-null     object \n",
      " 8   country_code_id  10 non-null     object \n",
      "dtypes: float64(2), int64(1), object(6)\n",
      "memory usage: 848.0+ bytes\n"
     ]
    }
   ],
   "source": [
    "airport_data.info()\n",
    "# Getting error for Data Validation for datatype\n",
    "# Convert the 'departures' column to float64\n",
    "airport_data['departures'] = airport_data['departures'].astype(float)\n"
   ]
  },
  {
   "cell_type": "code",
   "execution_count": 209,
   "metadata": {},
   "outputs": [
    {
     "name": "stdout",
     "output_type": "stream",
     "text": [
      "Data is valid!\n"
     ]
    }
   ],
   "source": [
    "# Dataframe to validate \n",
    "# we have filtered_airports_df ready\n",
    "# define schema\n",
    "schema = pa.DataFrameSchema({\n",
    "    \"name\": pa.Column(str), \n",
    "    \"iata code\": pa.Column(str,unique=True),    \n",
    "    \"country_code_id\": pa.Column(str,checks=pa.Check.str_length(max_value=4)),\n",
    "    \"city\": pa.Column(str, checks=Check.isin(['Toronto','Breslau','Montreal','Ottawa','Chicago',\n",
    "                                             'Dallas-Ft Worth','Denver','Atlanta','Atlanta',\n",
    "                                             'Los Angeles'])),\n",
    "    \"latitude\": pa.Column(float, checks=[Check.ge(-90.0), Check.le(90.0)]),  \n",
    "    \"longitude\": pa.Column(float, checks=[Check.ge(-180.0), Check.le(180.0)]),  \n",
    "    \"timezone\": pa.Column(str, checks=pa.Check.str_length(3)),\n",
    "    \"departures\": pa.Column(np.float64, nullable=True)    \n",
    "      })\n",
    "\n",
    "# Validate the dataframe\n",
    "try:\n",
    "    schema.validate(airport_data)\n",
    "    print(\"Data is valid!\")\n",
    "    airports_df = schema(airport_data)\n",
    "except pa.errors.SchemaError as e:\n",
    "    print(f\"Data validation error: {e}\")"
   ]
  },
  {
   "cell_type": "code",
   "execution_count": 177,
   "metadata": {},
   "outputs": [],
   "source": [
    "airport_data.to_csv('postgrs_tables/mapped_airport_data.csv', index=False)"
   ]
  },
  {
   "cell_type": "markdown",
   "metadata": {},
   "source": [
    "# Merge airlines with country code "
   ]
  },
  {
   "cell_type": "code",
   "execution_count": 178,
   "metadata": {},
   "outputs": [
    {
     "data": {
      "application/vnd.microsoft.datawrangler.viewer.v0+json": {
       "columns": [
        {
         "name": "index",
         "rawType": "int64",
         "type": "integer"
        },
        {
         "name": "airline_id",
         "rawType": "object",
         "type": "string"
        },
        {
         "name": "airline_name",
         "rawType": "object",
         "type": "string"
        },
        {
         "name": "iata",
         "rawType": "object",
         "type": "string"
        },
        {
         "name": "country_code",
         "rawType": "object",
         "type": "string"
        },
        {
         "name": "is_airline_passenger",
         "rawType": "bool",
         "type": "boolean"
        },
        {
         "name": "total_aircrafts",
         "rawType": "int64",
         "type": "integer"
        },
        {
         "name": "average_fleet_age",
         "rawType": "float64",
         "type": "float"
        },
        {
         "name": "accidents_last_5y",
         "rawType": "int64",
         "type": "integer"
        },
        {
         "name": "iosa_registered",
         "rawType": "bool",
         "type": "boolean"
        },
        {
         "name": "iosa_expiry",
         "rawType": "datetime64[ns, UTC]",
         "type": "unknown"
        },
        {
         "name": "country_code_id",
         "rawType": "object",
         "type": "string"
        }
       ],
       "conversionMethod": "pd.DataFrame",
       "ref": "35fc3211-cce9-4b88-8af1-b5101d24c198",
       "rows": [
        [
         "0",
         "al1",
         "Alaska Airlines",
         "AS",
         "US",
         "True",
         "158",
         "8.1",
         "1",
         "True",
         "2025-01-16 00:00:00+00:00",
         "coc1"
        ],
        [
         "1",
         "al2",
         "American Airlines",
         "AA",
         "US",
         "True",
         "684",
         "10.2",
         "26",
         "True",
         "2025-07-29 00:00:00+00:00",
         "coc1"
        ],
        [
         "2",
         "al3",
         "Air Canada",
         "AC",
         "CA",
         "True",
         "98",
         "11.7",
         "0",
         "True",
         "2024-04-18 00:00:00+00:00",
         "coc2"
        ],
        [
         "3",
         "al4",
         "Delta Air Lines",
         "DL",
         "US",
         "True",
         "591",
         "12.5",
         "22",
         "True",
         "2024-10-17 00:00:00+00:00",
         "coc1"
        ],
        [
         "4",
         "al5",
         "Envoy Air",
         "MQ",
         "US",
         "True",
         "161",
         "9.6",
         "0",
         "True",
         "2025-11-18 00:00:00+00:00",
         "coc1"
        ]
       ],
       "shape": {
        "columns": 11,
        "rows": 5
       }
      },
      "text/html": [
       "<div>\n",
       "<style scoped>\n",
       "    .dataframe tbody tr th:only-of-type {\n",
       "        vertical-align: middle;\n",
       "    }\n",
       "\n",
       "    .dataframe tbody tr th {\n",
       "        vertical-align: top;\n",
       "    }\n",
       "\n",
       "    .dataframe thead th {\n",
       "        text-align: right;\n",
       "    }\n",
       "</style>\n",
       "<table border=\"1\" class=\"dataframe\">\n",
       "  <thead>\n",
       "    <tr style=\"text-align: right;\">\n",
       "      <th></th>\n",
       "      <th>airline_id</th>\n",
       "      <th>airline_name</th>\n",
       "      <th>iata</th>\n",
       "      <th>country_code</th>\n",
       "      <th>is_airline_passenger</th>\n",
       "      <th>total_aircrafts</th>\n",
       "      <th>average_fleet_age</th>\n",
       "      <th>accidents_last_5y</th>\n",
       "      <th>iosa_registered</th>\n",
       "      <th>iosa_expiry</th>\n",
       "      <th>country_code_id</th>\n",
       "    </tr>\n",
       "  </thead>\n",
       "  <tbody>\n",
       "    <tr>\n",
       "      <th>0</th>\n",
       "      <td>al1</td>\n",
       "      <td>Alaska Airlines</td>\n",
       "      <td>AS</td>\n",
       "      <td>US</td>\n",
       "      <td>True</td>\n",
       "      <td>158</td>\n",
       "      <td>8.1</td>\n",
       "      <td>1</td>\n",
       "      <td>True</td>\n",
       "      <td>2025-01-16 00:00:00+00:00</td>\n",
       "      <td>coc1</td>\n",
       "    </tr>\n",
       "    <tr>\n",
       "      <th>1</th>\n",
       "      <td>al2</td>\n",
       "      <td>American Airlines</td>\n",
       "      <td>AA</td>\n",
       "      <td>US</td>\n",
       "      <td>True</td>\n",
       "      <td>684</td>\n",
       "      <td>10.2</td>\n",
       "      <td>26</td>\n",
       "      <td>True</td>\n",
       "      <td>2025-07-29 00:00:00+00:00</td>\n",
       "      <td>coc1</td>\n",
       "    </tr>\n",
       "    <tr>\n",
       "      <th>2</th>\n",
       "      <td>al3</td>\n",
       "      <td>Air Canada</td>\n",
       "      <td>AC</td>\n",
       "      <td>CA</td>\n",
       "      <td>True</td>\n",
       "      <td>98</td>\n",
       "      <td>11.7</td>\n",
       "      <td>0</td>\n",
       "      <td>True</td>\n",
       "      <td>2024-04-18 00:00:00+00:00</td>\n",
       "      <td>coc2</td>\n",
       "    </tr>\n",
       "    <tr>\n",
       "      <th>3</th>\n",
       "      <td>al4</td>\n",
       "      <td>Delta Air Lines</td>\n",
       "      <td>DL</td>\n",
       "      <td>US</td>\n",
       "      <td>True</td>\n",
       "      <td>591</td>\n",
       "      <td>12.5</td>\n",
       "      <td>22</td>\n",
       "      <td>True</td>\n",
       "      <td>2024-10-17 00:00:00+00:00</td>\n",
       "      <td>coc1</td>\n",
       "    </tr>\n",
       "    <tr>\n",
       "      <th>4</th>\n",
       "      <td>al5</td>\n",
       "      <td>Envoy Air</td>\n",
       "      <td>MQ</td>\n",
       "      <td>US</td>\n",
       "      <td>True</td>\n",
       "      <td>161</td>\n",
       "      <td>9.6</td>\n",
       "      <td>0</td>\n",
       "      <td>True</td>\n",
       "      <td>2025-11-18 00:00:00+00:00</td>\n",
       "      <td>coc1</td>\n",
       "    </tr>\n",
       "  </tbody>\n",
       "</table>\n",
       "</div>"
      ],
      "text/plain": [
       "  airline_id       airline_name iata country_code  is_airline_passenger  \\\n",
       "0        al1    Alaska Airlines   AS           US                  True   \n",
       "1        al2  American Airlines   AA           US                  True   \n",
       "2        al3         Air Canada   AC           CA                  True   \n",
       "3        al4    Delta Air Lines   DL           US                  True   \n",
       "4        al5          Envoy Air   MQ           US                  True   \n",
       "\n",
       "   total_aircrafts  average_fleet_age  accidents_last_5y  iosa_registered  \\\n",
       "0              158                8.1                  1             True   \n",
       "1              684               10.2                 26             True   \n",
       "2               98               11.7                  0             True   \n",
       "3              591               12.5                 22             True   \n",
       "4              161                9.6                  0             True   \n",
       "\n",
       "                iosa_expiry country_code_id  \n",
       "0 2025-01-16 00:00:00+00:00            coc1  \n",
       "1 2025-07-29 00:00:00+00:00            coc1  \n",
       "2 2024-04-18 00:00:00+00:00            coc2  \n",
       "3 2024-10-17 00:00:00+00:00            coc1  \n",
       "4 2025-11-18 00:00:00+00:00            coc1  "
      ]
     },
     "execution_count": 178,
     "metadata": {},
     "output_type": "execute_result"
    }
   ],
   "source": [
    "airline_data = pd.merge(airlines_df,unique_country_code,left_on='country_code', right_on='country_code', how='left')\n",
    "airline_data.head()"
   ]
  },
  {
   "cell_type": "code",
   "execution_count": 179,
   "metadata": {},
   "outputs": [],
   "source": [
    "# Drop unwanted columns\n",
    "airline_data.drop(columns=['country_code'] ,errors='ignore', inplace=True )"
   ]
  },
  {
   "cell_type": "code",
   "execution_count": 180,
   "metadata": {},
   "outputs": [
    {
     "data": {
      "application/vnd.microsoft.datawrangler.viewer.v0+json": {
       "columns": [
        {
         "name": "index",
         "rawType": "int64",
         "type": "integer"
        },
        {
         "name": "airline_id",
         "rawType": "object",
         "type": "string"
        },
        {
         "name": "airline_name",
         "rawType": "object",
         "type": "string"
        },
        {
         "name": "iata",
         "rawType": "object",
         "type": "string"
        },
        {
         "name": "is_airline_passenger",
         "rawType": "bool",
         "type": "boolean"
        },
        {
         "name": "total_aircrafts",
         "rawType": "int64",
         "type": "integer"
        },
        {
         "name": "average_fleet_age",
         "rawType": "float64",
         "type": "float"
        },
        {
         "name": "accidents_last_5y",
         "rawType": "int64",
         "type": "integer"
        },
        {
         "name": "iosa_registered",
         "rawType": "bool",
         "type": "boolean"
        },
        {
         "name": "iosa_expiry",
         "rawType": "datetime64[ns, UTC]",
         "type": "unknown"
        },
        {
         "name": "country_code_id",
         "rawType": "object",
         "type": "string"
        }
       ],
       "conversionMethod": "pd.DataFrame",
       "ref": "9a58b331-df65-455e-8f62-e9dd2001a4db",
       "rows": [
        [
         "0",
         "al1",
         "Alaska Airlines",
         "AS",
         "True",
         "158",
         "8.1",
         "1",
         "True",
         "2025-01-16 00:00:00+00:00",
         "coc1"
        ],
        [
         "1",
         "al2",
         "American Airlines",
         "AA",
         "True",
         "684",
         "10.2",
         "26",
         "True",
         "2025-07-29 00:00:00+00:00",
         "coc1"
        ],
        [
         "2",
         "al3",
         "Air Canada",
         "AC",
         "True",
         "98",
         "11.7",
         "0",
         "True",
         "2024-04-18 00:00:00+00:00",
         "coc2"
        ],
        [
         "3",
         "al4",
         "Delta Air Lines",
         "DL",
         "True",
         "591",
         "12.5",
         "22",
         "True",
         "2024-10-17 00:00:00+00:00",
         "coc1"
        ],
        [
         "4",
         "al5",
         "Envoy Air",
         "MQ",
         "True",
         "161",
         "9.6",
         "0",
         "True",
         "2025-11-18 00:00:00+00:00",
         "coc1"
        ]
       ],
       "shape": {
        "columns": 10,
        "rows": 5
       }
      },
      "text/html": [
       "<div>\n",
       "<style scoped>\n",
       "    .dataframe tbody tr th:only-of-type {\n",
       "        vertical-align: middle;\n",
       "    }\n",
       "\n",
       "    .dataframe tbody tr th {\n",
       "        vertical-align: top;\n",
       "    }\n",
       "\n",
       "    .dataframe thead th {\n",
       "        text-align: right;\n",
       "    }\n",
       "</style>\n",
       "<table border=\"1\" class=\"dataframe\">\n",
       "  <thead>\n",
       "    <tr style=\"text-align: right;\">\n",
       "      <th></th>\n",
       "      <th>airline_id</th>\n",
       "      <th>airline_name</th>\n",
       "      <th>iata</th>\n",
       "      <th>is_airline_passenger</th>\n",
       "      <th>total_aircrafts</th>\n",
       "      <th>average_fleet_age</th>\n",
       "      <th>accidents_last_5y</th>\n",
       "      <th>iosa_registered</th>\n",
       "      <th>iosa_expiry</th>\n",
       "      <th>country_code_id</th>\n",
       "    </tr>\n",
       "  </thead>\n",
       "  <tbody>\n",
       "    <tr>\n",
       "      <th>0</th>\n",
       "      <td>al1</td>\n",
       "      <td>Alaska Airlines</td>\n",
       "      <td>AS</td>\n",
       "      <td>True</td>\n",
       "      <td>158</td>\n",
       "      <td>8.1</td>\n",
       "      <td>1</td>\n",
       "      <td>True</td>\n",
       "      <td>2025-01-16 00:00:00+00:00</td>\n",
       "      <td>coc1</td>\n",
       "    </tr>\n",
       "    <tr>\n",
       "      <th>1</th>\n",
       "      <td>al2</td>\n",
       "      <td>American Airlines</td>\n",
       "      <td>AA</td>\n",
       "      <td>True</td>\n",
       "      <td>684</td>\n",
       "      <td>10.2</td>\n",
       "      <td>26</td>\n",
       "      <td>True</td>\n",
       "      <td>2025-07-29 00:00:00+00:00</td>\n",
       "      <td>coc1</td>\n",
       "    </tr>\n",
       "    <tr>\n",
       "      <th>2</th>\n",
       "      <td>al3</td>\n",
       "      <td>Air Canada</td>\n",
       "      <td>AC</td>\n",
       "      <td>True</td>\n",
       "      <td>98</td>\n",
       "      <td>11.7</td>\n",
       "      <td>0</td>\n",
       "      <td>True</td>\n",
       "      <td>2024-04-18 00:00:00+00:00</td>\n",
       "      <td>coc2</td>\n",
       "    </tr>\n",
       "    <tr>\n",
       "      <th>3</th>\n",
       "      <td>al4</td>\n",
       "      <td>Delta Air Lines</td>\n",
       "      <td>DL</td>\n",
       "      <td>True</td>\n",
       "      <td>591</td>\n",
       "      <td>12.5</td>\n",
       "      <td>22</td>\n",
       "      <td>True</td>\n",
       "      <td>2024-10-17 00:00:00+00:00</td>\n",
       "      <td>coc1</td>\n",
       "    </tr>\n",
       "    <tr>\n",
       "      <th>4</th>\n",
       "      <td>al5</td>\n",
       "      <td>Envoy Air</td>\n",
       "      <td>MQ</td>\n",
       "      <td>True</td>\n",
       "      <td>161</td>\n",
       "      <td>9.6</td>\n",
       "      <td>0</td>\n",
       "      <td>True</td>\n",
       "      <td>2025-11-18 00:00:00+00:00</td>\n",
       "      <td>coc1</td>\n",
       "    </tr>\n",
       "  </tbody>\n",
       "</table>\n",
       "</div>"
      ],
      "text/plain": [
       "  airline_id       airline_name iata  is_airline_passenger  total_aircrafts  \\\n",
       "0        al1    Alaska Airlines   AS                  True              158   \n",
       "1        al2  American Airlines   AA                  True              684   \n",
       "2        al3         Air Canada   AC                  True               98   \n",
       "3        al4    Delta Air Lines   DL                  True              591   \n",
       "4        al5          Envoy Air   MQ                  True              161   \n",
       "\n",
       "   average_fleet_age  accidents_last_5y  iosa_registered  \\\n",
       "0                8.1                  1             True   \n",
       "1               10.2                 26             True   \n",
       "2               11.7                  0             True   \n",
       "3               12.5                 22             True   \n",
       "4                9.6                  0             True   \n",
       "\n",
       "                iosa_expiry country_code_id  \n",
       "0 2025-01-16 00:00:00+00:00            coc1  \n",
       "1 2025-07-29 00:00:00+00:00            coc1  \n",
       "2 2024-04-18 00:00:00+00:00            coc2  \n",
       "3 2024-10-17 00:00:00+00:00            coc1  \n",
       "4 2025-11-18 00:00:00+00:00            coc1  "
      ]
     },
     "execution_count": 180,
     "metadata": {},
     "output_type": "execute_result"
    }
   ],
   "source": [
    "airline_data.head()"
   ]
  },
  {
   "cell_type": "code",
   "execution_count": 181,
   "metadata": {},
   "outputs": [
    {
     "name": "stdout",
     "output_type": "stream",
     "text": [
      "<class 'pandas.core.frame.DataFrame'>\n",
      "RangeIndex: 17 entries, 0 to 16\n",
      "Data columns (total 10 columns):\n",
      " #   Column                Non-Null Count  Dtype              \n",
      "---  ------                --------------  -----              \n",
      " 0   airline_id            17 non-null     object             \n",
      " 1   airline_name          17 non-null     object             \n",
      " 2   iata                  17 non-null     object             \n",
      " 3   is_airline_passenger  17 non-null     bool               \n",
      " 4   total_aircrafts       17 non-null     int64              \n",
      " 5   average_fleet_age     17 non-null     float64            \n",
      " 6   accidents_last_5y     17 non-null     int64              \n",
      " 7   iosa_registered       17 non-null     bool               \n",
      " 8   iosa_expiry           15 non-null     datetime64[ns, UTC]\n",
      " 9   country_code_id       17 non-null     object             \n",
      "dtypes: bool(2), datetime64[ns, UTC](1), float64(1), int64(2), object(4)\n",
      "memory usage: 1.2+ KB\n"
     ]
    }
   ],
   "source": [
    "airline_data.info()"
   ]
  },
  {
   "cell_type": "code",
   "execution_count": 218,
   "metadata": {},
   "outputs": [],
   "source": [
    "# Convert 'iosa_expiry' to naive datetime (remove timezone)\n",
    "airline_data['iosa_expiry'] = airline_data['iosa_expiry'].dt.tz_convert(None)\n",
    "\n",
    "# Convert to datetime64[ns]\n",
    "airline_data['iosa_expiry'] = airline_data['iosa_expiry'].astype('datetime64[ns]')\n"
   ]
  },
  {
   "cell_type": "code",
   "execution_count": 219,
   "metadata": {},
   "outputs": [
    {
     "name": "stdout",
     "output_type": "stream",
     "text": [
      "Data is valid!\n"
     ]
    }
   ],
   "source": [
    "# Airlines Dataframe ready for data validation\n",
    "# dataframe to validate \n",
    "# we have airlines_df ready\n",
    "# define schema\n",
    "schema = pa.DataFrameSchema({\n",
    "    \"airline_id\": pa.Column(str,unique=True),\n",
    "    \"airline_name\": pa.Column(str,unique=True), \n",
    "    \"iata\": pa.Column(str,checks=pa.Check.str_length(max_value=2)),\n",
    "    \"country_code_id\": pa.Column(str,checks=pa.Check.str_length(max_value=4)),\n",
    "    \"is_airline_passenger\": pa.Column(bool),  \n",
    "    \"total_aircrafts\": pa.Column(int),  \n",
    "    \"average_fleet_age\": pa.Column(np.float64),\n",
    "    \"accidents_last_5y\": pa.Column(int),\n",
    "    \"iosa_registered\": pa.Column(bool),\n",
    "    \"iosa_expiry\": pa.Column(pd.Timestamp,nullable=True)\n",
    "                })\n",
    "\n",
    "# Validate the dataframe\n",
    "try:\n",
    "    schema.validate(airline_data)\n",
    "    print(\"Data is valid!\")\n",
    "    airline_data = schema(airline_data)\n",
    "except pa.errors.SchemaError as e:\n",
    "    print(f\"Data validation error: {e}\")"
   ]
  },
  {
   "cell_type": "code",
   "execution_count": 220,
   "metadata": {},
   "outputs": [],
   "source": [
    "airline_data.to_csv('postgrs_tables/mapped_airline_data.csv', index=False)"
   ]
  },
  {
   "cell_type": "markdown",
   "metadata": {},
   "source": [
    "# Creating dataframe for itinerary_details. Here flight number is foreign key to flightid, origin and destination airports are foreign key to airport id , itinerary is foreign key to itinerary_id."
   ]
  },
  {
   "cell_type": "code",
   "execution_count": 183,
   "metadata": {},
   "outputs": [
    {
     "data": {
      "application/vnd.microsoft.datawrangler.viewer.v0+json": {
       "columns": [
        {
         "name": "index",
         "rawType": "int64",
         "type": "integer"
        },
        {
         "name": "itinerary_id",
         "rawType": "object",
         "type": "string"
        },
        {
         "name": "departure_date_time",
         "rawType": "datetime64[ns]",
         "type": "datetime"
        },
        {
         "name": "arrival_date_time",
         "rawType": "datetime64[ns]",
         "type": "datetime"
        },
        {
         "name": "origin_airport",
         "rawType": "object",
         "type": "string"
        },
        {
         "name": "destination_airport",
         "rawType": "object",
         "type": "string"
        },
        {
         "name": "is_self_transfer",
         "rawType": "bool",
         "type": "boolean"
        },
        {
         "name": "flight_number",
         "rawType": "int64",
         "type": "integer"
        }
       ],
       "conversionMethod": "pd.DataFrame",
       "ref": "1b4649e9-1ad7-4deb-a450-cd5e672351b6",
       "rows": [
        [
         "0",
         "18467-2504010745--31679-1-10968-2504011249",
         "2025-04-01 07:45:00",
         "2025-04-01 10:17:00",
         "YYZ",
         "ATL",
         "True",
         "6340"
        ],
        [
         "1",
         "18467-2504010745--31679-1-10968-2504011249",
         "2025-04-01 11:20:00",
         "2025-04-01 12:49:00",
         "ATL",
         "DFW",
         "True",
         "6482"
        ],
        [
         "2",
         "18390-2504010700--31954,-31825-2-10968-2504011735",
         "2025-04-01 07:00:00",
         "2025-04-01 07:59:00",
         "YTZ",
         "YOW",
         "True",
         "2205"
        ],
        [
         "3",
         "18467-2504010615--32385-1-10910-2504011111",
         "2025-04-01 06:15:00",
         "2025-04-01 08:49:00",
         "YYZ",
         "ATL",
         "True",
         "2662"
        ],
        [
         "4",
         "18467-2504010745--32385-1-10968-2504011249",
         "2025-04-01 07:45:00",
         "2025-04-01 10:17:00",
         "YYZ",
         "ATL",
         "True",
         "2988"
        ]
       ],
       "shape": {
        "columns": 7,
        "rows": 5
       }
      },
      "text/html": [
       "<div>\n",
       "<style scoped>\n",
       "    .dataframe tbody tr th:only-of-type {\n",
       "        vertical-align: middle;\n",
       "    }\n",
       "\n",
       "    .dataframe tbody tr th {\n",
       "        vertical-align: top;\n",
       "    }\n",
       "\n",
       "    .dataframe thead th {\n",
       "        text-align: right;\n",
       "    }\n",
       "</style>\n",
       "<table border=\"1\" class=\"dataframe\">\n",
       "  <thead>\n",
       "    <tr style=\"text-align: right;\">\n",
       "      <th></th>\n",
       "      <th>itinerary_id</th>\n",
       "      <th>departure_date_time</th>\n",
       "      <th>arrival_date_time</th>\n",
       "      <th>origin_airport</th>\n",
       "      <th>destination_airport</th>\n",
       "      <th>is_self_transfer</th>\n",
       "      <th>flight_number</th>\n",
       "    </tr>\n",
       "  </thead>\n",
       "  <tbody>\n",
       "    <tr>\n",
       "      <th>0</th>\n",
       "      <td>18467-2504010745--31679-1-10968-2504011249</td>\n",
       "      <td>2025-04-01 07:45:00</td>\n",
       "      <td>2025-04-01 10:17:00</td>\n",
       "      <td>YYZ</td>\n",
       "      <td>ATL</td>\n",
       "      <td>True</td>\n",
       "      <td>6340</td>\n",
       "    </tr>\n",
       "    <tr>\n",
       "      <th>1</th>\n",
       "      <td>18467-2504010745--31679-1-10968-2504011249</td>\n",
       "      <td>2025-04-01 11:20:00</td>\n",
       "      <td>2025-04-01 12:49:00</td>\n",
       "      <td>ATL</td>\n",
       "      <td>DFW</td>\n",
       "      <td>True</td>\n",
       "      <td>6482</td>\n",
       "    </tr>\n",
       "    <tr>\n",
       "      <th>2</th>\n",
       "      <td>18390-2504010700--31954,-31825-2-10968-2504011735</td>\n",
       "      <td>2025-04-01 07:00:00</td>\n",
       "      <td>2025-04-01 07:59:00</td>\n",
       "      <td>YTZ</td>\n",
       "      <td>YOW</td>\n",
       "      <td>True</td>\n",
       "      <td>2205</td>\n",
       "    </tr>\n",
       "    <tr>\n",
       "      <th>3</th>\n",
       "      <td>18467-2504010615--32385-1-10910-2504011111</td>\n",
       "      <td>2025-04-01 06:15:00</td>\n",
       "      <td>2025-04-01 08:49:00</td>\n",
       "      <td>YYZ</td>\n",
       "      <td>ATL</td>\n",
       "      <td>True</td>\n",
       "      <td>2662</td>\n",
       "    </tr>\n",
       "    <tr>\n",
       "      <th>4</th>\n",
       "      <td>18467-2504010745--32385-1-10968-2504011249</td>\n",
       "      <td>2025-04-01 07:45:00</td>\n",
       "      <td>2025-04-01 10:17:00</td>\n",
       "      <td>YYZ</td>\n",
       "      <td>ATL</td>\n",
       "      <td>True</td>\n",
       "      <td>2988</td>\n",
       "    </tr>\n",
       "  </tbody>\n",
       "</table>\n",
       "</div>"
      ],
      "text/plain": [
       "                                        itinerary_id departure_date_time  \\\n",
       "0         18467-2504010745--31679-1-10968-2504011249 2025-04-01 07:45:00   \n",
       "1         18467-2504010745--31679-1-10968-2504011249 2025-04-01 11:20:00   \n",
       "2  18390-2504010700--31954,-31825-2-10968-2504011735 2025-04-01 07:00:00   \n",
       "3         18467-2504010615--32385-1-10910-2504011111 2025-04-01 06:15:00   \n",
       "4         18467-2504010745--32385-1-10968-2504011249 2025-04-01 07:45:00   \n",
       "\n",
       "    arrival_date_time origin_airport destination_airport  is_self_transfer  \\\n",
       "0 2025-04-01 10:17:00            YYZ                 ATL              True   \n",
       "1 2025-04-01 12:49:00            ATL                 DFW              True   \n",
       "2 2025-04-01 07:59:00            YTZ                 YOW              True   \n",
       "3 2025-04-01 08:49:00            YYZ                 ATL              True   \n",
       "4 2025-04-01 10:17:00            YYZ                 ATL              True   \n",
       "\n",
       "   flight_number  \n",
       "0           6340  \n",
       "1           6482  \n",
       "2           2205  \n",
       "3           2662  \n",
       "4           2988  "
      ]
     },
     "execution_count": 183,
     "metadata": {},
     "output_type": "execute_result"
    }
   ],
   "source": [
    "itinerary_details_df = flight_price_data[['itinerary_id','departure_date_time','arrival_date_time','origin_airport','destination_airport','is_self_transfer','flight_number']]\n",
    "itinerary_details_df.head()"
   ]
  },
  {
   "cell_type": "markdown",
   "metadata": {},
   "source": [
    "##### Reordering columns"
   ]
  },
  {
   "cell_type": "code",
   "execution_count": 184,
   "metadata": {},
   "outputs": [
    {
     "data": {
      "application/vnd.microsoft.datawrangler.viewer.v0+json": {
       "columns": [
        {
         "name": "index",
         "rawType": "int64",
         "type": "integer"
        },
        {
         "name": "itinerary_id",
         "rawType": "object",
         "type": "string"
        },
        {
         "name": "flight_number",
         "rawType": "int64",
         "type": "integer"
        },
        {
         "name": "origin_airport",
         "rawType": "object",
         "type": "string"
        },
        {
         "name": "destination_airport",
         "rawType": "object",
         "type": "string"
        },
        {
         "name": "departure_date_time",
         "rawType": "datetime64[ns]",
         "type": "datetime"
        },
        {
         "name": "arrival_date_time",
         "rawType": "datetime64[ns]",
         "type": "datetime"
        },
        {
         "name": "is_self_transfer",
         "rawType": "bool",
         "type": "boolean"
        }
       ],
       "conversionMethod": "pd.DataFrame",
       "ref": "5726da5c-72fa-4d0a-bb7c-2cdac96a7e9b",
       "rows": [
        [
         "0",
         "18467-2504010745--31679-1-10968-2504011249",
         "6340",
         "YYZ",
         "ATL",
         "2025-04-01 07:45:00",
         "2025-04-01 10:17:00",
         "True"
        ],
        [
         "1",
         "18467-2504010745--31679-1-10968-2504011249",
         "6482",
         "ATL",
         "DFW",
         "2025-04-01 11:20:00",
         "2025-04-01 12:49:00",
         "True"
        ],
        [
         "2",
         "18390-2504010700--31954,-31825-2-10968-2504011735",
         "2205",
         "YTZ",
         "YOW",
         "2025-04-01 07:00:00",
         "2025-04-01 07:59:00",
         "True"
        ],
        [
         "3",
         "18467-2504010615--32385-1-10910-2504011111",
         "2662",
         "YYZ",
         "ATL",
         "2025-04-01 06:15:00",
         "2025-04-01 08:49:00",
         "True"
        ],
        [
         "4",
         "18467-2504010745--32385-1-10968-2504011249",
         "2988",
         "YYZ",
         "ATL",
         "2025-04-01 07:45:00",
         "2025-04-01 10:17:00",
         "True"
        ]
       ],
       "shape": {
        "columns": 7,
        "rows": 5
       }
      },
      "text/html": [
       "<div>\n",
       "<style scoped>\n",
       "    .dataframe tbody tr th:only-of-type {\n",
       "        vertical-align: middle;\n",
       "    }\n",
       "\n",
       "    .dataframe tbody tr th {\n",
       "        vertical-align: top;\n",
       "    }\n",
       "\n",
       "    .dataframe thead th {\n",
       "        text-align: right;\n",
       "    }\n",
       "</style>\n",
       "<table border=\"1\" class=\"dataframe\">\n",
       "  <thead>\n",
       "    <tr style=\"text-align: right;\">\n",
       "      <th></th>\n",
       "      <th>itinerary_id</th>\n",
       "      <th>flight_number</th>\n",
       "      <th>origin_airport</th>\n",
       "      <th>destination_airport</th>\n",
       "      <th>departure_date_time</th>\n",
       "      <th>arrival_date_time</th>\n",
       "      <th>is_self_transfer</th>\n",
       "    </tr>\n",
       "  </thead>\n",
       "  <tbody>\n",
       "    <tr>\n",
       "      <th>0</th>\n",
       "      <td>18467-2504010745--31679-1-10968-2504011249</td>\n",
       "      <td>6340</td>\n",
       "      <td>YYZ</td>\n",
       "      <td>ATL</td>\n",
       "      <td>2025-04-01 07:45:00</td>\n",
       "      <td>2025-04-01 10:17:00</td>\n",
       "      <td>True</td>\n",
       "    </tr>\n",
       "    <tr>\n",
       "      <th>1</th>\n",
       "      <td>18467-2504010745--31679-1-10968-2504011249</td>\n",
       "      <td>6482</td>\n",
       "      <td>ATL</td>\n",
       "      <td>DFW</td>\n",
       "      <td>2025-04-01 11:20:00</td>\n",
       "      <td>2025-04-01 12:49:00</td>\n",
       "      <td>True</td>\n",
       "    </tr>\n",
       "    <tr>\n",
       "      <th>2</th>\n",
       "      <td>18390-2504010700--31954,-31825-2-10968-2504011735</td>\n",
       "      <td>2205</td>\n",
       "      <td>YTZ</td>\n",
       "      <td>YOW</td>\n",
       "      <td>2025-04-01 07:00:00</td>\n",
       "      <td>2025-04-01 07:59:00</td>\n",
       "      <td>True</td>\n",
       "    </tr>\n",
       "    <tr>\n",
       "      <th>3</th>\n",
       "      <td>18467-2504010615--32385-1-10910-2504011111</td>\n",
       "      <td>2662</td>\n",
       "      <td>YYZ</td>\n",
       "      <td>ATL</td>\n",
       "      <td>2025-04-01 06:15:00</td>\n",
       "      <td>2025-04-01 08:49:00</td>\n",
       "      <td>True</td>\n",
       "    </tr>\n",
       "    <tr>\n",
       "      <th>4</th>\n",
       "      <td>18467-2504010745--32385-1-10968-2504011249</td>\n",
       "      <td>2988</td>\n",
       "      <td>YYZ</td>\n",
       "      <td>ATL</td>\n",
       "      <td>2025-04-01 07:45:00</td>\n",
       "      <td>2025-04-01 10:17:00</td>\n",
       "      <td>True</td>\n",
       "    </tr>\n",
       "  </tbody>\n",
       "</table>\n",
       "</div>"
      ],
      "text/plain": [
       "                                        itinerary_id  flight_number  \\\n",
       "0         18467-2504010745--31679-1-10968-2504011249           6340   \n",
       "1         18467-2504010745--31679-1-10968-2504011249           6482   \n",
       "2  18390-2504010700--31954,-31825-2-10968-2504011735           2205   \n",
       "3         18467-2504010615--32385-1-10910-2504011111           2662   \n",
       "4         18467-2504010745--32385-1-10968-2504011249           2988   \n",
       "\n",
       "  origin_airport destination_airport departure_date_time   arrival_date_time  \\\n",
       "0            YYZ                 ATL 2025-04-01 07:45:00 2025-04-01 10:17:00   \n",
       "1            ATL                 DFW 2025-04-01 11:20:00 2025-04-01 12:49:00   \n",
       "2            YTZ                 YOW 2025-04-01 07:00:00 2025-04-01 07:59:00   \n",
       "3            YYZ                 ATL 2025-04-01 06:15:00 2025-04-01 08:49:00   \n",
       "4            YYZ                 ATL 2025-04-01 07:45:00 2025-04-01 10:17:00   \n",
       "\n",
       "   is_self_transfer  \n",
       "0              True  \n",
       "1              True  \n",
       "2              True  \n",
       "3              True  \n",
       "4              True  "
      ]
     },
     "execution_count": 184,
     "metadata": {},
     "output_type": "execute_result"
    }
   ],
   "source": [
    "\n",
    "itinerary_details_df=itinerary_details_df[['itinerary_id','flight_number','origin_airport','destination_airport','departure_date_time','arrival_date_time','is_self_transfer']]\n",
    "\n",
    "itinerary_details_df.head()"
   ]
  },
  {
   "cell_type": "code",
   "execution_count": 185,
   "metadata": {},
   "outputs": [],
   "source": [
    "# Convert departure_date_time to datetime format\n",
    "itinerary_details_df['departure_date_time']=pd.to_datetime(itinerary_details_df['departure_date_time'], errors='coerce')"
   ]
  },
  {
   "cell_type": "code",
   "execution_count": 186,
   "metadata": {},
   "outputs": [],
   "source": [
    "# Convert arrival_date_time to datetime format\n",
    "itinerary_details_df['arrival_date_time']=pd.to_datetime(itinerary_details_df['arrival_date_time'], errors='coerce')"
   ]
  },
  {
   "cell_type": "code",
   "execution_count": 187,
   "metadata": {},
   "outputs": [
    {
     "name": "stdout",
     "output_type": "stream",
     "text": [
      "<class 'pandas.core.frame.DataFrame'>\n",
      "RangeIndex: 11127 entries, 0 to 11126\n",
      "Data columns (total 7 columns):\n",
      " #   Column               Non-Null Count  Dtype         \n",
      "---  ------               --------------  -----         \n",
      " 0   itinerary_id         11127 non-null  object        \n",
      " 1   flight_number        11127 non-null  int64         \n",
      " 2   origin_airport       11127 non-null  object        \n",
      " 3   destination_airport  11127 non-null  object        \n",
      " 4   departure_date_time  11127 non-null  datetime64[ns]\n",
      " 5   arrival_date_time    11127 non-null  datetime64[ns]\n",
      " 6   is_self_transfer     11127 non-null  bool          \n",
      "dtypes: bool(1), datetime64[ns](2), int64(1), object(3)\n",
      "memory usage: 532.6+ KB\n"
     ]
    }
   ],
   "source": [
    "itinerary_details_df.info()"
   ]
  },
  {
   "cell_type": "markdown",
   "metadata": {},
   "source": [
    "# Merge itinerary_details with flight_number, itinerary_id, origin_airport, destination_airport"
   ]
  },
  {
   "cell_type": "markdown",
   "metadata": {},
   "source": [
    "##### Merge itinerary_details with flight_number dataframe."
   ]
  },
  {
   "cell_type": "code",
   "execution_count": 188,
   "metadata": {},
   "outputs": [
    {
     "data": {
      "application/vnd.microsoft.datawrangler.viewer.v0+json": {
       "columns": [
        {
         "name": "index",
         "rawType": "int64",
         "type": "integer"
        },
        {
         "name": "itinerary_id",
         "rawType": "object",
         "type": "string"
        },
        {
         "name": "flight_number",
         "rawType": "int64",
         "type": "integer"
        },
        {
         "name": "origin_airport",
         "rawType": "object",
         "type": "string"
        },
        {
         "name": "destination_airport",
         "rawType": "object",
         "type": "string"
        },
        {
         "name": "departure_date_time",
         "rawType": "datetime64[ns]",
         "type": "datetime"
        },
        {
         "name": "arrival_date_time",
         "rawType": "datetime64[ns]",
         "type": "datetime"
        },
        {
         "name": "is_self_transfer",
         "rawType": "bool",
         "type": "boolean"
        },
        {
         "name": "flight_id",
         "rawType": "int64",
         "type": "integer"
        }
       ],
       "conversionMethod": "pd.DataFrame",
       "ref": "ab8cdce3-bf5d-4b0e-888e-1fa4d59f9d02",
       "rows": [
        [
         "0",
         "18467-2504010745--31679-1-10968-2504011249",
         "6340",
         "YYZ",
         "ATL",
         "2025-04-01 07:45:00",
         "2025-04-01 10:17:00",
         "True",
         "1"
        ],
        [
         "1",
         "18467-2504010745--31679-1-10968-2504011249",
         "6482",
         "ATL",
         "DFW",
         "2025-04-01 11:20:00",
         "2025-04-01 12:49:00",
         "True",
         "2"
        ],
        [
         "2",
         "18390-2504010700--31954,-31825-2-10968-2504011735",
         "2205",
         "YTZ",
         "YOW",
         "2025-04-01 07:00:00",
         "2025-04-01 07:59:00",
         "True",
         "3"
        ],
        [
         "3",
         "18467-2504010615--32385-1-10910-2504011111",
         "2662",
         "YYZ",
         "ATL",
         "2025-04-01 06:15:00",
         "2025-04-01 08:49:00",
         "True",
         "4"
        ],
        [
         "4",
         "18467-2504010745--32385-1-10968-2504011249",
         "2988",
         "YYZ",
         "ATL",
         "2025-04-01 07:45:00",
         "2025-04-01 10:17:00",
         "True",
         "5"
        ]
       ],
       "shape": {
        "columns": 8,
        "rows": 5
       }
      },
      "text/html": [
       "<div>\n",
       "<style scoped>\n",
       "    .dataframe tbody tr th:only-of-type {\n",
       "        vertical-align: middle;\n",
       "    }\n",
       "\n",
       "    .dataframe tbody tr th {\n",
       "        vertical-align: top;\n",
       "    }\n",
       "\n",
       "    .dataframe thead th {\n",
       "        text-align: right;\n",
       "    }\n",
       "</style>\n",
       "<table border=\"1\" class=\"dataframe\">\n",
       "  <thead>\n",
       "    <tr style=\"text-align: right;\">\n",
       "      <th></th>\n",
       "      <th>itinerary_id</th>\n",
       "      <th>flight_number</th>\n",
       "      <th>origin_airport</th>\n",
       "      <th>destination_airport</th>\n",
       "      <th>departure_date_time</th>\n",
       "      <th>arrival_date_time</th>\n",
       "      <th>is_self_transfer</th>\n",
       "      <th>flight_id</th>\n",
       "    </tr>\n",
       "  </thead>\n",
       "  <tbody>\n",
       "    <tr>\n",
       "      <th>0</th>\n",
       "      <td>18467-2504010745--31679-1-10968-2504011249</td>\n",
       "      <td>6340</td>\n",
       "      <td>YYZ</td>\n",
       "      <td>ATL</td>\n",
       "      <td>2025-04-01 07:45:00</td>\n",
       "      <td>2025-04-01 10:17:00</td>\n",
       "      <td>True</td>\n",
       "      <td>1</td>\n",
       "    </tr>\n",
       "    <tr>\n",
       "      <th>1</th>\n",
       "      <td>18467-2504010745--31679-1-10968-2504011249</td>\n",
       "      <td>6482</td>\n",
       "      <td>ATL</td>\n",
       "      <td>DFW</td>\n",
       "      <td>2025-04-01 11:20:00</td>\n",
       "      <td>2025-04-01 12:49:00</td>\n",
       "      <td>True</td>\n",
       "      <td>2</td>\n",
       "    </tr>\n",
       "    <tr>\n",
       "      <th>2</th>\n",
       "      <td>18390-2504010700--31954,-31825-2-10968-2504011735</td>\n",
       "      <td>2205</td>\n",
       "      <td>YTZ</td>\n",
       "      <td>YOW</td>\n",
       "      <td>2025-04-01 07:00:00</td>\n",
       "      <td>2025-04-01 07:59:00</td>\n",
       "      <td>True</td>\n",
       "      <td>3</td>\n",
       "    </tr>\n",
       "    <tr>\n",
       "      <th>3</th>\n",
       "      <td>18467-2504010615--32385-1-10910-2504011111</td>\n",
       "      <td>2662</td>\n",
       "      <td>YYZ</td>\n",
       "      <td>ATL</td>\n",
       "      <td>2025-04-01 06:15:00</td>\n",
       "      <td>2025-04-01 08:49:00</td>\n",
       "      <td>True</td>\n",
       "      <td>4</td>\n",
       "    </tr>\n",
       "    <tr>\n",
       "      <th>4</th>\n",
       "      <td>18467-2504010745--32385-1-10968-2504011249</td>\n",
       "      <td>2988</td>\n",
       "      <td>YYZ</td>\n",
       "      <td>ATL</td>\n",
       "      <td>2025-04-01 07:45:00</td>\n",
       "      <td>2025-04-01 10:17:00</td>\n",
       "      <td>True</td>\n",
       "      <td>5</td>\n",
       "    </tr>\n",
       "  </tbody>\n",
       "</table>\n",
       "</div>"
      ],
      "text/plain": [
       "                                        itinerary_id  flight_number  \\\n",
       "0         18467-2504010745--31679-1-10968-2504011249           6340   \n",
       "1         18467-2504010745--31679-1-10968-2504011249           6482   \n",
       "2  18390-2504010700--31954,-31825-2-10968-2504011735           2205   \n",
       "3         18467-2504010615--32385-1-10910-2504011111           2662   \n",
       "4         18467-2504010745--32385-1-10968-2504011249           2988   \n",
       "\n",
       "  origin_airport destination_airport departure_date_time   arrival_date_time  \\\n",
       "0            YYZ                 ATL 2025-04-01 07:45:00 2025-04-01 10:17:00   \n",
       "1            ATL                 DFW 2025-04-01 11:20:00 2025-04-01 12:49:00   \n",
       "2            YTZ                 YOW 2025-04-01 07:00:00 2025-04-01 07:59:00   \n",
       "3            YYZ                 ATL 2025-04-01 06:15:00 2025-04-01 08:49:00   \n",
       "4            YYZ                 ATL 2025-04-01 07:45:00 2025-04-01 10:17:00   \n",
       "\n",
       "   is_self_transfer  flight_id  \n",
       "0              True          1  \n",
       "1              True          2  \n",
       "2              True          3  \n",
       "3              True          4  \n",
       "4              True          5  "
      ]
     },
     "execution_count": 188,
     "metadata": {},
     "output_type": "execute_result"
    }
   ],
   "source": [
    "itinerary_details = pd.merge(itinerary_details_df,unique_flights_df, how='left', on='flight_number')\n",
    "itinerary_details.head()"
   ]
  },
  {
   "cell_type": "markdown",
   "metadata": {},
   "source": [
    "##### Merge with itinerary dataframe."
   ]
  },
  {
   "cell_type": "code",
   "execution_count": 189,
   "metadata": {},
   "outputs": [
    {
     "data": {
      "application/vnd.microsoft.datawrangler.viewer.v0+json": {
       "columns": [
        {
         "name": "index",
         "rawType": "int64",
         "type": "integer"
        },
        {
         "name": "itinerary_id_x",
         "rawType": "object",
         "type": "string"
        },
        {
         "name": "flight_number",
         "rawType": "int64",
         "type": "integer"
        },
        {
         "name": "origin_airport",
         "rawType": "object",
         "type": "string"
        },
        {
         "name": "destination_airport",
         "rawType": "object",
         "type": "string"
        },
        {
         "name": "departure_date_time",
         "rawType": "datetime64[ns]",
         "type": "datetime"
        },
        {
         "name": "arrival_date_time",
         "rawType": "datetime64[ns]",
         "type": "datetime"
        },
        {
         "name": "is_self_transfer",
         "rawType": "bool",
         "type": "boolean"
        },
        {
         "name": "flight_id",
         "rawType": "int64",
         "type": "integer"
        },
        {
         "name": "itinerary_id",
         "rawType": "object",
         "type": "string"
        },
        {
         "name": "itineraries",
         "rawType": "object",
         "type": "string"
        }
       ],
       "conversionMethod": "pd.DataFrame",
       "ref": "b67d3d1f-dfca-41e6-b516-b836809910ba",
       "rows": [
        [
         "0",
         "18467-2504010745--31679-1-10968-2504011249",
         "6340",
         "YYZ",
         "ATL",
         "2025-04-01 07:45:00",
         "2025-04-01 10:17:00",
         "True",
         "1",
         "it1",
         "18467-2504010745--31679-1-10968-2504011249"
        ],
        [
         "1",
         "18467-2504010745--31679-1-10968-2504011249",
         "6482",
         "ATL",
         "DFW",
         "2025-04-01 11:20:00",
         "2025-04-01 12:49:00",
         "True",
         "2",
         "it1",
         "18467-2504010745--31679-1-10968-2504011249"
        ],
        [
         "2",
         "18390-2504010700--31954,-31825-2-10968-2504011735",
         "2205",
         "YTZ",
         "YOW",
         "2025-04-01 07:00:00",
         "2025-04-01 07:59:00",
         "True",
         "3",
         "it2",
         "18390-2504010700--31954,-31825-2-10968-2504011735"
        ],
        [
         "3",
         "18467-2504010615--32385-1-10910-2504011111",
         "2662",
         "YYZ",
         "ATL",
         "2025-04-01 06:15:00",
         "2025-04-01 08:49:00",
         "True",
         "4",
         "it3",
         "18467-2504010615--32385-1-10910-2504011111"
        ],
        [
         "4",
         "18467-2504010745--32385-1-10968-2504011249",
         "2988",
         "YYZ",
         "ATL",
         "2025-04-01 07:45:00",
         "2025-04-01 10:17:00",
         "True",
         "5",
         "it4",
         "18467-2504010745--32385-1-10968-2504011249"
        ]
       ],
       "shape": {
        "columns": 10,
        "rows": 5
       }
      },
      "text/html": [
       "<div>\n",
       "<style scoped>\n",
       "    .dataframe tbody tr th:only-of-type {\n",
       "        vertical-align: middle;\n",
       "    }\n",
       "\n",
       "    .dataframe tbody tr th {\n",
       "        vertical-align: top;\n",
       "    }\n",
       "\n",
       "    .dataframe thead th {\n",
       "        text-align: right;\n",
       "    }\n",
       "</style>\n",
       "<table border=\"1\" class=\"dataframe\">\n",
       "  <thead>\n",
       "    <tr style=\"text-align: right;\">\n",
       "      <th></th>\n",
       "      <th>itinerary_id_x</th>\n",
       "      <th>flight_number</th>\n",
       "      <th>origin_airport</th>\n",
       "      <th>destination_airport</th>\n",
       "      <th>departure_date_time</th>\n",
       "      <th>arrival_date_time</th>\n",
       "      <th>is_self_transfer</th>\n",
       "      <th>flight_id</th>\n",
       "      <th>itinerary_id</th>\n",
       "      <th>itineraries</th>\n",
       "    </tr>\n",
       "  </thead>\n",
       "  <tbody>\n",
       "    <tr>\n",
       "      <th>0</th>\n",
       "      <td>18467-2504010745--31679-1-10968-2504011249</td>\n",
       "      <td>6340</td>\n",
       "      <td>YYZ</td>\n",
       "      <td>ATL</td>\n",
       "      <td>2025-04-01 07:45:00</td>\n",
       "      <td>2025-04-01 10:17:00</td>\n",
       "      <td>True</td>\n",
       "      <td>1</td>\n",
       "      <td>it1</td>\n",
       "      <td>18467-2504010745--31679-1-10968-2504011249</td>\n",
       "    </tr>\n",
       "    <tr>\n",
       "      <th>1</th>\n",
       "      <td>18467-2504010745--31679-1-10968-2504011249</td>\n",
       "      <td>6482</td>\n",
       "      <td>ATL</td>\n",
       "      <td>DFW</td>\n",
       "      <td>2025-04-01 11:20:00</td>\n",
       "      <td>2025-04-01 12:49:00</td>\n",
       "      <td>True</td>\n",
       "      <td>2</td>\n",
       "      <td>it1</td>\n",
       "      <td>18467-2504010745--31679-1-10968-2504011249</td>\n",
       "    </tr>\n",
       "    <tr>\n",
       "      <th>2</th>\n",
       "      <td>18390-2504010700--31954,-31825-2-10968-2504011735</td>\n",
       "      <td>2205</td>\n",
       "      <td>YTZ</td>\n",
       "      <td>YOW</td>\n",
       "      <td>2025-04-01 07:00:00</td>\n",
       "      <td>2025-04-01 07:59:00</td>\n",
       "      <td>True</td>\n",
       "      <td>3</td>\n",
       "      <td>it2</td>\n",
       "      <td>18390-2504010700--31954,-31825-2-10968-2504011735</td>\n",
       "    </tr>\n",
       "    <tr>\n",
       "      <th>3</th>\n",
       "      <td>18467-2504010615--32385-1-10910-2504011111</td>\n",
       "      <td>2662</td>\n",
       "      <td>YYZ</td>\n",
       "      <td>ATL</td>\n",
       "      <td>2025-04-01 06:15:00</td>\n",
       "      <td>2025-04-01 08:49:00</td>\n",
       "      <td>True</td>\n",
       "      <td>4</td>\n",
       "      <td>it3</td>\n",
       "      <td>18467-2504010615--32385-1-10910-2504011111</td>\n",
       "    </tr>\n",
       "    <tr>\n",
       "      <th>4</th>\n",
       "      <td>18467-2504010745--32385-1-10968-2504011249</td>\n",
       "      <td>2988</td>\n",
       "      <td>YYZ</td>\n",
       "      <td>ATL</td>\n",
       "      <td>2025-04-01 07:45:00</td>\n",
       "      <td>2025-04-01 10:17:00</td>\n",
       "      <td>True</td>\n",
       "      <td>5</td>\n",
       "      <td>it4</td>\n",
       "      <td>18467-2504010745--32385-1-10968-2504011249</td>\n",
       "    </tr>\n",
       "  </tbody>\n",
       "</table>\n",
       "</div>"
      ],
      "text/plain": [
       "                                      itinerary_id_x  flight_number  \\\n",
       "0         18467-2504010745--31679-1-10968-2504011249           6340   \n",
       "1         18467-2504010745--31679-1-10968-2504011249           6482   \n",
       "2  18390-2504010700--31954,-31825-2-10968-2504011735           2205   \n",
       "3         18467-2504010615--32385-1-10910-2504011111           2662   \n",
       "4         18467-2504010745--32385-1-10968-2504011249           2988   \n",
       "\n",
       "  origin_airport destination_airport departure_date_time   arrival_date_time  \\\n",
       "0            YYZ                 ATL 2025-04-01 07:45:00 2025-04-01 10:17:00   \n",
       "1            ATL                 DFW 2025-04-01 11:20:00 2025-04-01 12:49:00   \n",
       "2            YTZ                 YOW 2025-04-01 07:00:00 2025-04-01 07:59:00   \n",
       "3            YYZ                 ATL 2025-04-01 06:15:00 2025-04-01 08:49:00   \n",
       "4            YYZ                 ATL 2025-04-01 07:45:00 2025-04-01 10:17:00   \n",
       "\n",
       "   is_self_transfer  flight_id itinerary_id  \\\n",
       "0              True          1          it1   \n",
       "1              True          2          it1   \n",
       "2              True          3          it2   \n",
       "3              True          4          it3   \n",
       "4              True          5          it4   \n",
       "\n",
       "                                         itineraries  \n",
       "0         18467-2504010745--31679-1-10968-2504011249  \n",
       "1         18467-2504010745--31679-1-10968-2504011249  \n",
       "2  18390-2504010700--31954,-31825-2-10968-2504011735  \n",
       "3         18467-2504010615--32385-1-10910-2504011111  \n",
       "4         18467-2504010745--32385-1-10968-2504011249  "
      ]
     },
     "execution_count": 189,
     "metadata": {},
     "output_type": "execute_result"
    }
   ],
   "source": [
    "itineraries_df = pd.merge(itinerary_details,itinerary_df, how='left', left_on='itinerary_id', right_on='itineraries').rename(columns={'itinerary_id_y':'itinerary_id'})\n",
    "itineraries_df.head()"
   ]
  },
  {
   "cell_type": "markdown",
   "metadata": {},
   "source": [
    "##### Merge with airport dataframe"
   ]
  },
  {
   "cell_type": "code",
   "execution_count": 190,
   "metadata": {},
   "outputs": [
    {
     "data": {
      "application/vnd.microsoft.datawrangler.viewer.v0+json": {
       "columns": [
        {
         "name": "index",
         "rawType": "int64",
         "type": "integer"
        },
        {
         "name": "itinerary_id_x",
         "rawType": "object",
         "type": "string"
        },
        {
         "name": "flight_number",
         "rawType": "int64",
         "type": "integer"
        },
        {
         "name": "origin_airport",
         "rawType": "object",
         "type": "string"
        },
        {
         "name": "destination_airport",
         "rawType": "object",
         "type": "string"
        },
        {
         "name": "departure_date_time",
         "rawType": "datetime64[ns]",
         "type": "datetime"
        },
        {
         "name": "arrival_date_time",
         "rawType": "datetime64[ns]",
         "type": "datetime"
        },
        {
         "name": "is_self_transfer",
         "rawType": "bool",
         "type": "boolean"
        },
        {
         "name": "flight_id",
         "rawType": "int64",
         "type": "integer"
        },
        {
         "name": "itinerary_id",
         "rawType": "object",
         "type": "string"
        },
        {
         "name": "itineraries",
         "rawType": "object",
         "type": "string"
        },
        {
         "name": "origin_airport_id",
         "rawType": "object",
         "type": "string"
        },
        {
         "name": "destination_airport_id",
         "rawType": "object",
         "type": "string"
        }
       ],
       "conversionMethod": "pd.DataFrame",
       "ref": "fd5e8e86-b804-49ed-afda-276e77966b2c",
       "rows": [
        [
         "0",
         "18467-2504010745--31679-1-10968-2504011249",
         "6340",
         "YYZ",
         "ATL",
         "2025-04-01 07:45:00",
         "2025-04-01 10:17:00",
         "True",
         "1",
         "it1",
         "18467-2504010745--31679-1-10968-2504011249",
         "ap5",
         "ap9"
        ],
        [
         "1",
         "18467-2504010745--31679-1-10968-2504011249",
         "6482",
         "ATL",
         "DFW",
         "2025-04-01 11:20:00",
         "2025-04-01 12:49:00",
         "True",
         "2",
         "it1",
         "18467-2504010745--31679-1-10968-2504011249",
         "ap9",
         "ap7"
        ],
        [
         "2",
         "18390-2504010700--31954,-31825-2-10968-2504011735",
         "2205",
         "YTZ",
         "YOW",
         "2025-04-01 07:00:00",
         "2025-04-01 07:59:00",
         "True",
         "3",
         "it2",
         "18390-2504010700--31954,-31825-2-10968-2504011735",
         "ap1",
         "ap4"
        ],
        [
         "3",
         "18467-2504010615--32385-1-10910-2504011111",
         "2662",
         "YYZ",
         "ATL",
         "2025-04-01 06:15:00",
         "2025-04-01 08:49:00",
         "True",
         "4",
         "it3",
         "18467-2504010615--32385-1-10910-2504011111",
         "ap5",
         "ap9"
        ],
        [
         "4",
         "18467-2504010745--32385-1-10968-2504011249",
         "2988",
         "YYZ",
         "ATL",
         "2025-04-01 07:45:00",
         "2025-04-01 10:17:00",
         "True",
         "5",
         "it4",
         "18467-2504010745--32385-1-10968-2504011249",
         "ap5",
         "ap9"
        ]
       ],
       "shape": {
        "columns": 12,
        "rows": 5
       }
      },
      "text/html": [
       "<div>\n",
       "<style scoped>\n",
       "    .dataframe tbody tr th:only-of-type {\n",
       "        vertical-align: middle;\n",
       "    }\n",
       "\n",
       "    .dataframe tbody tr th {\n",
       "        vertical-align: top;\n",
       "    }\n",
       "\n",
       "    .dataframe thead th {\n",
       "        text-align: right;\n",
       "    }\n",
       "</style>\n",
       "<table border=\"1\" class=\"dataframe\">\n",
       "  <thead>\n",
       "    <tr style=\"text-align: right;\">\n",
       "      <th></th>\n",
       "      <th>itinerary_id_x</th>\n",
       "      <th>flight_number</th>\n",
       "      <th>origin_airport</th>\n",
       "      <th>destination_airport</th>\n",
       "      <th>departure_date_time</th>\n",
       "      <th>arrival_date_time</th>\n",
       "      <th>is_self_transfer</th>\n",
       "      <th>flight_id</th>\n",
       "      <th>itinerary_id</th>\n",
       "      <th>itineraries</th>\n",
       "      <th>origin_airport_id</th>\n",
       "      <th>destination_airport_id</th>\n",
       "    </tr>\n",
       "  </thead>\n",
       "  <tbody>\n",
       "    <tr>\n",
       "      <th>0</th>\n",
       "      <td>18467-2504010745--31679-1-10968-2504011249</td>\n",
       "      <td>6340</td>\n",
       "      <td>YYZ</td>\n",
       "      <td>ATL</td>\n",
       "      <td>2025-04-01 07:45:00</td>\n",
       "      <td>2025-04-01 10:17:00</td>\n",
       "      <td>True</td>\n",
       "      <td>1</td>\n",
       "      <td>it1</td>\n",
       "      <td>18467-2504010745--31679-1-10968-2504011249</td>\n",
       "      <td>ap5</td>\n",
       "      <td>ap9</td>\n",
       "    </tr>\n",
       "    <tr>\n",
       "      <th>1</th>\n",
       "      <td>18467-2504010745--31679-1-10968-2504011249</td>\n",
       "      <td>6482</td>\n",
       "      <td>ATL</td>\n",
       "      <td>DFW</td>\n",
       "      <td>2025-04-01 11:20:00</td>\n",
       "      <td>2025-04-01 12:49:00</td>\n",
       "      <td>True</td>\n",
       "      <td>2</td>\n",
       "      <td>it1</td>\n",
       "      <td>18467-2504010745--31679-1-10968-2504011249</td>\n",
       "      <td>ap9</td>\n",
       "      <td>ap7</td>\n",
       "    </tr>\n",
       "    <tr>\n",
       "      <th>2</th>\n",
       "      <td>18390-2504010700--31954,-31825-2-10968-2504011735</td>\n",
       "      <td>2205</td>\n",
       "      <td>YTZ</td>\n",
       "      <td>YOW</td>\n",
       "      <td>2025-04-01 07:00:00</td>\n",
       "      <td>2025-04-01 07:59:00</td>\n",
       "      <td>True</td>\n",
       "      <td>3</td>\n",
       "      <td>it2</td>\n",
       "      <td>18390-2504010700--31954,-31825-2-10968-2504011735</td>\n",
       "      <td>ap1</td>\n",
       "      <td>ap4</td>\n",
       "    </tr>\n",
       "    <tr>\n",
       "      <th>3</th>\n",
       "      <td>18467-2504010615--32385-1-10910-2504011111</td>\n",
       "      <td>2662</td>\n",
       "      <td>YYZ</td>\n",
       "      <td>ATL</td>\n",
       "      <td>2025-04-01 06:15:00</td>\n",
       "      <td>2025-04-01 08:49:00</td>\n",
       "      <td>True</td>\n",
       "      <td>4</td>\n",
       "      <td>it3</td>\n",
       "      <td>18467-2504010615--32385-1-10910-2504011111</td>\n",
       "      <td>ap5</td>\n",
       "      <td>ap9</td>\n",
       "    </tr>\n",
       "    <tr>\n",
       "      <th>4</th>\n",
       "      <td>18467-2504010745--32385-1-10968-2504011249</td>\n",
       "      <td>2988</td>\n",
       "      <td>YYZ</td>\n",
       "      <td>ATL</td>\n",
       "      <td>2025-04-01 07:45:00</td>\n",
       "      <td>2025-04-01 10:17:00</td>\n",
       "      <td>True</td>\n",
       "      <td>5</td>\n",
       "      <td>it4</td>\n",
       "      <td>18467-2504010745--32385-1-10968-2504011249</td>\n",
       "      <td>ap5</td>\n",
       "      <td>ap9</td>\n",
       "    </tr>\n",
       "  </tbody>\n",
       "</table>\n",
       "</div>"
      ],
      "text/plain": [
       "                                      itinerary_id_x  flight_number  \\\n",
       "0         18467-2504010745--31679-1-10968-2504011249           6340   \n",
       "1         18467-2504010745--31679-1-10968-2504011249           6482   \n",
       "2  18390-2504010700--31954,-31825-2-10968-2504011735           2205   \n",
       "3         18467-2504010615--32385-1-10910-2504011111           2662   \n",
       "4         18467-2504010745--32385-1-10968-2504011249           2988   \n",
       "\n",
       "  origin_airport destination_airport departure_date_time   arrival_date_time  \\\n",
       "0            YYZ                 ATL 2025-04-01 07:45:00 2025-04-01 10:17:00   \n",
       "1            ATL                 DFW 2025-04-01 11:20:00 2025-04-01 12:49:00   \n",
       "2            YTZ                 YOW 2025-04-01 07:00:00 2025-04-01 07:59:00   \n",
       "3            YYZ                 ATL 2025-04-01 06:15:00 2025-04-01 08:49:00   \n",
       "4            YYZ                 ATL 2025-04-01 07:45:00 2025-04-01 10:17:00   \n",
       "\n",
       "   is_self_transfer  flight_id itinerary_id  \\\n",
       "0              True          1          it1   \n",
       "1              True          2          it1   \n",
       "2              True          3          it2   \n",
       "3              True          4          it3   \n",
       "4              True          5          it4   \n",
       "\n",
       "                                         itineraries origin_airport_id  \\\n",
       "0         18467-2504010745--31679-1-10968-2504011249               ap5   \n",
       "1         18467-2504010745--31679-1-10968-2504011249               ap9   \n",
       "2  18390-2504010700--31954,-31825-2-10968-2504011735               ap1   \n",
       "3         18467-2504010615--32385-1-10910-2504011111               ap5   \n",
       "4         18467-2504010745--32385-1-10968-2504011249               ap5   \n",
       "\n",
       "  destination_airport_id  \n",
       "0                    ap9  \n",
       "1                    ap7  \n",
       "2                    ap4  \n",
       "3                    ap9  \n",
       "4                    ap9  "
      ]
     },
     "execution_count": 190,
     "metadata": {},
     "output_type": "execute_result"
    }
   ],
   "source": [
    "# Merge for origin_airport_id\n",
    "itinerary_details_merged_df = itineraries_df.merge(\n",
    "    airport_data[['airport_id', 'iata code']], \n",
    "    left_on='origin_airport', \n",
    "    right_on='iata code', \n",
    "    how='left'\n",
    ").rename(columns={'airport_id': 'origin_airport_id'})\n",
    "\n",
    "# Drop redundant column\n",
    "itinerary_details_merged_df.drop(columns=['iata code'], inplace=True)\n",
    "\n",
    "itinerary_details_merged_df = itinerary_details_merged_df.merge(\n",
    "    airport_data[['airport_id', 'iata code']], \n",
    "    left_on='destination_airport', \n",
    "    right_on='iata code', \n",
    "    how='left'\n",
    ").rename(columns={'airport_id': 'destination_airport_id'})\n",
    "\n",
    "# Drop redundant column\n",
    "itinerary_details_merged_df.drop(columns=['iata code'], inplace=True)\n",
    "\n",
    "# Display final DataFrame\n",
    "itinerary_details_merged_df.head()"
   ]
  },
  {
   "cell_type": "markdown",
   "metadata": {},
   "source": [
    "##### Drop unwanted columns"
   ]
  },
  {
   "cell_type": "code",
   "execution_count": 191,
   "metadata": {},
   "outputs": [],
   "source": [
    "itinerary_details_merged_df.drop(columns=['itinerary_id_x','flight_number','itineraries','origin_airport','destination_airport'],errors='ignore', inplace=True)"
   ]
  },
  {
   "cell_type": "code",
   "execution_count": 221,
   "metadata": {},
   "outputs": [
    {
     "data": {
      "text/plain": [
       "Index(['departure_date_time', 'arrival_date_time', 'is_self_transfer',\n",
       "       'flight_id', 'itinerary_id', 'origin_airport_id',\n",
       "       'destination_airport_id'],\n",
       "      dtype='object')"
      ]
     },
     "execution_count": 221,
     "metadata": {},
     "output_type": "execute_result"
    }
   ],
   "source": [
    "itinerary_details_merged_df.columns"
   ]
  },
  {
   "cell_type": "code",
   "execution_count": 192,
   "metadata": {},
   "outputs": [
    {
     "name": "stdout",
     "output_type": "stream",
     "text": [
      "<class 'pandas.core.frame.DataFrame'>\n",
      "RangeIndex: 11127 entries, 0 to 11126\n",
      "Data columns (total 7 columns):\n",
      " #   Column                  Non-Null Count  Dtype         \n",
      "---  ------                  --------------  -----         \n",
      " 0   departure_date_time     11127 non-null  datetime64[ns]\n",
      " 1   arrival_date_time       11127 non-null  datetime64[ns]\n",
      " 2   is_self_transfer        11127 non-null  bool          \n",
      " 3   flight_id               11127 non-null  int64         \n",
      " 4   itinerary_id            11127 non-null  object        \n",
      " 5   origin_airport_id       11127 non-null  object        \n",
      " 6   destination_airport_id  11127 non-null  object        \n",
      "dtypes: bool(1), datetime64[ns](2), int64(1), object(3)\n",
      "memory usage: 532.6+ KB\n"
     ]
    }
   ],
   "source": [
    "itinerary_details_merged_df.info()"
   ]
  },
  {
   "cell_type": "code",
   "execution_count": 244,
   "metadata": {},
   "outputs": [
    {
     "name": "stdout",
     "output_type": "stream",
     "text": [
      "Data is valid!\n"
     ]
    }
   ],
   "source": [
    "# Dataframe itinerary_details for validation  \n",
    "# Defining schema\n",
    "schema = DataFrameSchema({\n",
    "    \"departure_date_time\": Column(pa.DateTime, nullable=False),\n",
    "    \"arrival_date_time\": Column(pa.DateTime, nullable=False),\n",
    "    \"is_self_transfer\": Column(bool, nullable=False),\n",
    "    \"flight_id\": Column(int, nullable=False),\n",
    "    \"itinerary_id\": Column(str, nullable=False),\n",
    "    \"origin_airport_id\": Column(str, nullable=False),\n",
    "    \"destination_airport_id\": Column(str, nullable=False),\n",
    "}, checks=[\n",
    "    # Custom check to make sure origin and destination airports are not the same\n",
    "    Check(lambda df: df[\"origin_airport_id\"] != df[\"destination_airport_id\"],\n",
    "          element_wise=False,\n",
    "          error=\"Origin and destination airports must not be the same\")\n",
    "])\n",
    "\n",
    "# Validate the DataFrame\n",
    "try:\n",
    "    itinerary_details_merged_df = schema.validate(itinerary_details_merged_df)\n",
    "    print(\"Data is valid!\")\n",
    "except pa.errors.SchemaErrors as e:\n",
    "    print(\"Data validation failed!\")\n",
    "    print(e.failure_cases)"
   ]
  },
  {
   "cell_type": "code",
   "execution_count": 193,
   "metadata": {},
   "outputs": [],
   "source": [
    "itinerary_details_merged_df.to_csv('postgrs_tables/map_itinerary_details.csv', index=False)"
   ]
  },
  {
   "cell_type": "markdown",
   "metadata": {},
   "source": [
    "# Creating Flight Price DataFrame\n",
    "**Foreign Keys:**\n",
    "- `itinerary` (foreign key of the Itinerary DataFrame)\n",
    "- `marketing_airline` and `operating_airline` (foreign keys of the Airline DataFrame)\n",
    "- `cabin_class` (foreign key of the Cabin Class DataFrame)\n"
   ]
  },
  {
   "cell_type": "code",
   "execution_count": 194,
   "metadata": {},
   "outputs": [
    {
     "data": {
      "application/vnd.microsoft.datawrangler.viewer.v0+json": {
       "columns": [
        {
         "name": "index",
         "rawType": "int64",
         "type": "integer"
        },
        {
         "name": "itinerary_id",
         "rawType": "object",
         "type": "string"
        },
        {
         "name": "marketing_airline",
         "rawType": "object",
         "type": "string"
        },
        {
         "name": "operating_airline",
         "rawType": "object",
         "type": "string"
        },
        {
         "name": "cabin_class",
         "rawType": "object",
         "type": "string"
        },
        {
         "name": "stop_count",
         "rawType": "int64",
         "type": "integer"
        },
        {
         "name": "duration_in_hours",
         "rawType": "float64",
         "type": "float"
        },
        {
         "name": "one_way_price_candollar",
         "rawType": "int64",
         "type": "integer"
        }
       ],
       "conversionMethod": "pd.DataFrame",
       "ref": "c20e83aa-c75d-431a-8ac7-20bb56812a32",
       "rows": [
        [
         "0",
         "18467-2504010745--31679-1-10968-2504011249",
         "Westjet",
         "Delta Air Lines",
         "economy",
         "1",
         "2.53",
         "477"
        ],
        [
         "1",
         "18467-2504010745--31679-1-10968-2504011249",
         "Westjet",
         "Delta Air Lines",
         "economy",
         "1",
         "2.48",
         "477"
        ],
        [
         "2",
         "18390-2504010700--31954,-31825-2-10968-2504011735",
         "Porter Airlines",
         "Porter Airlines Inc",
         "economy",
         "2",
         "0.98",
         "253"
        ],
        [
         "3",
         "18467-2504010615--32385-1-10910-2504011111",
         "Delta Air Lines",
         "Delta Air Lines",
         "premium_economy",
         "1",
         "2.57",
         "581"
        ],
        [
         "4",
         "18467-2504010745--32385-1-10968-2504011249",
         "Delta Air Lines",
         "Delta Air Lines",
         "premium_economy",
         "1",
         "2.53",
         "581"
        ]
       ],
       "shape": {
        "columns": 7,
        "rows": 5
       }
      },
      "text/html": [
       "<div>\n",
       "<style scoped>\n",
       "    .dataframe tbody tr th:only-of-type {\n",
       "        vertical-align: middle;\n",
       "    }\n",
       "\n",
       "    .dataframe tbody tr th {\n",
       "        vertical-align: top;\n",
       "    }\n",
       "\n",
       "    .dataframe thead th {\n",
       "        text-align: right;\n",
       "    }\n",
       "</style>\n",
       "<table border=\"1\" class=\"dataframe\">\n",
       "  <thead>\n",
       "    <tr style=\"text-align: right;\">\n",
       "      <th></th>\n",
       "      <th>itinerary_id</th>\n",
       "      <th>marketing_airline</th>\n",
       "      <th>operating_airline</th>\n",
       "      <th>cabin_class</th>\n",
       "      <th>stop_count</th>\n",
       "      <th>duration_in_hours</th>\n",
       "      <th>one_way_price_candollar</th>\n",
       "    </tr>\n",
       "  </thead>\n",
       "  <tbody>\n",
       "    <tr>\n",
       "      <th>0</th>\n",
       "      <td>18467-2504010745--31679-1-10968-2504011249</td>\n",
       "      <td>Westjet</td>\n",
       "      <td>Delta Air Lines</td>\n",
       "      <td>economy</td>\n",
       "      <td>1</td>\n",
       "      <td>2.53</td>\n",
       "      <td>477</td>\n",
       "    </tr>\n",
       "    <tr>\n",
       "      <th>1</th>\n",
       "      <td>18467-2504010745--31679-1-10968-2504011249</td>\n",
       "      <td>Westjet</td>\n",
       "      <td>Delta Air Lines</td>\n",
       "      <td>economy</td>\n",
       "      <td>1</td>\n",
       "      <td>2.48</td>\n",
       "      <td>477</td>\n",
       "    </tr>\n",
       "    <tr>\n",
       "      <th>2</th>\n",
       "      <td>18390-2504010700--31954,-31825-2-10968-2504011735</td>\n",
       "      <td>Porter Airlines</td>\n",
       "      <td>Porter Airlines Inc</td>\n",
       "      <td>economy</td>\n",
       "      <td>2</td>\n",
       "      <td>0.98</td>\n",
       "      <td>253</td>\n",
       "    </tr>\n",
       "    <tr>\n",
       "      <th>3</th>\n",
       "      <td>18467-2504010615--32385-1-10910-2504011111</td>\n",
       "      <td>Delta Air Lines</td>\n",
       "      <td>Delta Air Lines</td>\n",
       "      <td>premium_economy</td>\n",
       "      <td>1</td>\n",
       "      <td>2.57</td>\n",
       "      <td>581</td>\n",
       "    </tr>\n",
       "    <tr>\n",
       "      <th>4</th>\n",
       "      <td>18467-2504010745--32385-1-10968-2504011249</td>\n",
       "      <td>Delta Air Lines</td>\n",
       "      <td>Delta Air Lines</td>\n",
       "      <td>premium_economy</td>\n",
       "      <td>1</td>\n",
       "      <td>2.53</td>\n",
       "      <td>581</td>\n",
       "    </tr>\n",
       "  </tbody>\n",
       "</table>\n",
       "</div>"
      ],
      "text/plain": [
       "                                        itinerary_id marketing_airline  \\\n",
       "0         18467-2504010745--31679-1-10968-2504011249           Westjet   \n",
       "1         18467-2504010745--31679-1-10968-2504011249           Westjet   \n",
       "2  18390-2504010700--31954,-31825-2-10968-2504011735   Porter Airlines   \n",
       "3         18467-2504010615--32385-1-10910-2504011111   Delta Air Lines   \n",
       "4         18467-2504010745--32385-1-10968-2504011249   Delta Air Lines   \n",
       "\n",
       "     operating_airline      cabin_class  stop_count  duration_in_hours  \\\n",
       "0      Delta Air Lines          economy           1               2.53   \n",
       "1      Delta Air Lines          economy           1               2.48   \n",
       "2  Porter Airlines Inc          economy           2               0.98   \n",
       "3      Delta Air Lines  premium_economy           1               2.57   \n",
       "4      Delta Air Lines  premium_economy           1               2.53   \n",
       "\n",
       "   one_way_price_candollar  \n",
       "0                      477  \n",
       "1                      477  \n",
       "2                      253  \n",
       "3                      581  \n",
       "4                      581  "
      ]
     },
     "execution_count": 194,
     "metadata": {},
     "output_type": "execute_result"
    }
   ],
   "source": [
    "flight_price_df = flight_price_data[['itinerary_id','marketing_airline','operating_airline','cabin_class','stop_count','duration_in_hours','one_way_price_candollar']]\n",
    "flight_price_df.head()"
   ]
  },
  {
   "cell_type": "code",
   "execution_count": 195,
   "metadata": {},
   "outputs": [
    {
     "data": {
      "application/vnd.microsoft.datawrangler.viewer.v0+json": {
       "columns": [
        {
         "name": "index",
         "rawType": "int64",
         "type": "integer"
        },
        {
         "name": "itinerary_id",
         "rawType": "object",
         "type": "string"
        },
        {
         "name": "cabin_class",
         "rawType": "object",
         "type": "string"
        },
        {
         "name": "stop_count",
         "rawType": "int64",
         "type": "integer"
        },
        {
         "name": "duration_in_hours",
         "rawType": "float64",
         "type": "float"
        },
        {
         "name": "one_way_price_candollar",
         "rawType": "int64",
         "type": "integer"
        },
        {
         "name": "marketing_airline",
         "rawType": "object",
         "type": "string"
        },
        {
         "name": "operating_airline",
         "rawType": "object",
         "type": "string"
        }
       ],
       "conversionMethod": "pd.DataFrame",
       "ref": "30b6f437-b615-432a-bcf0-e5cf5577e5fc",
       "rows": [
        [
         "0",
         "18467-2504010745--31679-1-10968-2504011249",
         "economy",
         "1",
         "2.53",
         "477",
         "Westjet",
         "Delta Air Lines"
        ],
        [
         "1",
         "18467-2504010745--31679-1-10968-2504011249",
         "economy",
         "1",
         "2.48",
         "477",
         "Westjet",
         "Delta Air Lines"
        ],
        [
         "2",
         "18390-2504010700--31954,-31825-2-10968-2504011735",
         "economy",
         "2",
         "0.98",
         "253",
         "Porter Airlines",
         "Porter Airlines Inc"
        ],
        [
         "3",
         "18467-2504010615--32385-1-10910-2504011111",
         "premium_economy",
         "1",
         "2.57",
         "581",
         "Delta Air Lines",
         "Delta Air Lines"
        ],
        [
         "4",
         "18467-2504010745--32385-1-10968-2504011249",
         "premium_economy",
         "1",
         "2.53",
         "581",
         "Delta Air Lines",
         "Delta Air Lines"
        ]
       ],
       "shape": {
        "columns": 7,
        "rows": 5
       }
      },
      "text/html": [
       "<div>\n",
       "<style scoped>\n",
       "    .dataframe tbody tr th:only-of-type {\n",
       "        vertical-align: middle;\n",
       "    }\n",
       "\n",
       "    .dataframe tbody tr th {\n",
       "        vertical-align: top;\n",
       "    }\n",
       "\n",
       "    .dataframe thead th {\n",
       "        text-align: right;\n",
       "    }\n",
       "</style>\n",
       "<table border=\"1\" class=\"dataframe\">\n",
       "  <thead>\n",
       "    <tr style=\"text-align: right;\">\n",
       "      <th></th>\n",
       "      <th>itinerary_id</th>\n",
       "      <th>cabin_class</th>\n",
       "      <th>stop_count</th>\n",
       "      <th>duration_in_hours</th>\n",
       "      <th>one_way_price_candollar</th>\n",
       "      <th>marketing_airline</th>\n",
       "      <th>operating_airline</th>\n",
       "    </tr>\n",
       "  </thead>\n",
       "  <tbody>\n",
       "    <tr>\n",
       "      <th>0</th>\n",
       "      <td>18467-2504010745--31679-1-10968-2504011249</td>\n",
       "      <td>economy</td>\n",
       "      <td>1</td>\n",
       "      <td>2.53</td>\n",
       "      <td>477</td>\n",
       "      <td>Westjet</td>\n",
       "      <td>Delta Air Lines</td>\n",
       "    </tr>\n",
       "    <tr>\n",
       "      <th>1</th>\n",
       "      <td>18467-2504010745--31679-1-10968-2504011249</td>\n",
       "      <td>economy</td>\n",
       "      <td>1</td>\n",
       "      <td>2.48</td>\n",
       "      <td>477</td>\n",
       "      <td>Westjet</td>\n",
       "      <td>Delta Air Lines</td>\n",
       "    </tr>\n",
       "    <tr>\n",
       "      <th>2</th>\n",
       "      <td>18390-2504010700--31954,-31825-2-10968-2504011735</td>\n",
       "      <td>economy</td>\n",
       "      <td>2</td>\n",
       "      <td>0.98</td>\n",
       "      <td>253</td>\n",
       "      <td>Porter Airlines</td>\n",
       "      <td>Porter Airlines Inc</td>\n",
       "    </tr>\n",
       "    <tr>\n",
       "      <th>3</th>\n",
       "      <td>18467-2504010615--32385-1-10910-2504011111</td>\n",
       "      <td>premium_economy</td>\n",
       "      <td>1</td>\n",
       "      <td>2.57</td>\n",
       "      <td>581</td>\n",
       "      <td>Delta Air Lines</td>\n",
       "      <td>Delta Air Lines</td>\n",
       "    </tr>\n",
       "    <tr>\n",
       "      <th>4</th>\n",
       "      <td>18467-2504010745--32385-1-10968-2504011249</td>\n",
       "      <td>premium_economy</td>\n",
       "      <td>1</td>\n",
       "      <td>2.53</td>\n",
       "      <td>581</td>\n",
       "      <td>Delta Air Lines</td>\n",
       "      <td>Delta Air Lines</td>\n",
       "    </tr>\n",
       "  </tbody>\n",
       "</table>\n",
       "</div>"
      ],
      "text/plain": [
       "                                        itinerary_id      cabin_class  \\\n",
       "0         18467-2504010745--31679-1-10968-2504011249          economy   \n",
       "1         18467-2504010745--31679-1-10968-2504011249          economy   \n",
       "2  18390-2504010700--31954,-31825-2-10968-2504011735          economy   \n",
       "3         18467-2504010615--32385-1-10910-2504011111  premium_economy   \n",
       "4         18467-2504010745--32385-1-10968-2504011249  premium_economy   \n",
       "\n",
       "   stop_count  duration_in_hours  one_way_price_candollar marketing_airline  \\\n",
       "0           1               2.53                      477           Westjet   \n",
       "1           1               2.48                      477           Westjet   \n",
       "2           2               0.98                      253   Porter Airlines   \n",
       "3           1               2.57                      581   Delta Air Lines   \n",
       "4           1               2.53                      581   Delta Air Lines   \n",
       "\n",
       "     operating_airline  \n",
       "0      Delta Air Lines  \n",
       "1      Delta Air Lines  \n",
       "2  Porter Airlines Inc  \n",
       "3      Delta Air Lines  \n",
       "4      Delta Air Lines  "
      ]
     },
     "execution_count": 195,
     "metadata": {},
     "output_type": "execute_result"
    }
   ],
   "source": [
    "flight_price_df=flight_price_df[['itinerary_id','cabin_class','stop_count','duration_in_hours','one_way_price_candollar','marketing_airline','operating_airline']]\n",
    "flight_price_df.head()"
   ]
  },
  {
   "cell_type": "markdown",
   "metadata": {},
   "source": [
    "# Merging Flight Price DataFrame\n",
    "## With Cabin Class, Operating Airline, Marketing Airline, and Itinerary"
   ]
  },
  {
   "cell_type": "markdown",
   "metadata": {},
   "source": [
    "##### Merge flight_price_df with cabin_class"
   ]
  },
  {
   "cell_type": "code",
   "execution_count": 196,
   "metadata": {},
   "outputs": [
    {
     "data": {
      "application/vnd.microsoft.datawrangler.viewer.v0+json": {
       "columns": [
        {
         "name": "index",
         "rawType": "int64",
         "type": "integer"
        },
        {
         "name": "itinerary_id",
         "rawType": "object",
         "type": "string"
        },
        {
         "name": "cabin_class",
         "rawType": "object",
         "type": "string"
        },
        {
         "name": "stop_count",
         "rawType": "int64",
         "type": "integer"
        },
        {
         "name": "duration_in_hours",
         "rawType": "float64",
         "type": "float"
        },
        {
         "name": "one_way_price_candollar",
         "rawType": "int64",
         "type": "integer"
        },
        {
         "name": "marketing_airline",
         "rawType": "object",
         "type": "string"
        },
        {
         "name": "operating_airline",
         "rawType": "object",
         "type": "string"
        },
        {
         "name": "cabin_class_id",
         "rawType": "object",
         "type": "string"
        }
       ],
       "conversionMethod": "pd.DataFrame",
       "ref": "6dcb4e8b-7e22-45dd-b907-3ebba487e3c1",
       "rows": [
        [
         "0",
         "18467-2504010745--31679-1-10968-2504011249",
         "economy",
         "1",
         "2.53",
         "477",
         "Westjet",
         "Delta Air Lines",
         "cc1"
        ],
        [
         "1",
         "18467-2504010745--31679-1-10968-2504011249",
         "economy",
         "1",
         "2.48",
         "477",
         "Westjet",
         "Delta Air Lines",
         "cc1"
        ],
        [
         "2",
         "18390-2504010700--31954,-31825-2-10968-2504011735",
         "economy",
         "2",
         "0.98",
         "253",
         "Porter Airlines",
         "Porter Airlines Inc",
         "cc1"
        ],
        [
         "3",
         "18467-2504010615--32385-1-10910-2504011111",
         "premium_economy",
         "1",
         "2.57",
         "581",
         "Delta Air Lines",
         "Delta Air Lines",
         "cc2"
        ],
        [
         "4",
         "18467-2504010745--32385-1-10968-2504011249",
         "premium_economy",
         "1",
         "2.53",
         "581",
         "Delta Air Lines",
         "Delta Air Lines",
         "cc2"
        ]
       ],
       "shape": {
        "columns": 8,
        "rows": 5
       }
      },
      "text/html": [
       "<div>\n",
       "<style scoped>\n",
       "    .dataframe tbody tr th:only-of-type {\n",
       "        vertical-align: middle;\n",
       "    }\n",
       "\n",
       "    .dataframe tbody tr th {\n",
       "        vertical-align: top;\n",
       "    }\n",
       "\n",
       "    .dataframe thead th {\n",
       "        text-align: right;\n",
       "    }\n",
       "</style>\n",
       "<table border=\"1\" class=\"dataframe\">\n",
       "  <thead>\n",
       "    <tr style=\"text-align: right;\">\n",
       "      <th></th>\n",
       "      <th>itinerary_id</th>\n",
       "      <th>cabin_class</th>\n",
       "      <th>stop_count</th>\n",
       "      <th>duration_in_hours</th>\n",
       "      <th>one_way_price_candollar</th>\n",
       "      <th>marketing_airline</th>\n",
       "      <th>operating_airline</th>\n",
       "      <th>cabin_class_id</th>\n",
       "    </tr>\n",
       "  </thead>\n",
       "  <tbody>\n",
       "    <tr>\n",
       "      <th>0</th>\n",
       "      <td>18467-2504010745--31679-1-10968-2504011249</td>\n",
       "      <td>economy</td>\n",
       "      <td>1</td>\n",
       "      <td>2.53</td>\n",
       "      <td>477</td>\n",
       "      <td>Westjet</td>\n",
       "      <td>Delta Air Lines</td>\n",
       "      <td>cc1</td>\n",
       "    </tr>\n",
       "    <tr>\n",
       "      <th>1</th>\n",
       "      <td>18467-2504010745--31679-1-10968-2504011249</td>\n",
       "      <td>economy</td>\n",
       "      <td>1</td>\n",
       "      <td>2.48</td>\n",
       "      <td>477</td>\n",
       "      <td>Westjet</td>\n",
       "      <td>Delta Air Lines</td>\n",
       "      <td>cc1</td>\n",
       "    </tr>\n",
       "    <tr>\n",
       "      <th>2</th>\n",
       "      <td>18390-2504010700--31954,-31825-2-10968-2504011735</td>\n",
       "      <td>economy</td>\n",
       "      <td>2</td>\n",
       "      <td>0.98</td>\n",
       "      <td>253</td>\n",
       "      <td>Porter Airlines</td>\n",
       "      <td>Porter Airlines Inc</td>\n",
       "      <td>cc1</td>\n",
       "    </tr>\n",
       "    <tr>\n",
       "      <th>3</th>\n",
       "      <td>18467-2504010615--32385-1-10910-2504011111</td>\n",
       "      <td>premium_economy</td>\n",
       "      <td>1</td>\n",
       "      <td>2.57</td>\n",
       "      <td>581</td>\n",
       "      <td>Delta Air Lines</td>\n",
       "      <td>Delta Air Lines</td>\n",
       "      <td>cc2</td>\n",
       "    </tr>\n",
       "    <tr>\n",
       "      <th>4</th>\n",
       "      <td>18467-2504010745--32385-1-10968-2504011249</td>\n",
       "      <td>premium_economy</td>\n",
       "      <td>1</td>\n",
       "      <td>2.53</td>\n",
       "      <td>581</td>\n",
       "      <td>Delta Air Lines</td>\n",
       "      <td>Delta Air Lines</td>\n",
       "      <td>cc2</td>\n",
       "    </tr>\n",
       "  </tbody>\n",
       "</table>\n",
       "</div>"
      ],
      "text/plain": [
       "                                        itinerary_id      cabin_class  \\\n",
       "0         18467-2504010745--31679-1-10968-2504011249          economy   \n",
       "1         18467-2504010745--31679-1-10968-2504011249          economy   \n",
       "2  18390-2504010700--31954,-31825-2-10968-2504011735          economy   \n",
       "3         18467-2504010615--32385-1-10910-2504011111  premium_economy   \n",
       "4         18467-2504010745--32385-1-10968-2504011249  premium_economy   \n",
       "\n",
       "   stop_count  duration_in_hours  one_way_price_candollar marketing_airline  \\\n",
       "0           1               2.53                      477           Westjet   \n",
       "1           1               2.48                      477           Westjet   \n",
       "2           2               0.98                      253   Porter Airlines   \n",
       "3           1               2.57                      581   Delta Air Lines   \n",
       "4           1               2.53                      581   Delta Air Lines   \n",
       "\n",
       "     operating_airline cabin_class_id  \n",
       "0      Delta Air Lines            cc1  \n",
       "1      Delta Air Lines            cc1  \n",
       "2  Porter Airlines Inc            cc1  \n",
       "3      Delta Air Lines            cc2  \n",
       "4      Delta Air Lines            cc2  "
      ]
     },
     "execution_count": 196,
     "metadata": {},
     "output_type": "execute_result"
    }
   ],
   "source": [
    "class_flight_price_df = pd.merge(flight_price_df,unique_cabin_classes_df, on='cabin_class', how='left')\n",
    "class_flight_price_df.head()"
   ]
  },
  {
   "cell_type": "code",
   "execution_count": 197,
   "metadata": {},
   "outputs": [
    {
     "name": "stdout",
     "output_type": "stream",
     "text": [
      "<class 'pandas.core.frame.DataFrame'>\n",
      "RangeIndex: 11127 entries, 0 to 11126\n",
      "Data columns (total 8 columns):\n",
      " #   Column                   Non-Null Count  Dtype  \n",
      "---  ------                   --------------  -----  \n",
      " 0   itinerary_id             11127 non-null  object \n",
      " 1   cabin_class              11127 non-null  object \n",
      " 2   stop_count               11127 non-null  int64  \n",
      " 3   duration_in_hours        11127 non-null  float64\n",
      " 4   one_way_price_candollar  11127 non-null  int64  \n",
      " 5   marketing_airline        11127 non-null  object \n",
      " 6   operating_airline        11127 non-null  object \n",
      " 7   cabin_class_id           11127 non-null  object \n",
      "dtypes: float64(1), int64(2), object(5)\n",
      "memory usage: 695.6+ KB\n"
     ]
    }
   ],
   "source": [
    "class_flight_price_df.info()"
   ]
  },
  {
   "cell_type": "code",
   "execution_count": 198,
   "metadata": {},
   "outputs": [],
   "source": [
    "# Drop unwanted columns\n",
    "class_flight_price_df.drop(columns='cabin_class', errors=\"ignore\", inplace=True)           "
   ]
  },
  {
   "cell_type": "markdown",
   "metadata": {},
   "source": [
    "##### Merge with airline dataframe"
   ]
  },
  {
   "cell_type": "code",
   "execution_count": 199,
   "metadata": {},
   "outputs": [
    {
     "data": {
      "application/vnd.microsoft.datawrangler.viewer.v0+json": {
       "columns": [
        {
         "name": "index",
         "rawType": "int64",
         "type": "integer"
        },
        {
         "name": "itinerary_id",
         "rawType": "object",
         "type": "string"
        },
        {
         "name": "stop_count",
         "rawType": "int64",
         "type": "integer"
        },
        {
         "name": "duration_in_hours",
         "rawType": "float64",
         "type": "float"
        },
        {
         "name": "one_way_price_candollar",
         "rawType": "int64",
         "type": "integer"
        },
        {
         "name": "cabin_class_id",
         "rawType": "object",
         "type": "string"
        },
        {
         "name": "operating_airline_id",
         "rawType": "object",
         "type": "string"
        },
        {
         "name": "marketing_airline_id",
         "rawType": "object",
         "type": "string"
        }
       ],
       "conversionMethod": "pd.DataFrame",
       "ref": "649fd3e3-253d-4aa1-9934-c63fc8776d1a",
       "rows": [
        [
         "0",
         "18467-2504010745--31679-1-10968-2504011249",
         "1",
         "2.53",
         "477",
         "cc1",
         "al4",
         "al16"
        ],
        [
         "1",
         "18467-2504010745--31679-1-10968-2504011249",
         "1",
         "2.48",
         "477",
         "cc1",
         "al4",
         "al16"
        ],
        [
         "2",
         "18390-2504010700--31954,-31825-2-10968-2504011735",
         "2",
         "0.98",
         "253",
         "cc1",
         "al10",
         "al11"
        ],
        [
         "3",
         "18467-2504010615--32385-1-10910-2504011111",
         "1",
         "2.57",
         "581",
         "cc2",
         "al4",
         "al4"
        ],
        [
         "4",
         "18467-2504010745--32385-1-10968-2504011249",
         "1",
         "2.53",
         "581",
         "cc2",
         "al4",
         "al4"
        ]
       ],
       "shape": {
        "columns": 7,
        "rows": 5
       }
      },
      "text/html": [
       "<div>\n",
       "<style scoped>\n",
       "    .dataframe tbody tr th:only-of-type {\n",
       "        vertical-align: middle;\n",
       "    }\n",
       "\n",
       "    .dataframe tbody tr th {\n",
       "        vertical-align: top;\n",
       "    }\n",
       "\n",
       "    .dataframe thead th {\n",
       "        text-align: right;\n",
       "    }\n",
       "</style>\n",
       "<table border=\"1\" class=\"dataframe\">\n",
       "  <thead>\n",
       "    <tr style=\"text-align: right;\">\n",
       "      <th></th>\n",
       "      <th>itinerary_id</th>\n",
       "      <th>stop_count</th>\n",
       "      <th>duration_in_hours</th>\n",
       "      <th>one_way_price_candollar</th>\n",
       "      <th>cabin_class_id</th>\n",
       "      <th>operating_airline_id</th>\n",
       "      <th>marketing_airline_id</th>\n",
       "    </tr>\n",
       "  </thead>\n",
       "  <tbody>\n",
       "    <tr>\n",
       "      <th>0</th>\n",
       "      <td>18467-2504010745--31679-1-10968-2504011249</td>\n",
       "      <td>1</td>\n",
       "      <td>2.53</td>\n",
       "      <td>477</td>\n",
       "      <td>cc1</td>\n",
       "      <td>al4</td>\n",
       "      <td>al16</td>\n",
       "    </tr>\n",
       "    <tr>\n",
       "      <th>1</th>\n",
       "      <td>18467-2504010745--31679-1-10968-2504011249</td>\n",
       "      <td>1</td>\n",
       "      <td>2.48</td>\n",
       "      <td>477</td>\n",
       "      <td>cc1</td>\n",
       "      <td>al4</td>\n",
       "      <td>al16</td>\n",
       "    </tr>\n",
       "    <tr>\n",
       "      <th>2</th>\n",
       "      <td>18390-2504010700--31954,-31825-2-10968-2504011735</td>\n",
       "      <td>2</td>\n",
       "      <td>0.98</td>\n",
       "      <td>253</td>\n",
       "      <td>cc1</td>\n",
       "      <td>al10</td>\n",
       "      <td>al11</td>\n",
       "    </tr>\n",
       "    <tr>\n",
       "      <th>3</th>\n",
       "      <td>18467-2504010615--32385-1-10910-2504011111</td>\n",
       "      <td>1</td>\n",
       "      <td>2.57</td>\n",
       "      <td>581</td>\n",
       "      <td>cc2</td>\n",
       "      <td>al4</td>\n",
       "      <td>al4</td>\n",
       "    </tr>\n",
       "    <tr>\n",
       "      <th>4</th>\n",
       "      <td>18467-2504010745--32385-1-10968-2504011249</td>\n",
       "      <td>1</td>\n",
       "      <td>2.53</td>\n",
       "      <td>581</td>\n",
       "      <td>cc2</td>\n",
       "      <td>al4</td>\n",
       "      <td>al4</td>\n",
       "    </tr>\n",
       "  </tbody>\n",
       "</table>\n",
       "</div>"
      ],
      "text/plain": [
       "                                        itinerary_id  stop_count  \\\n",
       "0         18467-2504010745--31679-1-10968-2504011249           1   \n",
       "1         18467-2504010745--31679-1-10968-2504011249           1   \n",
       "2  18390-2504010700--31954,-31825-2-10968-2504011735           2   \n",
       "3         18467-2504010615--32385-1-10910-2504011111           1   \n",
       "4         18467-2504010745--32385-1-10968-2504011249           1   \n",
       "\n",
       "   duration_in_hours  one_way_price_candollar cabin_class_id  \\\n",
       "0               2.53                      477            cc1   \n",
       "1               2.48                      477            cc1   \n",
       "2               0.98                      253            cc1   \n",
       "3               2.57                      581            cc2   \n",
       "4               2.53                      581            cc2   \n",
       "\n",
       "  operating_airline_id marketing_airline_id  \n",
       "0                  al4                 al16  \n",
       "1                  al4                 al16  \n",
       "2                 al10                 al11  \n",
       "3                  al4                  al4  \n",
       "4                  al4                  al4  "
      ]
     },
     "execution_count": 199,
     "metadata": {},
     "output_type": "execute_result"
    }
   ],
   "source": [
    "# Merge for operating_airline_id\n",
    "class_price_airline_merged_df = class_flight_price_df.merge(\n",
    "    airlines_df[['airline_id', 'airline_name']], \n",
    "    left_on='operating_airline', \n",
    "    right_on='airline_name',\n",
    "    how='left'\n",
    ").rename(columns={'airline_id': 'operating_airline_id'})\n",
    "\n",
    "# Drop redundant column\n",
    "class_price_airline_merged_df.drop(columns=['airline_name'], inplace=True)\n",
    "\n",
    "# Merge for marketing_airline_id **without overwriting airline_merged_df**\n",
    "class_price_airline_merged_df = class_price_airline_merged_df.merge(\n",
    "    airlines_df[['airline_id', 'airline_name']], \n",
    "    left_on='marketing_airline', \n",
    "    right_on='airline_name',\n",
    "    how='left',\n",
    "    suffixes=('', '_marketing')  # Prevent overwriting columns\n",
    ").rename(columns={'airline_id': 'marketing_airline_id'})\n",
    "\n",
    "# Drop redundant column\n",
    "class_price_airline_merged_df.drop(columns=['airline_name','marketing_airline','operating_airline'], inplace=True)\n",
    "\n",
    "# Display final DataFrame\n",
    "class_price_airline_merged_df.head()"
   ]
  },
  {
   "cell_type": "code",
   "execution_count": 200,
   "metadata": {},
   "outputs": [],
   "source": [
    "class_price_airline_merged_df.fillna(\"al13\", inplace=True)"
   ]
  },
  {
   "cell_type": "code",
   "execution_count": 201,
   "metadata": {},
   "outputs": [
    {
     "name": "stdout",
     "output_type": "stream",
     "text": [
      "<class 'pandas.core.frame.DataFrame'>\n",
      "RangeIndex: 11127 entries, 0 to 11126\n",
      "Data columns (total 7 columns):\n",
      " #   Column                   Non-Null Count  Dtype  \n",
      "---  ------                   --------------  -----  \n",
      " 0   itinerary_id             11127 non-null  object \n",
      " 1   stop_count               11127 non-null  int64  \n",
      " 2   duration_in_hours        11127 non-null  float64\n",
      " 3   one_way_price_candollar  11127 non-null  int64  \n",
      " 4   cabin_class_id           11127 non-null  object \n",
      " 5   operating_airline_id     11127 non-null  object \n",
      " 6   marketing_airline_id     11127 non-null  object \n",
      "dtypes: float64(1), int64(2), object(4)\n",
      "memory usage: 608.6+ KB\n"
     ]
    }
   ],
   "source": [
    "class_price_airline_merged_df.info()"
   ]
  },
  {
   "cell_type": "code",
   "execution_count": 245,
   "metadata": {},
   "outputs": [
    {
     "data": {
      "application/vnd.jupyter.widget-view+json": {
       "model_id": "3d9debd1d1fc451c9b7b3cadbe39e667",
       "version_major": 2,
       "version_minor": 0
      },
      "text/plain": [
       "Summarize dataset:   0%|          | 0/5 [00:00<?, ?it/s]"
      ]
     },
     "metadata": {},
     "output_type": "display_data"
    },
    {
     "data": {
      "application/vnd.jupyter.widget-view+json": {
       "model_id": "ba0647ffd9f64fb88baed2cf3300c927",
       "version_major": 2,
       "version_minor": 0
      },
      "text/plain": [
       "Generate report structure:   0%|          | 0/1 [00:00<?, ?it/s]"
      ]
     },
     "metadata": {},
     "output_type": "display_data"
    },
    {
     "data": {
      "application/vnd.jupyter.widget-view+json": {
       "model_id": "a8541e275b4d47f4b2867393003dc9f1",
       "version_major": 2,
       "version_minor": 0
      },
      "text/plain": [
       "Render HTML:   0%|          | 0/1 [00:00<?, ?it/s]"
      ]
     },
     "metadata": {},
     "output_type": "display_data"
    },
    {
     "data": {
      "application/vnd.jupyter.widget-view+json": {
       "model_id": "ac8637a405e94a08b60c4db8312be873",
       "version_major": 2,
       "version_minor": 0
      },
      "text/plain": [
       "Export report to file:   0%|          | 0/1 [00:00<?, ?it/s]"
      ]
     },
     "metadata": {},
     "output_type": "display_data"
    }
   ],
   "source": [
    "# Data validation for \n",
    "# profiling report for flight_price_data using pandas_profiling.\n",
    "# Generate a profiling report\n",
    "profile = ProfileReport(class_price_airline_merged_df, title=\"flight price report\", explorative=True)\n",
    "\n",
    "# Save the report to an HTML file\n",
    "profile.to_file(\"flight_price.html\")"
   ]
  },
  {
   "cell_type": "code",
   "execution_count": 247,
   "metadata": {},
   "outputs": [],
   "source": [
    "class_price_airline_merged_df.to_csv('postgrs_tables/map_flight_price.csv', index=False)\n"
   ]
  }
 ],
 "metadata": {
  "kernelspec": {
   "display_name": "dev",
   "language": "python",
   "name": "python3"
  },
  "language_info": {
   "codemirror_mode": {
    "name": "ipython",
    "version": 3
   },
   "file_extension": ".py",
   "mimetype": "text/x-python",
   "name": "python",
   "nbconvert_exporter": "python",
   "pygments_lexer": "ipython3",
   "version": "3.10.15"
  }
 },
 "nbformat": 4,
 "nbformat_minor": 2
}
