{
 "cells": [
  {
   "cell_type": "code",
   "execution_count": 68,
   "metadata": {},
   "outputs": [],
   "source": [
    "# Import dependencies\n",
    "#  import pendra for data validation\n",
    "# ! pip install pandas Pandera \n",
    "\n",
    "import pandas as pd\n",
    "import pandera as pa\n",
    "import numpy as np\n"
   ]
  },
  {
   "cell_type": "markdown",
   "metadata": {},
   "source": [
    "## Steps for processing the dataset\n",
    "\n",
    "1. **Reading CSV from `merge_data` folder.**\n",
    "2. **Delete unwanted columns.**\n",
    "3. **Splitting the `departure_time` into two columns: `depart_date` and `depart_time`.**\n",
    "4. **Splitting the `arrival_time` into two columns: `arrival_date` and `arrival_time_only`.**\n",
    "5. **Checking for missing values and duplicate values.**\n"
   ]
  },
  {
   "cell_type": "code",
   "execution_count": 69,
   "metadata": {},
   "outputs": [],
   "source": [
    "# Read the data into a Pandas DataFrame\n",
    "itinerary_details_df = pd.read_csv('Resources/merge_data/cleaned_flight_price_data.csv')"
   ]
  },
  {
   "cell_type": "code",
   "execution_count": 70,
   "metadata": {},
   "outputs": [
    {
     "data": {
      "text/plain": [
       "Index(['date', 'itinerary_id', 'cabin_class', 'sort_by', 'price_raw', 'price',\n",
       "       'currency', 'flight_number', 'origin_airport', 'origin_city',\n",
       "       'origin_country', 'destination_airport', 'destination_city',\n",
       "       'destination_country', 'departure_time', 'arrival_time',\n",
       "       'number_of_stops', 'marketing_airline', 'operating_airline',\n",
       "       'change_allowed', 'cancellation_allowed', 'is_self_transfer',\n",
       "       'has_flexible_options', 'Score', 'depart_date', 'depart_time',\n",
       "       'arrival_date', 'arrival_time_only', 'duration_in_hrs'],\n",
       "      dtype='object')"
      ]
     },
     "execution_count": 70,
     "metadata": {},
     "output_type": "execute_result"
    }
   ],
   "source": [
    "itinerary_details_df.columns"
   ]
  },
  {
   "cell_type": "code",
   "execution_count": 71,
   "metadata": {},
   "outputs": [],
   "source": [
    "itinerary_details_unwanted = ['date','price_raw','cancellation_allowed','sort_by','currency',\n",
    "                     'has_flexible_options','change_allowed','destination_city', 'destination_country',\n",
    "                     'origin_city', 'origin_country']\n",
    "itinerary_details_df = itinerary_details_df.drop(columns=itinerary_details_unwanted, axis=1)"
   ]
  },
  {
   "cell_type": "code",
   "execution_count": 72,
   "metadata": {},
   "outputs": [
    {
     "data": {
      "text/plain": [
       "14"
      ]
     },
     "execution_count": 72,
     "metadata": {},
     "output_type": "execute_result"
    }
   ],
   "source": [
    "# checking for dulpicate in flight_price_df\n",
    "itinerary_details_df.duplicated().sum()\n"
   ]
  },
  {
   "cell_type": "markdown",
   "metadata": {},
   "source": [
    "## Steps for creating the dataset for `flight_df`\n",
    "\n",
    "1. **Creating the `flight_df`** from the columns:\n",
    "   - `flight_number`\n",
    "   - `origin_airport`\n",
    "   - `destination_airport`\n",
    "\n",
    "\n",
    "2. **Checking for null values** and **duplicate values**, and **deleting duplicates** from `flight_df`.\n",
    "\n",
    "3. **Dropping the columns** `origin_airport`, `destination_airport`, from `march_25_df`.\n",
    "\n",
    "4. **Creating a new column `flight_id`** by concatenating the values in the `flight_number` with the string 'FL' in `flight_df`.\n",
    "\n",
    "5. **Adding a column `flight_id`** to the `march_25_df`.\n",
    "\n",
    "6. **Merging the `march_25_df`** with the `flight_df` on the `flight_number` column.\n",
    "\n",
    "7. **Deleting `flight_number`** from `march_25_df`.\n"
   ]
  },
  {
   "cell_type": "code",
   "execution_count": 73,
   "metadata": {},
   "outputs": [],
   "source": [
    "# Getting flight_number,origin_airport,destination_airport,duration_minutes,stop_count,\tmarketing_airline,\toperating_airline to crate a new dataset flight_df\n",
    "flight_df = itinerary_details_df[['flight_number','origin_airport','destination_airport']]"
   ]
  },
  {
   "cell_type": "code",
   "execution_count": 74,
   "metadata": {},
   "outputs": [],
   "source": [
    "# Checking for duplicates in flight_df\n",
    "flight_df.duplicated().sum()\n",
    "# deleting duplicates\n",
    "flight_df = flight_df.drop_duplicates()"
   ]
  },
  {
   "cell_type": "code",
   "execution_count": 75,
   "metadata": {},
   "outputs": [
    {
     "data": {
      "application/vnd.microsoft.datawrangler.viewer.v0+json": {
       "columns": [
        {
         "name": "index",
         "rawType": "int64",
         "type": "integer"
        },
        {
         "name": "flight_number",
         "rawType": "int64",
         "type": "integer"
        },
        {
         "name": "origin_airport",
         "rawType": "object",
         "type": "string"
        },
        {
         "name": "destination_airport",
         "rawType": "object",
         "type": "string"
        },
        {
         "name": "flight_id",
         "rawType": "object",
         "type": "string"
        }
       ],
       "conversionMethod": "pd.DataFrame",
       "ref": "e768baf0-cb75-4d01-9d61-e1e1f0251903",
       "rows": [
        [
         "0",
         "6340",
         "YYZ",
         "ATL",
         "FL6340"
        ],
        [
         "1",
         "6482",
         "ATL",
         "DFW",
         "FL6482"
        ],
        [
         "2",
         "2205",
         "YTZ",
         "YOW",
         "FL2205"
        ],
        [
         "3",
         "2662",
         "YYZ",
         "ATL",
         "FL2662"
        ],
        [
         "4",
         "2988",
         "YYZ",
         "ATL",
         "FL2988"
        ]
       ],
       "shape": {
        "columns": 4,
        "rows": 5
       }
      },
      "text/html": [
       "<div>\n",
       "<style scoped>\n",
       "    .dataframe tbody tr th:only-of-type {\n",
       "        vertical-align: middle;\n",
       "    }\n",
       "\n",
       "    .dataframe tbody tr th {\n",
       "        vertical-align: top;\n",
       "    }\n",
       "\n",
       "    .dataframe thead th {\n",
       "        text-align: right;\n",
       "    }\n",
       "</style>\n",
       "<table border=\"1\" class=\"dataframe\">\n",
       "  <thead>\n",
       "    <tr style=\"text-align: right;\">\n",
       "      <th></th>\n",
       "      <th>flight_number</th>\n",
       "      <th>origin_airport</th>\n",
       "      <th>destination_airport</th>\n",
       "      <th>flight_id</th>\n",
       "    </tr>\n",
       "  </thead>\n",
       "  <tbody>\n",
       "    <tr>\n",
       "      <th>0</th>\n",
       "      <td>6340</td>\n",
       "      <td>YYZ</td>\n",
       "      <td>ATL</td>\n",
       "      <td>FL6340</td>\n",
       "    </tr>\n",
       "    <tr>\n",
       "      <th>1</th>\n",
       "      <td>6482</td>\n",
       "      <td>ATL</td>\n",
       "      <td>DFW</td>\n",
       "      <td>FL6482</td>\n",
       "    </tr>\n",
       "    <tr>\n",
       "      <th>2</th>\n",
       "      <td>2205</td>\n",
       "      <td>YTZ</td>\n",
       "      <td>YOW</td>\n",
       "      <td>FL2205</td>\n",
       "    </tr>\n",
       "    <tr>\n",
       "      <th>3</th>\n",
       "      <td>2662</td>\n",
       "      <td>YYZ</td>\n",
       "      <td>ATL</td>\n",
       "      <td>FL2662</td>\n",
       "    </tr>\n",
       "    <tr>\n",
       "      <th>4</th>\n",
       "      <td>2988</td>\n",
       "      <td>YYZ</td>\n",
       "      <td>ATL</td>\n",
       "      <td>FL2988</td>\n",
       "    </tr>\n",
       "  </tbody>\n",
       "</table>\n",
       "</div>"
      ],
      "text/plain": [
       "   flight_number origin_airport destination_airport flight_id\n",
       "0           6340            YYZ                 ATL    FL6340\n",
       "1           6482            ATL                 DFW    FL6482\n",
       "2           2205            YTZ                 YOW    FL2205\n",
       "3           2662            YYZ                 ATL    FL2662\n",
       "4           2988            YYZ                 ATL    FL2988"
      ]
     },
     "execution_count": 75,
     "metadata": {},
     "output_type": "execute_result"
    }
   ],
   "source": [
    "# adding  a new column flight_id to the flight_df\n",
    "# Create a new column flight_id by concatenating the values in the flight_number with string 'FL'\n",
    "flight_df['flight_id'] = 'FL' + flight_df['flight_number'].astype(str)\n",
    "\n",
    "flight_df.head()"
   ]
  },
  {
   "cell_type": "code",
   "execution_count": 76,
   "metadata": {},
   "outputs": [
    {
     "data": {
      "text/plain": [
       "Index(['flight_number', 'origin_airport', 'destination_airport', 'flight_id'], dtype='object')"
      ]
     },
     "execution_count": 76,
     "metadata": {},
     "output_type": "execute_result"
    }
   ],
   "source": [
    "flight_df.columns"
   ]
  },
  {
   "cell_type": "code",
   "execution_count": 77,
   "metadata": {},
   "outputs": [],
   "source": [
    "# dropping the origin_airport,destination_airport columns from the price_flight_df\n",
    "itinerary_details_df = itinerary_details_df.drop(columns=['origin_airport',\n",
    "                                        'destination_airport'])"
   ]
  },
  {
   "cell_type": "code",
   "execution_count": 78,
   "metadata": {},
   "outputs": [
    {
     "data": {
      "text/plain": [
       "Index(['itinerary_id', 'cabin_class', 'price', 'flight_number',\n",
       "       'departure_time', 'arrival_time', 'number_of_stops',\n",
       "       'marketing_airline', 'operating_airline', 'is_self_transfer', 'Score',\n",
       "       'depart_date', 'depart_time', 'arrival_date', 'arrival_time_only',\n",
       "       'duration_in_hrs'],\n",
       "      dtype='object')"
      ]
     },
     "execution_count": 78,
     "metadata": {},
     "output_type": "execute_result"
    }
   ],
   "source": [
    "itinerary_details_df.columns\n"
   ]
  },
  {
   "cell_type": "code",
   "execution_count": 79,
   "metadata": {},
   "outputs": [
    {
     "data": {
      "application/vnd.microsoft.datawrangler.viewer.v0+json": {
       "columns": [
        {
         "name": "index",
         "rawType": "int64",
         "type": "integer"
        },
        {
         "name": "itinerary_id",
         "rawType": "object",
         "type": "string"
        },
        {
         "name": "cabin_class",
         "rawType": "object",
         "type": "string"
        },
        {
         "name": "price",
         "rawType": "object",
         "type": "string"
        },
        {
         "name": "flight_number",
         "rawType": "int64",
         "type": "integer"
        },
        {
         "name": "departure_time",
         "rawType": "object",
         "type": "string"
        },
        {
         "name": "arrival_time",
         "rawType": "object",
         "type": "string"
        },
        {
         "name": "number_of_stops",
         "rawType": "int64",
         "type": "integer"
        },
        {
         "name": "marketing_airline",
         "rawType": "object",
         "type": "string"
        },
        {
         "name": "operating_airline",
         "rawType": "object",
         "type": "string"
        },
        {
         "name": "is_self_transfer",
         "rawType": "bool",
         "type": "boolean"
        },
        {
         "name": "Score",
         "rawType": "float64",
         "type": "float"
        },
        {
         "name": "depart_date",
         "rawType": "object",
         "type": "string"
        },
        {
         "name": "depart_time",
         "rawType": "object",
         "type": "string"
        },
        {
         "name": "arrival_date",
         "rawType": "object",
         "type": "string"
        },
        {
         "name": "arrival_time_only",
         "rawType": "object",
         "type": "string"
        },
        {
         "name": "duration_in_hrs",
         "rawType": "float64",
         "type": "float"
        },
        {
         "name": "origin_airport",
         "rawType": "object",
         "type": "string"
        },
        {
         "name": "destination_airport",
         "rawType": "object",
         "type": "string"
        },
        {
         "name": "flight_id",
         "rawType": "object",
         "type": "string"
        }
       ],
       "conversionMethod": "pd.DataFrame",
       "ref": "cd108353-ea49-4d0c-a554-05cb8feaf00d",
       "rows": [
        [
         "0",
         "18467-2504010745--31679-1-10968-2504011249",
         "economy",
         "C$477",
         "6340",
         "2025-04-01 7:45",
         "2025-04-01 10:17",
         "1",
         "American Airlines",
         "American Airlines",
         "False",
         "0.544887",
         "2025-04-01",
         "7:45:00",
         "2025-04-01",
         "10:17:00",
         "2.53",
         "YYZ",
         "ATL",
         "FL6340"
        ],
        [
         "1",
         "18467-2504010745--31679-1-10968-2504011249",
         "economy",
         "C$477",
         "6482",
         "2025-04-01 11:20",
         "2025-04-01 12:49",
         "1",
         "American Airlines",
         "American Airlines",
         "False",
         "0.544887",
         "2025-04-01",
         "11:20:00",
         "2025-04-01",
         "12:49:00",
         "2.48",
         "ATL",
         "DFW",
         "FL6482"
        ],
        [
         "2",
         "18390-2504010700--31954,-31825-2-10968-2504011735",
         "economy",
         "C$253",
         "2205",
         "2025-04-01 7:00",
         "2025-04-01 7:59",
         "2",
         "American Airlines",
         "American Airlines",
         "True",
         "0.462699",
         "2025-04-01",
         "7:00:00",
         "2025-04-01",
         "7:59:00",
         "0.98",
         "YTZ",
         "YOW",
         "FL2205"
        ],
        [
         "3",
         "18467-2504010615--32385-1-10910-2504011111",
         "premium_economy",
         "C$581",
         "2662",
         "2025-04-01 6:15",
         "2025-04-01 8:49",
         "1",
         "United",
         "Air Canada",
         "False",
         "0.576769",
         "2025-04-01",
         "6:15:00",
         "2025-04-01",
         "8:49:00",
         "2.57",
         "YYZ",
         "ATL",
         "FL2662"
        ],
        [
         "4",
         "18467-2504010745--32385-1-10968-2504011249",
         "premium_economy",
         "C$581",
         "2988",
         "2025-04-01 7:45",
         "2025-04-01 10:17",
         "1",
         "United",
         "Air Canada",
         "False",
         "0.5653",
         "2025-04-01",
         "7:45:00",
         "2025-04-01",
         "10:17:00",
         "2.53",
         "YYZ",
         "ATL",
         "FL2988"
        ]
       ],
       "shape": {
        "columns": 19,
        "rows": 5
       }
      },
      "text/html": [
       "<div>\n",
       "<style scoped>\n",
       "    .dataframe tbody tr th:only-of-type {\n",
       "        vertical-align: middle;\n",
       "    }\n",
       "\n",
       "    .dataframe tbody tr th {\n",
       "        vertical-align: top;\n",
       "    }\n",
       "\n",
       "    .dataframe thead th {\n",
       "        text-align: right;\n",
       "    }\n",
       "</style>\n",
       "<table border=\"1\" class=\"dataframe\">\n",
       "  <thead>\n",
       "    <tr style=\"text-align: right;\">\n",
       "      <th></th>\n",
       "      <th>itinerary_id</th>\n",
       "      <th>cabin_class</th>\n",
       "      <th>price</th>\n",
       "      <th>flight_number</th>\n",
       "      <th>departure_time</th>\n",
       "      <th>arrival_time</th>\n",
       "      <th>number_of_stops</th>\n",
       "      <th>marketing_airline</th>\n",
       "      <th>operating_airline</th>\n",
       "      <th>is_self_transfer</th>\n",
       "      <th>Score</th>\n",
       "      <th>depart_date</th>\n",
       "      <th>depart_time</th>\n",
       "      <th>arrival_date</th>\n",
       "      <th>arrival_time_only</th>\n",
       "      <th>duration_in_hrs</th>\n",
       "      <th>origin_airport</th>\n",
       "      <th>destination_airport</th>\n",
       "      <th>flight_id</th>\n",
       "    </tr>\n",
       "  </thead>\n",
       "  <tbody>\n",
       "    <tr>\n",
       "      <th>0</th>\n",
       "      <td>18467-2504010745--31679-1-10968-2504011249</td>\n",
       "      <td>economy</td>\n",
       "      <td>C$477</td>\n",
       "      <td>6340</td>\n",
       "      <td>2025-04-01 7:45</td>\n",
       "      <td>2025-04-01 10:17</td>\n",
       "      <td>1</td>\n",
       "      <td>American Airlines</td>\n",
       "      <td>American Airlines</td>\n",
       "      <td>False</td>\n",
       "      <td>0.544887</td>\n",
       "      <td>2025-04-01</td>\n",
       "      <td>7:45:00</td>\n",
       "      <td>2025-04-01</td>\n",
       "      <td>10:17:00</td>\n",
       "      <td>2.53</td>\n",
       "      <td>YYZ</td>\n",
       "      <td>ATL</td>\n",
       "      <td>FL6340</td>\n",
       "    </tr>\n",
       "    <tr>\n",
       "      <th>1</th>\n",
       "      <td>18467-2504010745--31679-1-10968-2504011249</td>\n",
       "      <td>economy</td>\n",
       "      <td>C$477</td>\n",
       "      <td>6482</td>\n",
       "      <td>2025-04-01 11:20</td>\n",
       "      <td>2025-04-01 12:49</td>\n",
       "      <td>1</td>\n",
       "      <td>American Airlines</td>\n",
       "      <td>American Airlines</td>\n",
       "      <td>False</td>\n",
       "      <td>0.544887</td>\n",
       "      <td>2025-04-01</td>\n",
       "      <td>11:20:00</td>\n",
       "      <td>2025-04-01</td>\n",
       "      <td>12:49:00</td>\n",
       "      <td>2.48</td>\n",
       "      <td>ATL</td>\n",
       "      <td>DFW</td>\n",
       "      <td>FL6482</td>\n",
       "    </tr>\n",
       "    <tr>\n",
       "      <th>2</th>\n",
       "      <td>18390-2504010700--31954,-31825-2-10968-2504011735</td>\n",
       "      <td>economy</td>\n",
       "      <td>C$253</td>\n",
       "      <td>2205</td>\n",
       "      <td>2025-04-01 7:00</td>\n",
       "      <td>2025-04-01 7:59</td>\n",
       "      <td>2</td>\n",
       "      <td>American Airlines</td>\n",
       "      <td>American Airlines</td>\n",
       "      <td>True</td>\n",
       "      <td>0.462699</td>\n",
       "      <td>2025-04-01</td>\n",
       "      <td>7:00:00</td>\n",
       "      <td>2025-04-01</td>\n",
       "      <td>7:59:00</td>\n",
       "      <td>0.98</td>\n",
       "      <td>YTZ</td>\n",
       "      <td>YOW</td>\n",
       "      <td>FL2205</td>\n",
       "    </tr>\n",
       "    <tr>\n",
       "      <th>3</th>\n",
       "      <td>18467-2504010615--32385-1-10910-2504011111</td>\n",
       "      <td>premium_economy</td>\n",
       "      <td>C$581</td>\n",
       "      <td>2662</td>\n",
       "      <td>2025-04-01 6:15</td>\n",
       "      <td>2025-04-01 8:49</td>\n",
       "      <td>1</td>\n",
       "      <td>United</td>\n",
       "      <td>Air Canada</td>\n",
       "      <td>False</td>\n",
       "      <td>0.576769</td>\n",
       "      <td>2025-04-01</td>\n",
       "      <td>6:15:00</td>\n",
       "      <td>2025-04-01</td>\n",
       "      <td>8:49:00</td>\n",
       "      <td>2.57</td>\n",
       "      <td>YYZ</td>\n",
       "      <td>ATL</td>\n",
       "      <td>FL2662</td>\n",
       "    </tr>\n",
       "    <tr>\n",
       "      <th>4</th>\n",
       "      <td>18467-2504010745--32385-1-10968-2504011249</td>\n",
       "      <td>premium_economy</td>\n",
       "      <td>C$581</td>\n",
       "      <td>2988</td>\n",
       "      <td>2025-04-01 7:45</td>\n",
       "      <td>2025-04-01 10:17</td>\n",
       "      <td>1</td>\n",
       "      <td>United</td>\n",
       "      <td>Air Canada</td>\n",
       "      <td>False</td>\n",
       "      <td>0.565300</td>\n",
       "      <td>2025-04-01</td>\n",
       "      <td>7:45:00</td>\n",
       "      <td>2025-04-01</td>\n",
       "      <td>10:17:00</td>\n",
       "      <td>2.53</td>\n",
       "      <td>YYZ</td>\n",
       "      <td>ATL</td>\n",
       "      <td>FL2988</td>\n",
       "    </tr>\n",
       "  </tbody>\n",
       "</table>\n",
       "</div>"
      ],
      "text/plain": [
       "                                        itinerary_id      cabin_class  price  \\\n",
       "0         18467-2504010745--31679-1-10968-2504011249          economy  C$477   \n",
       "1         18467-2504010745--31679-1-10968-2504011249          economy  C$477   \n",
       "2  18390-2504010700--31954,-31825-2-10968-2504011735          economy  C$253   \n",
       "3         18467-2504010615--32385-1-10910-2504011111  premium_economy  C$581   \n",
       "4         18467-2504010745--32385-1-10968-2504011249  premium_economy  C$581   \n",
       "\n",
       "   flight_number    departure_time      arrival_time  number_of_stops  \\\n",
       "0           6340   2025-04-01 7:45  2025-04-01 10:17                1   \n",
       "1           6482  2025-04-01 11:20  2025-04-01 12:49                1   \n",
       "2           2205   2025-04-01 7:00   2025-04-01 7:59                2   \n",
       "3           2662   2025-04-01 6:15   2025-04-01 8:49                1   \n",
       "4           2988   2025-04-01 7:45  2025-04-01 10:17                1   \n",
       "\n",
       "   marketing_airline  operating_airline  is_self_transfer     Score  \\\n",
       "0  American Airlines  American Airlines             False  0.544887   \n",
       "1  American Airlines  American Airlines             False  0.544887   \n",
       "2  American Airlines  American Airlines              True  0.462699   \n",
       "3             United         Air Canada             False  0.576769   \n",
       "4             United         Air Canada             False  0.565300   \n",
       "\n",
       "  depart_date depart_time arrival_date arrival_time_only  duration_in_hrs  \\\n",
       "0  2025-04-01     7:45:00   2025-04-01          10:17:00             2.53   \n",
       "1  2025-04-01    11:20:00   2025-04-01          12:49:00             2.48   \n",
       "2  2025-04-01     7:00:00   2025-04-01           7:59:00             0.98   \n",
       "3  2025-04-01     6:15:00   2025-04-01           8:49:00             2.57   \n",
       "4  2025-04-01     7:45:00   2025-04-01          10:17:00             2.53   \n",
       "\n",
       "  origin_airport destination_airport flight_id  \n",
       "0            YYZ                 ATL    FL6340  \n",
       "1            ATL                 DFW    FL6482  \n",
       "2            YTZ                 YOW    FL2205  \n",
       "3            YYZ                 ATL    FL2662  \n",
       "4            YYZ                 ATL    FL2988  "
      ]
     },
     "execution_count": 79,
     "metadata": {},
     "output_type": "execute_result"
    }
   ],
   "source": [
    "# Merge the flight_march_df with the march_25_df\n",
    "itinerary_details_df = pd.merge(itinerary_details_df, flight_df, on='flight_number', how='left')\n",
    "itinerary_details_df.head()"
   ]
  },
  {
   "cell_type": "markdown",
   "metadata": {},
   "source": [
    "## Steps for creating Dataset for cabin_class\n",
    "1. **Getting unique values from `cabin_class` from `flight_price_df`.**\n",
    "2. **Creating a numpy array for `cabin_class_id`.**\n",
    "3. **Add `cc` to each `cabin_class_id` list.**\n",
    "4. **Create a `cabin_class_df` DataFrame with the `cabin_class_id` array as the `cabin_class_id` and `cabin_class` list as the `cabin_class` name.**\n",
    "5. **Merging the `flight_price_df` with `cabin_class` with `cabin_class_df` on `cabin_class` column.**\n"
   ]
  },
  {
   "cell_type": "code",
   "execution_count": 80,
   "metadata": {},
   "outputs": [
    {
     "name": "stdout",
     "output_type": "stream",
     "text": [
      "['economy' 'premium_economy' 'business' 'first']\n"
     ]
    }
   ],
   "source": [
    "# Getting unique values from cabin_class column\n",
    "cabin_class= itinerary_details_df['cabin_class'].unique()\n",
    "print(cabin_class)\n",
    "# Getting count of the unique values from cabin_class column\n",
    "itinerary_details_df['cabin_class'].nunique()\n",
    "# Create numpy arrays from 1-4 for the cabin_class\n",
    "cabin_class_id = np.arange(1,5)\n",
    "# Use a list comprehension to add \"cs\" to each cabin_class_id. \n",
    "cabin_class_id =  ['cc' + str(id) for id in cabin_class_id]\n",
    "# Create a cabin_class_df DataFrame with the cabin_class__id array as the cabin_class_id and cabin_class list as the cabin_class name.\n",
    "cabin_class_df = pd.DataFrame({'cabin_class_id': cabin_class_id, 'cabin_class': cabin_class})\n",
    "cabin_class_df\n",
    "# save the cabin_class_df to a csv file\n",
    "cabin_class_df.to_csv('Resources/clean_data/cabin_class.csv', index=False)\n",
    "\n"
   ]
  },
  {
   "cell_type": "code",
   "execution_count": 81,
   "metadata": {},
   "outputs": [],
   "source": [
    "# save the cabin_class_df to a csv file\n",
    "cabin_class_df.to_csv('Resources/clean_data/cabin_class.csv', index=False)"
   ]
  },
  {
   "cell_type": "code",
   "execution_count": 82,
   "metadata": {},
   "outputs": [
    {
     "data": {
      "application/vnd.microsoft.datawrangler.viewer.v0+json": {
       "columns": [
        {
         "name": "index",
         "rawType": "int64",
         "type": "integer"
        },
        {
         "name": "itinerary_id",
         "rawType": "object",
         "type": "string"
        },
        {
         "name": "price",
         "rawType": "object",
         "type": "string"
        },
        {
         "name": "flight_number",
         "rawType": "int64",
         "type": "integer"
        },
        {
         "name": "departure_time",
         "rawType": "object",
         "type": "string"
        },
        {
         "name": "arrival_time",
         "rawType": "object",
         "type": "string"
        },
        {
         "name": "number_of_stops",
         "rawType": "int64",
         "type": "integer"
        },
        {
         "name": "marketing_airline",
         "rawType": "object",
         "type": "string"
        },
        {
         "name": "operating_airline",
         "rawType": "object",
         "type": "string"
        },
        {
         "name": "is_self_transfer",
         "rawType": "bool",
         "type": "boolean"
        },
        {
         "name": "Score",
         "rawType": "float64",
         "type": "float"
        },
        {
         "name": "depart_date",
         "rawType": "object",
         "type": "string"
        },
        {
         "name": "depart_time",
         "rawType": "object",
         "type": "string"
        },
        {
         "name": "arrival_date",
         "rawType": "object",
         "type": "string"
        },
        {
         "name": "arrival_time_only",
         "rawType": "object",
         "type": "string"
        },
        {
         "name": "duration_in_hrs",
         "rawType": "float64",
         "type": "float"
        },
        {
         "name": "origin_airport",
         "rawType": "object",
         "type": "string"
        },
        {
         "name": "destination_airport",
         "rawType": "object",
         "type": "string"
        },
        {
         "name": "flight_id",
         "rawType": "object",
         "type": "string"
        },
        {
         "name": "cabin_class_id",
         "rawType": "object",
         "type": "string"
        }
       ],
       "conversionMethod": "pd.DataFrame",
       "ref": "5339468e-c71f-4d87-a05c-f5f19ed27f9c",
       "rows": [
        [
         "0",
         "18467-2504010745--31679-1-10968-2504011249",
         "C$477",
         "6340",
         "2025-04-01 7:45",
         "2025-04-01 10:17",
         "1",
         "American Airlines",
         "American Airlines",
         "False",
         "0.544887",
         "2025-04-01",
         "7:45:00",
         "2025-04-01",
         "10:17:00",
         "2.53",
         "YYZ",
         "ATL",
         "FL6340",
         "cc1"
        ],
        [
         "1",
         "18467-2504010745--31679-1-10968-2504011249",
         "C$477",
         "6482",
         "2025-04-01 11:20",
         "2025-04-01 12:49",
         "1",
         "American Airlines",
         "American Airlines",
         "False",
         "0.544887",
         "2025-04-01",
         "11:20:00",
         "2025-04-01",
         "12:49:00",
         "2.48",
         "ATL",
         "DFW",
         "FL6482",
         "cc1"
        ],
        [
         "2",
         "18390-2504010700--31954,-31825-2-10968-2504011735",
         "C$253",
         "2205",
         "2025-04-01 7:00",
         "2025-04-01 7:59",
         "2",
         "American Airlines",
         "American Airlines",
         "True",
         "0.462699",
         "2025-04-01",
         "7:00:00",
         "2025-04-01",
         "7:59:00",
         "0.98",
         "YTZ",
         "YOW",
         "FL2205",
         "cc1"
        ],
        [
         "3",
         "18467-2504010615--32385-1-10910-2504011111",
         "C$581",
         "2662",
         "2025-04-01 6:15",
         "2025-04-01 8:49",
         "1",
         "United",
         "Air Canada",
         "False",
         "0.576769",
         "2025-04-01",
         "6:15:00",
         "2025-04-01",
         "8:49:00",
         "2.57",
         "YYZ",
         "ATL",
         "FL2662",
         "cc2"
        ],
        [
         "4",
         "18467-2504010745--32385-1-10968-2504011249",
         "C$581",
         "2988",
         "2025-04-01 7:45",
         "2025-04-01 10:17",
         "1",
         "United",
         "Air Canada",
         "False",
         "0.5653",
         "2025-04-01",
         "7:45:00",
         "2025-04-01",
         "10:17:00",
         "2.53",
         "YYZ",
         "ATL",
         "FL2988",
         "cc2"
        ]
       ],
       "shape": {
        "columns": 19,
        "rows": 5
       }
      },
      "text/html": [
       "<div>\n",
       "<style scoped>\n",
       "    .dataframe tbody tr th:only-of-type {\n",
       "        vertical-align: middle;\n",
       "    }\n",
       "\n",
       "    .dataframe tbody tr th {\n",
       "        vertical-align: top;\n",
       "    }\n",
       "\n",
       "    .dataframe thead th {\n",
       "        text-align: right;\n",
       "    }\n",
       "</style>\n",
       "<table border=\"1\" class=\"dataframe\">\n",
       "  <thead>\n",
       "    <tr style=\"text-align: right;\">\n",
       "      <th></th>\n",
       "      <th>itinerary_id</th>\n",
       "      <th>price</th>\n",
       "      <th>flight_number</th>\n",
       "      <th>departure_time</th>\n",
       "      <th>arrival_time</th>\n",
       "      <th>number_of_stops</th>\n",
       "      <th>marketing_airline</th>\n",
       "      <th>operating_airline</th>\n",
       "      <th>is_self_transfer</th>\n",
       "      <th>Score</th>\n",
       "      <th>depart_date</th>\n",
       "      <th>depart_time</th>\n",
       "      <th>arrival_date</th>\n",
       "      <th>arrival_time_only</th>\n",
       "      <th>duration_in_hrs</th>\n",
       "      <th>origin_airport</th>\n",
       "      <th>destination_airport</th>\n",
       "      <th>flight_id</th>\n",
       "      <th>cabin_class_id</th>\n",
       "    </tr>\n",
       "  </thead>\n",
       "  <tbody>\n",
       "    <tr>\n",
       "      <th>0</th>\n",
       "      <td>18467-2504010745--31679-1-10968-2504011249</td>\n",
       "      <td>C$477</td>\n",
       "      <td>6340</td>\n",
       "      <td>2025-04-01 7:45</td>\n",
       "      <td>2025-04-01 10:17</td>\n",
       "      <td>1</td>\n",
       "      <td>American Airlines</td>\n",
       "      <td>American Airlines</td>\n",
       "      <td>False</td>\n",
       "      <td>0.544887</td>\n",
       "      <td>2025-04-01</td>\n",
       "      <td>7:45:00</td>\n",
       "      <td>2025-04-01</td>\n",
       "      <td>10:17:00</td>\n",
       "      <td>2.53</td>\n",
       "      <td>YYZ</td>\n",
       "      <td>ATL</td>\n",
       "      <td>FL6340</td>\n",
       "      <td>cc1</td>\n",
       "    </tr>\n",
       "    <tr>\n",
       "      <th>1</th>\n",
       "      <td>18467-2504010745--31679-1-10968-2504011249</td>\n",
       "      <td>C$477</td>\n",
       "      <td>6482</td>\n",
       "      <td>2025-04-01 11:20</td>\n",
       "      <td>2025-04-01 12:49</td>\n",
       "      <td>1</td>\n",
       "      <td>American Airlines</td>\n",
       "      <td>American Airlines</td>\n",
       "      <td>False</td>\n",
       "      <td>0.544887</td>\n",
       "      <td>2025-04-01</td>\n",
       "      <td>11:20:00</td>\n",
       "      <td>2025-04-01</td>\n",
       "      <td>12:49:00</td>\n",
       "      <td>2.48</td>\n",
       "      <td>ATL</td>\n",
       "      <td>DFW</td>\n",
       "      <td>FL6482</td>\n",
       "      <td>cc1</td>\n",
       "    </tr>\n",
       "    <tr>\n",
       "      <th>2</th>\n",
       "      <td>18390-2504010700--31954,-31825-2-10968-2504011735</td>\n",
       "      <td>C$253</td>\n",
       "      <td>2205</td>\n",
       "      <td>2025-04-01 7:00</td>\n",
       "      <td>2025-04-01 7:59</td>\n",
       "      <td>2</td>\n",
       "      <td>American Airlines</td>\n",
       "      <td>American Airlines</td>\n",
       "      <td>True</td>\n",
       "      <td>0.462699</td>\n",
       "      <td>2025-04-01</td>\n",
       "      <td>7:00:00</td>\n",
       "      <td>2025-04-01</td>\n",
       "      <td>7:59:00</td>\n",
       "      <td>0.98</td>\n",
       "      <td>YTZ</td>\n",
       "      <td>YOW</td>\n",
       "      <td>FL2205</td>\n",
       "      <td>cc1</td>\n",
       "    </tr>\n",
       "    <tr>\n",
       "      <th>3</th>\n",
       "      <td>18467-2504010615--32385-1-10910-2504011111</td>\n",
       "      <td>C$581</td>\n",
       "      <td>2662</td>\n",
       "      <td>2025-04-01 6:15</td>\n",
       "      <td>2025-04-01 8:49</td>\n",
       "      <td>1</td>\n",
       "      <td>United</td>\n",
       "      <td>Air Canada</td>\n",
       "      <td>False</td>\n",
       "      <td>0.576769</td>\n",
       "      <td>2025-04-01</td>\n",
       "      <td>6:15:00</td>\n",
       "      <td>2025-04-01</td>\n",
       "      <td>8:49:00</td>\n",
       "      <td>2.57</td>\n",
       "      <td>YYZ</td>\n",
       "      <td>ATL</td>\n",
       "      <td>FL2662</td>\n",
       "      <td>cc2</td>\n",
       "    </tr>\n",
       "    <tr>\n",
       "      <th>4</th>\n",
       "      <td>18467-2504010745--32385-1-10968-2504011249</td>\n",
       "      <td>C$581</td>\n",
       "      <td>2988</td>\n",
       "      <td>2025-04-01 7:45</td>\n",
       "      <td>2025-04-01 10:17</td>\n",
       "      <td>1</td>\n",
       "      <td>United</td>\n",
       "      <td>Air Canada</td>\n",
       "      <td>False</td>\n",
       "      <td>0.565300</td>\n",
       "      <td>2025-04-01</td>\n",
       "      <td>7:45:00</td>\n",
       "      <td>2025-04-01</td>\n",
       "      <td>10:17:00</td>\n",
       "      <td>2.53</td>\n",
       "      <td>YYZ</td>\n",
       "      <td>ATL</td>\n",
       "      <td>FL2988</td>\n",
       "      <td>cc2</td>\n",
       "    </tr>\n",
       "  </tbody>\n",
       "</table>\n",
       "</div>"
      ],
      "text/plain": [
       "                                        itinerary_id  price  flight_number  \\\n",
       "0         18467-2504010745--31679-1-10968-2504011249  C$477           6340   \n",
       "1         18467-2504010745--31679-1-10968-2504011249  C$477           6482   \n",
       "2  18390-2504010700--31954,-31825-2-10968-2504011735  C$253           2205   \n",
       "3         18467-2504010615--32385-1-10910-2504011111  C$581           2662   \n",
       "4         18467-2504010745--32385-1-10968-2504011249  C$581           2988   \n",
       "\n",
       "     departure_time      arrival_time  number_of_stops  marketing_airline  \\\n",
       "0   2025-04-01 7:45  2025-04-01 10:17                1  American Airlines   \n",
       "1  2025-04-01 11:20  2025-04-01 12:49                1  American Airlines   \n",
       "2   2025-04-01 7:00   2025-04-01 7:59                2  American Airlines   \n",
       "3   2025-04-01 6:15   2025-04-01 8:49                1             United   \n",
       "4   2025-04-01 7:45  2025-04-01 10:17                1             United   \n",
       "\n",
       "   operating_airline  is_self_transfer     Score depart_date depart_time  \\\n",
       "0  American Airlines             False  0.544887  2025-04-01     7:45:00   \n",
       "1  American Airlines             False  0.544887  2025-04-01    11:20:00   \n",
       "2  American Airlines              True  0.462699  2025-04-01     7:00:00   \n",
       "3         Air Canada             False  0.576769  2025-04-01     6:15:00   \n",
       "4         Air Canada             False  0.565300  2025-04-01     7:45:00   \n",
       "\n",
       "  arrival_date arrival_time_only  duration_in_hrs origin_airport  \\\n",
       "0   2025-04-01          10:17:00             2.53            YYZ   \n",
       "1   2025-04-01          12:49:00             2.48            ATL   \n",
       "2   2025-04-01           7:59:00             0.98            YTZ   \n",
       "3   2025-04-01           8:49:00             2.57            YYZ   \n",
       "4   2025-04-01          10:17:00             2.53            YYZ   \n",
       "\n",
       "  destination_airport flight_id cabin_class_id  \n",
       "0                 ATL    FL6340            cc1  \n",
       "1                 DFW    FL6482            cc1  \n",
       "2                 YOW    FL2205            cc1  \n",
       "3                 ATL    FL2662            cc2  \n",
       "4                 ATL    FL2988            cc2  "
      ]
     },
     "execution_count": 82,
     "metadata": {},
     "output_type": "execute_result"
    }
   ],
   "source": [
    "# Merging the march_25_df with cabin_class_df on cabin_class column\n",
    "itinerary_details_df= itinerary_details_df.merge(cabin_class_df, on='cabin_class')\n",
    "\n",
    "# Delete the column cabin_class\n",
    "itinerary_details_df = itinerary_details_df.drop(columns=['cabin_class'])\n",
    "\n",
    "itinerary_details_df.head()\n"
   ]
  },
  {
   "cell_type": "code",
   "execution_count": 83,
   "metadata": {},
   "outputs": [],
   "source": [
    "# saving the flight_df to a csv file\n",
    "flight_df.to_csv('Resources/clean_data/flight.csv', index=False)"
   ]
  },
  {
   "cell_type": "code",
   "execution_count": 84,
   "metadata": {},
   "outputs": [],
   "source": [
    "# Saving the flight_price_df to a csv file\n",
    "itinerary_details_df.to_csv('Resources/clean_data/itinerary_details.csv', index=False)"
   ]
  }
 ],
 "metadata": {
  "kernelspec": {
   "display_name": "dev",
   "language": "python",
   "name": "python3"
  },
  "language_info": {
   "codemirror_mode": {
    "name": "ipython",
    "version": 3
   },
   "file_extension": ".py",
   "mimetype": "text/x-python",
   "name": "python",
   "nbconvert_exporter": "python",
   "pygments_lexer": "ipython3",
   "version": "3.10.15"
  }
 },
 "nbformat": 4,
 "nbformat_minor": 2
}
