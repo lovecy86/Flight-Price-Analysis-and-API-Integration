{
 "cells": [
  {
   "cell_type": "code",
   "execution_count": 24,
   "metadata": {},
   "outputs": [],
   "source": [
    "# Import dependencies\n",
    "#  import pendra for data validation\n",
    "# ! pip install pandas Pandera \n",
    "\n",
    "import pandas as pd\n",
    "import pandera as pa\n",
    "import numpy as np\n"
   ]
  },
  {
   "cell_type": "markdown",
   "metadata": {},
   "source": [
    "## Steps for processing the dataset\n",
    "\n",
    "1. **Reading CSV from `merge_data` folder.**\n",
    "2. **Delete unwanted columns.**\n",
    "3. **Splitting the `departure_time` into two columns: `depart_date` and `depart_time`.**\n",
    "4. **Splitting the `arrival_time` into two columns: `arrival_date` and `arrival_time_only`.**\n",
    "5. **Checking for missing values and duplicate values.**\n"
   ]
  },
  {
   "cell_type": "code",
   "execution_count": 25,
   "metadata": {},
   "outputs": [],
   "source": [
    "# Read the data into a Pandas DataFrame\n",
    "itinerary_details_df = pd.read_csv('Resources/merge_data/cleaned_flight_price_data.csv')"
   ]
  },
  {
   "cell_type": "code",
   "execution_count": 26,
   "metadata": {},
   "outputs": [
    {
     "data": {
      "text/plain": [
       "Index(['date', 'itinerary_id', 'cabin_class', 'sort_by', 'price_raw', 'price',\n",
       "       'currency', 'flight_number', 'origin_airport', 'origin_city',\n",
       "       'origin_country', 'destination_airport', 'destination_city',\n",
       "       'destination_country', 'departure_time', 'arrival_time',\n",
       "       'number_of_stops', 'marketing_airline', 'operating_airline',\n",
       "       'change_allowed', 'cancellation_allowed', 'is_self_transfer',\n",
       "       'has_flexible_options', 'Score', 'depart_date', 'depart_time',\n",
       "       'arrival_date', 'arrival_time_only', 'duration_in_hrs'],\n",
       "      dtype='object')"
      ]
     },
     "execution_count": 26,
     "metadata": {},
     "output_type": "execute_result"
    }
   ],
   "source": [
    "itinerary_details_df.columns"
   ]
  },
  {
   "cell_type": "code",
   "execution_count": 27,
   "metadata": {},
   "outputs": [],
   "source": [
    "itinerary_details_unwanted = ['date','price_raw','cancellation_allowed','sort_by','currency',\n",
    "                     'has_flexible_options','change_allowed','destination_city', 'destination_country',\n",
    "                     'origin_city', 'origin_country']\n",
    "itinerary_details_df = itinerary_details_df.drop(columns=itinerary_details_unwanted, axis=1)"
   ]
  },
  {
   "cell_type": "code",
   "execution_count": 28,
   "metadata": {},
   "outputs": [
    {
     "data": {
      "text/plain": [
       "Index(['itinerary_id', 'cabin_class', 'price', 'flight_number',\n",
       "       'origin_airport', 'destination_airport', 'departure_time',\n",
       "       'arrival_time', 'number_of_stops', 'marketing_airline',\n",
       "       'operating_airline', 'is_self_transfer', 'Score', 'depart_date',\n",
       "       'depart_time', 'arrival_date', 'arrival_time_only', 'duration_in_hrs'],\n",
       "      dtype='object')"
      ]
     },
     "execution_count": 28,
     "metadata": {},
     "output_type": "execute_result"
    }
   ],
   "source": [
    "itinerary_details_df.columns"
   ]
  },
  {
   "cell_type": "code",
   "execution_count": 29,
   "metadata": {},
   "outputs": [],
   "source": [
    "# adding a new auto-incrementing column in itinerary_details_df to trip_id\n",
    "\n",
    "itinerary_details_df['trip_id']= range(1, len(itinerary_details_df) + 1)\n"
   ]
  },
  {
   "cell_type": "code",
   "execution_count": 30,
   "metadata": {},
   "outputs": [
    {
     "data": {
      "text/plain": [
       "0"
      ]
     },
     "execution_count": 30,
     "metadata": {},
     "output_type": "execute_result"
    }
   ],
   "source": [
    "# checking for dulpicate in itinerary_details_df \n",
    "itinerary_details_df.duplicated().sum()\n"
   ]
  },
  {
   "cell_type": "markdown",
   "metadata": {},
   "source": [
    "## Steps for creating the dataset for `flight_df`\n",
    "\n",
    "1. **Creating the `flight_df`** from the columns:\n",
    "   - `flight_number`\n",
    "   - `origin_airport`\n",
    "   - `destination_airport`\n",
    "\n",
    "\n",
    "2. **Checking for null values** and **duplicate values**, and **deleting duplicates** from `flight_df`.\n",
    "\n",
    "3. **Dropping the columns** `origin_airport`, `destination_airport`, from `march_25_df`.\n",
    "\n",
    "4. **Creating a new column `flight_id`** by concatenating the values in the `flight_number` with the string 'FL' in `flight_df`.\n",
    "\n",
    "5. **Adding a column `flight_id`** to the `march_25_df`.\n",
    "\n",
    "6. **Merging the `march_25_df`** with the `flight_df` on the `flight_number` column.\n",
    "\n",
    "7. **Deleting `flight_number`** from `march_25_df`.\n"
   ]
  },
  {
   "cell_type": "code",
   "execution_count": 31,
   "metadata": {},
   "outputs": [],
   "source": [
    "# Getting flight_number,origin_airport,destination_airport,duration_minutes,stop_count,\tmarketing_airline,\toperating_airline to crate a new dataset flight_df\n",
    "flight_df = itinerary_details_df[['flight_number','origin_airport','destination_airport']]"
   ]
  },
  {
   "cell_type": "code",
   "execution_count": 32,
   "metadata": {},
   "outputs": [],
   "source": [
    "# Checking for duplicates in flight_df\n",
    "flight_df.duplicated().sum()\n",
    "# deleting duplicates\n",
    "flight_df = flight_df.drop_duplicates()"
   ]
  },
  {
   "cell_type": "code",
   "execution_count": 33,
   "metadata": {},
   "outputs": [
    {
     "data": {
      "application/vnd.microsoft.datawrangler.viewer.v0+json": {
       "columns": [
        {
         "name": "index",
         "rawType": "int64",
         "type": "integer"
        },
        {
         "name": "flight_number",
         "rawType": "int64",
         "type": "integer"
        },
        {
         "name": "origin_airport",
         "rawType": "object",
         "type": "string"
        },
        {
         "name": "destination_airport",
         "rawType": "object",
         "type": "string"
        },
        {
         "name": "flight_id",
         "rawType": "object",
         "type": "string"
        }
       ],
       "conversionMethod": "pd.DataFrame",
       "ref": "256f9f85-5094-4cf0-9f8b-1b53ba35e585",
       "rows": [
        [
         "0",
         "6340",
         "YYZ",
         "ATL",
         "FL6340"
        ],
        [
         "1",
         "6482",
         "ATL",
         "DFW",
         "FL6482"
        ],
        [
         "2",
         "2205",
         "YTZ",
         "YOW",
         "FL2205"
        ],
        [
         "3",
         "2662",
         "YYZ",
         "ATL",
         "FL2662"
        ],
        [
         "4",
         "2988",
         "YYZ",
         "ATL",
         "FL2988"
        ]
       ],
       "shape": {
        "columns": 4,
        "rows": 5
       }
      },
      "text/html": [
       "<div>\n",
       "<style scoped>\n",
       "    .dataframe tbody tr th:only-of-type {\n",
       "        vertical-align: middle;\n",
       "    }\n",
       "\n",
       "    .dataframe tbody tr th {\n",
       "        vertical-align: top;\n",
       "    }\n",
       "\n",
       "    .dataframe thead th {\n",
       "        text-align: right;\n",
       "    }\n",
       "</style>\n",
       "<table border=\"1\" class=\"dataframe\">\n",
       "  <thead>\n",
       "    <tr style=\"text-align: right;\">\n",
       "      <th></th>\n",
       "      <th>flight_number</th>\n",
       "      <th>origin_airport</th>\n",
       "      <th>destination_airport</th>\n",
       "      <th>flight_id</th>\n",
       "    </tr>\n",
       "  </thead>\n",
       "  <tbody>\n",
       "    <tr>\n",
       "      <th>0</th>\n",
       "      <td>6340</td>\n",
       "      <td>YYZ</td>\n",
       "      <td>ATL</td>\n",
       "      <td>FL6340</td>\n",
       "    </tr>\n",
       "    <tr>\n",
       "      <th>1</th>\n",
       "      <td>6482</td>\n",
       "      <td>ATL</td>\n",
       "      <td>DFW</td>\n",
       "      <td>FL6482</td>\n",
       "    </tr>\n",
       "    <tr>\n",
       "      <th>2</th>\n",
       "      <td>2205</td>\n",
       "      <td>YTZ</td>\n",
       "      <td>YOW</td>\n",
       "      <td>FL2205</td>\n",
       "    </tr>\n",
       "    <tr>\n",
       "      <th>3</th>\n",
       "      <td>2662</td>\n",
       "      <td>YYZ</td>\n",
       "      <td>ATL</td>\n",
       "      <td>FL2662</td>\n",
       "    </tr>\n",
       "    <tr>\n",
       "      <th>4</th>\n",
       "      <td>2988</td>\n",
       "      <td>YYZ</td>\n",
       "      <td>ATL</td>\n",
       "      <td>FL2988</td>\n",
       "    </tr>\n",
       "  </tbody>\n",
       "</table>\n",
       "</div>"
      ],
      "text/plain": [
       "   flight_number origin_airport destination_airport flight_id\n",
       "0           6340            YYZ                 ATL    FL6340\n",
       "1           6482            ATL                 DFW    FL6482\n",
       "2           2205            YTZ                 YOW    FL2205\n",
       "3           2662            YYZ                 ATL    FL2662\n",
       "4           2988            YYZ                 ATL    FL2988"
      ]
     },
     "execution_count": 33,
     "metadata": {},
     "output_type": "execute_result"
    }
   ],
   "source": [
    "# adding  a new column flight_id to the flight_df\n",
    "# Create a new column flight_id by concatenating the values in the flight_number with string 'FL'\n",
    "flight_df['flight_id'] = 'FL' + flight_df['flight_number'].astype(str)\n",
    "\n",
    "flight_df.head()"
   ]
  },
  {
   "cell_type": "code",
   "execution_count": 34,
   "metadata": {},
   "outputs": [
    {
     "data": {
      "text/plain": [
       "Index(['flight_number', 'origin_airport', 'destination_airport', 'flight_id'], dtype='object')"
      ]
     },
     "execution_count": 34,
     "metadata": {},
     "output_type": "execute_result"
    }
   ],
   "source": [
    "flight_df.columns"
   ]
  },
  {
   "cell_type": "code",
   "execution_count": 35,
   "metadata": {},
   "outputs": [],
   "source": [
    "# dropping the origin_airport,destination_airport columns from the price_flight_df\n",
    "itinerary_details_df = itinerary_details_df.drop(columns=['origin_airport',\n",
    "                                        'destination_airport'])"
   ]
  },
  {
   "cell_type": "code",
   "execution_count": 36,
   "metadata": {},
   "outputs": [
    {
     "data": {
      "text/plain": [
       "Index(['itinerary_id', 'cabin_class', 'price', 'flight_number',\n",
       "       'departure_time', 'arrival_time', 'number_of_stops',\n",
       "       'marketing_airline', 'operating_airline', 'is_self_transfer', 'Score',\n",
       "       'depart_date', 'depart_time', 'arrival_date', 'arrival_time_only',\n",
       "       'duration_in_hrs', 'trip_id'],\n",
       "      dtype='object')"
      ]
     },
     "execution_count": 36,
     "metadata": {},
     "output_type": "execute_result"
    }
   ],
   "source": [
    "itinerary_details_df.columns\n"
   ]
  },
  {
   "cell_type": "code",
   "execution_count": 37,
   "metadata": {},
   "outputs": [
    {
     "data": {
      "text/plain": [
       "6520"
      ]
     },
     "execution_count": 37,
     "metadata": {},
     "output_type": "execute_result"
    }
   ],
   "source": [
    "itinerary_details_df['itinerary_id'].nunique()"
   ]
  },
  {
   "cell_type": "code",
   "execution_count": 38,
   "metadata": {},
   "outputs": [
    {
     "data": {
      "text/plain": [
       "11587"
      ]
     },
     "execution_count": 38,
     "metadata": {},
     "output_type": "execute_result"
    }
   ],
   "source": [
    "itinerary_details_df['trip_id'].nunique()"
   ]
  },
  {
   "cell_type": "code",
   "execution_count": null,
   "metadata": {},
   "outputs": [
    {
     "data": {
      "text/plain": [
       "0"
      ]
     },
     "execution_count": 49,
     "metadata": {},
     "output_type": "execute_result"
    }
   ],
   "source": [
    "# create a dataframe for itinerary_price \n",
    "itinerary_price_df= itinerary_details_df[['trip_id','price','itinerary_id','number_of_stops']]\n",
    "itinerary_price_df.to_csv('Resources/clean_data/itinerary_price.csv', index=False)"
   ]
  },
  {
   "cell_type": "code",
   "execution_count": 56,
   "metadata": {},
   "outputs": [],
   "source": [
    "\n",
    "# Remove duplicate records (excluding trip_id)\n",
    "itinerary_price_unique = itinerary_price_df.drop_duplicates(subset=itinerary_price_df.columns.difference(['trip_id']), keep='first')\n",
    "\n",
    "# Save the new CSV\n",
    "itinerary_price_unique.to_csv('Resources/clean_data/itinerary_price_d.csv', index=False)\n"
   ]
  },
  {
   "cell_type": "code",
   "execution_count": null,
   "metadata": {},
   "outputs": [],
   "source": [
    "# Merge the itinerary_detail with the flight_df\n",
    "itinerary_details_df = pd.merge(itinerary_details_df, flight_df, on='flight_number', how='left')\n",
    "itinerary_details_df.head()"
   ]
  },
  {
   "cell_type": "markdown",
   "metadata": {},
   "source": [
    "## Steps for creating Dataset for cabin_class\n",
    "1. **Getting unique values from `cabin_class` from `flight_price_df`.**\n",
    "2. **Creating a numpy array for `cabin_class_id`.**\n",
    "3. **Add `cc` to each `cabin_class_id` list.**\n",
    "4. **Create a `cabin_class_df` DataFrame with the `cabin_class_id` array as the `cabin_class_id` and `cabin_class` list as the `cabin_class` name.**\n",
    "5. **Merging the `flight_price_df` with `cabin_class` with `cabin_class_df` on `cabin_class` column.**\n"
   ]
  },
  {
   "cell_type": "code",
   "execution_count": null,
   "metadata": {},
   "outputs": [],
   "source": [
    "# Getting unique values from cabin_class column\n",
    "cabin_class= itinerary_details_df['cabin_class'].unique()\n",
    "print(cabin_class)\n",
    "# Getting count of the unique values from cabin_class column\n",
    "itinerary_details_df['cabin_class'].nunique()\n",
    "# Create numpy arrays from 1-4 for the cabin_class\n",
    "cabin_class_id = np.arange(1,5)\n",
    "# Use a list comprehension to add \"cs\" to each cabin_class_id. \n",
    "cabin_class_id =  ['cc' + str(id) for id in cabin_class_id]\n",
    "# Create a cabin_class_df DataFrame with the cabin_class__id array as the cabin_class_id and cabin_class list as the cabin_class name.\n",
    "cabin_class_df = pd.DataFrame({'cabin_class_id': cabin_class_id, 'cabin_class': cabin_class})\n",
    "cabin_class_df\n",
    "# save the cabin_class_df to a csv file\n",
    "cabin_class_df.to_csv('Resources/clean_data/cabin_class.csv', index=False)\n",
    "\n"
   ]
  },
  {
   "cell_type": "code",
   "execution_count": null,
   "metadata": {},
   "outputs": [],
   "source": [
    "# save the cabin_class_df to a csv file\n",
    "cabin_class_df.to_csv('Resources/clean_data/cabin_class.csv', index=False)"
   ]
  },
  {
   "cell_type": "code",
   "execution_count": null,
   "metadata": {},
   "outputs": [],
   "source": [
    "# Merging the march_25_df with cabin_class_df on cabin_class column\n",
    "itinerary_details_df= itinerary_details_df.merge(cabin_class_df, on='cabin_class')\n",
    "\n",
    "# Delete the column cabin_class\n",
    "itinerary_details_df = itinerary_details_df.drop(columns=['cabin_class'])\n",
    "\n",
    "itinerary_details_df.head()\n"
   ]
  },
  {
   "cell_type": "code",
   "execution_count": null,
   "metadata": {},
   "outputs": [],
   "source": [
    "# saving the flight_df to a csv file\n",
    "flight_df.to_csv('Resources/clean_data/flight.csv', index=False)"
   ]
  },
  {
   "cell_type": "code",
   "execution_count": null,
   "metadata": {},
   "outputs": [],
   "source": [
    "# Saving the flight_price_df to a csv file\n",
    "itinerary_details_df.to_csv('Resources/clean_data/itinerary_details.csv', index=False)"
   ]
  }
 ],
 "metadata": {
  "kernelspec": {
   "display_name": "dev",
   "language": "python",
   "name": "python3"
  },
  "language_info": {
   "codemirror_mode": {
    "name": "ipython",
    "version": 3
   },
   "file_extension": ".py",
   "mimetype": "text/x-python",
   "name": "python",
   "nbconvert_exporter": "python",
   "pygments_lexer": "ipython3",
   "version": "3.10.15"
  }
 },
 "nbformat": 4,
 "nbformat_minor": 2
}
