{
 "cells": [
  {
   "cell_type": "code",
   "execution_count": 1,
   "metadata": {},
   "outputs": [],
   "source": [
    "# Import dependencies\n",
    "import pandas as pd\n"
   ]
  },
  {
   "cell_type": "markdown",
   "metadata": {},
   "source": [
    "# Cleaning Canadian Airports ( website name)\n",
    "# Deleting unwanted columns\n",
    "# Saving the cvs file in clean_data folder"
   ]
  },
  {
   "cell_type": "code",
   "execution_count": 3,
   "metadata": {},
   "outputs": [
    {
     "data": {
      "application/vnd.microsoft.datawrangler.viewer.v0+json": {
       "columns": [
        {
         "name": "index",
         "rawType": "int64",
         "type": "integer"
        },
        {
         "name": "Name",
         "rawType": "object",
         "type": "string"
        },
        {
         "name": "IATA Code",
         "rawType": "object",
         "type": "string"
        },
        {
         "name": "ICAO Code",
         "rawType": "object",
         "type": "unknown"
        },
        {
         "name": "Country",
         "rawType": "object",
         "type": "string"
        },
        {
         "name": "City",
         "rawType": "object",
         "type": "string"
        },
        {
         "name": "City Code",
         "rawType": "object",
         "type": "unknown"
        },
        {
         "name": "Latitude",
         "rawType": "float64",
         "type": "float"
        },
        {
         "name": "Longitude",
         "rawType": "float64",
         "type": "float"
        },
        {
         "name": "Timezone",
         "rawType": "object",
         "type": "string"
        },
        {
         "name": "Departures",
         "rawType": "float64",
         "type": "float"
        }
       ],
       "conversionMethod": "pd.DataFrame",
       "ref": "cfd77d50-1015-440d-99bc-3340f7d79c3b",
       "rows": [
        [
         "0",
         "Abbotsford International Airport",
         "YXX",
         "CYXX",
         "CA",
         "Abbotsford",
         "YVR",
         "49.02529",
         "-122.37735",
         "America/Vancouver",
         "941.0"
        ],
        [
         "1",
         "Aklavik/Freddie Carmichael Airport",
         "LAK",
         "CYKD",
         "CA",
         "Aklavik",
         "LAK",
         "68.22333",
         "-135.00583",
         "America/Yellowknife",
         "348.0"
        ],
        [
         "2",
         "Akulivik Airport",
         "AKV",
         "CYKO",
         "CA",
         "Akulivik",
         "AKV",
         "60.81861",
         "-78.14861",
         "America/Toronto",
         "270.0"
        ],
        [
         "3",
         "Alberni Valley Regional Airport",
         "YPB",
         null,
         "CA",
         "Port Alberni",
         "YPB",
         "49.31933",
         "-124.92979",
         "America/Vancouver",
         null
        ],
        [
         "4",
         "Alert Bay Airport",
         "YAL",
         "CYAL",
         "CA",
         "Alert Bay",
         null,
         "50.5822",
         "-126.916",
         "America/Vancouver",
         null
        ]
       ],
       "shape": {
        "columns": 10,
        "rows": 5
       }
      },
      "text/html": [
       "<div>\n",
       "<style scoped>\n",
       "    .dataframe tbody tr th:only-of-type {\n",
       "        vertical-align: middle;\n",
       "    }\n",
       "\n",
       "    .dataframe tbody tr th {\n",
       "        vertical-align: top;\n",
       "    }\n",
       "\n",
       "    .dataframe thead th {\n",
       "        text-align: right;\n",
       "    }\n",
       "</style>\n",
       "<table border=\"1\" class=\"dataframe\">\n",
       "  <thead>\n",
       "    <tr style=\"text-align: right;\">\n",
       "      <th></th>\n",
       "      <th>Name</th>\n",
       "      <th>IATA Code</th>\n",
       "      <th>ICAO Code</th>\n",
       "      <th>Country</th>\n",
       "      <th>City</th>\n",
       "      <th>City Code</th>\n",
       "      <th>Latitude</th>\n",
       "      <th>Longitude</th>\n",
       "      <th>Timezone</th>\n",
       "      <th>Departures</th>\n",
       "    </tr>\n",
       "  </thead>\n",
       "  <tbody>\n",
       "    <tr>\n",
       "      <th>0</th>\n",
       "      <td>Abbotsford International Airport</td>\n",
       "      <td>YXX</td>\n",
       "      <td>CYXX</td>\n",
       "      <td>CA</td>\n",
       "      <td>Abbotsford</td>\n",
       "      <td>YVR</td>\n",
       "      <td>49.02529</td>\n",
       "      <td>-122.37735</td>\n",
       "      <td>America/Vancouver</td>\n",
       "      <td>941.0</td>\n",
       "    </tr>\n",
       "    <tr>\n",
       "      <th>1</th>\n",
       "      <td>Aklavik/Freddie Carmichael Airport</td>\n",
       "      <td>LAK</td>\n",
       "      <td>CYKD</td>\n",
       "      <td>CA</td>\n",
       "      <td>Aklavik</td>\n",
       "      <td>LAK</td>\n",
       "      <td>68.22333</td>\n",
       "      <td>-135.00583</td>\n",
       "      <td>America/Yellowknife</td>\n",
       "      <td>348.0</td>\n",
       "    </tr>\n",
       "    <tr>\n",
       "      <th>2</th>\n",
       "      <td>Akulivik Airport</td>\n",
       "      <td>AKV</td>\n",
       "      <td>CYKO</td>\n",
       "      <td>CA</td>\n",
       "      <td>Akulivik</td>\n",
       "      <td>AKV</td>\n",
       "      <td>60.81861</td>\n",
       "      <td>-78.14861</td>\n",
       "      <td>America/Toronto</td>\n",
       "      <td>270.0</td>\n",
       "    </tr>\n",
       "    <tr>\n",
       "      <th>3</th>\n",
       "      <td>Alberni Valley Regional Airport</td>\n",
       "      <td>YPB</td>\n",
       "      <td>NaN</td>\n",
       "      <td>CA</td>\n",
       "      <td>Port Alberni</td>\n",
       "      <td>YPB</td>\n",
       "      <td>49.31933</td>\n",
       "      <td>-124.92979</td>\n",
       "      <td>America/Vancouver</td>\n",
       "      <td>NaN</td>\n",
       "    </tr>\n",
       "    <tr>\n",
       "      <th>4</th>\n",
       "      <td>Alert Bay Airport</td>\n",
       "      <td>YAL</td>\n",
       "      <td>CYAL</td>\n",
       "      <td>CA</td>\n",
       "      <td>Alert Bay</td>\n",
       "      <td>NaN</td>\n",
       "      <td>50.58220</td>\n",
       "      <td>-126.91600</td>\n",
       "      <td>America/Vancouver</td>\n",
       "      <td>NaN</td>\n",
       "    </tr>\n",
       "  </tbody>\n",
       "</table>\n",
       "</div>"
      ],
      "text/plain": [
       "                                 Name IATA Code ICAO Code Country  \\\n",
       "0    Abbotsford International Airport       YXX      CYXX      CA   \n",
       "1  Aklavik/Freddie Carmichael Airport       LAK      CYKD      CA   \n",
       "2                    Akulivik Airport       AKV      CYKO      CA   \n",
       "3     Alberni Valley Regional Airport       YPB       NaN      CA   \n",
       "4                   Alert Bay Airport       YAL      CYAL      CA   \n",
       "\n",
       "           City City Code  Latitude  Longitude             Timezone  \\\n",
       "0    Abbotsford       YVR  49.02529 -122.37735    America/Vancouver   \n",
       "1       Aklavik       LAK  68.22333 -135.00583  America/Yellowknife   \n",
       "2      Akulivik       AKV  60.81861  -78.14861      America/Toronto   \n",
       "3  Port Alberni       YPB  49.31933 -124.92979    America/Vancouver   \n",
       "4     Alert Bay       NaN  50.58220 -126.91600    America/Vancouver   \n",
       "\n",
       "   Departures  \n",
       "0       941.0  \n",
       "1       348.0  \n",
       "2       270.0  \n",
       "3         NaN  \n",
       "4         NaN  "
      ]
     },
     "execution_count": 3,
     "metadata": {},
     "output_type": "execute_result"
    }
   ],
   "source": [
    "# Read raw data from airport.csv \n",
    "\n",
    "can_airport_df = pd.read_csv(\"Resources/raw_data/airport_data/airport_data_CA.csv\")\n",
    "can_airport_df.head()\n"
   ]
  },
  {
   "cell_type": "code",
   "execution_count": 9,
   "metadata": {},
   "outputs": [
    {
     "data": {
      "application/vnd.microsoft.datawrangler.viewer.v0+json": {
       "columns": [
        {
         "name": "index",
         "rawType": "int64",
         "type": "integer"
        },
        {
         "name": "Name",
         "rawType": "object",
         "type": "string"
        },
        {
         "name": "IATA Code",
         "rawType": "object",
         "type": "string"
        },
        {
         "name": "ICAO Code",
         "rawType": "object",
         "type": "string"
        },
        {
         "name": "Country",
         "rawType": "object",
         "type": "string"
        },
        {
         "name": "City",
         "rawType": "object",
         "type": "string"
        },
        {
         "name": "City Code",
         "rawType": "object",
         "type": "string"
        },
        {
         "name": "Latitude",
         "rawType": "float64",
         "type": "float"
        },
        {
         "name": "Longitude",
         "rawType": "float64",
         "type": "float"
        },
        {
         "name": "Timezone",
         "rawType": "object",
         "type": "string"
        },
        {
         "name": "Departures",
         "rawType": "float64",
         "type": "float"
        }
       ],
       "conversionMethod": "pd.DataFrame",
       "ref": "031ac92f-cb01-4177-9afe-8dbfec2b9d2e",
       "rows": [
        [
         "40",
         "Billy Bishop Toronto City Airport",
         "YTZ",
         "CYTZ",
         "CA",
         "Toronto",
         "YTO",
         "43.62974",
         "-79.39828",
         "America/Toronto",
         null
        ],
        [
         "346",
         "Montreal-Pierre Elliott Trudeau International Airport",
         "YUL",
         "CYUL",
         "CA",
         "Montreal",
         "YMQ",
         "45.46106",
         "-73.75019",
         "America/Toronto",
         "35190.0"
        ],
        [
         "388",
         "Ottawa Macdonald-Cartier International Airport",
         "YOW",
         "CYOW",
         "CA",
         "Ottawa",
         "YOW",
         "45.3225",
         "-75.66917",
         "America/Toronto",
         "10293.0"
        ],
        [
         "542",
         "Toronto Pearson International Airport",
         "YYZ",
         "CYYZ",
         "CA",
         "Toronto",
         "YTO",
         "43.68066",
         "-79.61286",
         "America/Toronto",
         "72355.0"
        ]
       ],
       "shape": {
        "columns": 10,
        "rows": 4
       }
      },
      "text/html": [
       "<div>\n",
       "<style scoped>\n",
       "    .dataframe tbody tr th:only-of-type {\n",
       "        vertical-align: middle;\n",
       "    }\n",
       "\n",
       "    .dataframe tbody tr th {\n",
       "        vertical-align: top;\n",
       "    }\n",
       "\n",
       "    .dataframe thead th {\n",
       "        text-align: right;\n",
       "    }\n",
       "</style>\n",
       "<table border=\"1\" class=\"dataframe\">\n",
       "  <thead>\n",
       "    <tr style=\"text-align: right;\">\n",
       "      <th></th>\n",
       "      <th>Name</th>\n",
       "      <th>IATA Code</th>\n",
       "      <th>ICAO Code</th>\n",
       "      <th>Country</th>\n",
       "      <th>City</th>\n",
       "      <th>City Code</th>\n",
       "      <th>Latitude</th>\n",
       "      <th>Longitude</th>\n",
       "      <th>Timezone</th>\n",
       "      <th>Departures</th>\n",
       "    </tr>\n",
       "  </thead>\n",
       "  <tbody>\n",
       "    <tr>\n",
       "      <th>40</th>\n",
       "      <td>Billy Bishop Toronto City Airport</td>\n",
       "      <td>YTZ</td>\n",
       "      <td>CYTZ</td>\n",
       "      <td>CA</td>\n",
       "      <td>Toronto</td>\n",
       "      <td>YTO</td>\n",
       "      <td>43.62974</td>\n",
       "      <td>-79.39828</td>\n",
       "      <td>America/Toronto</td>\n",
       "      <td>NaN</td>\n",
       "    </tr>\n",
       "    <tr>\n",
       "      <th>346</th>\n",
       "      <td>Montreal-Pierre Elliott Trudeau International ...</td>\n",
       "      <td>YUL</td>\n",
       "      <td>CYUL</td>\n",
       "      <td>CA</td>\n",
       "      <td>Montreal</td>\n",
       "      <td>YMQ</td>\n",
       "      <td>45.46106</td>\n",
       "      <td>-73.75019</td>\n",
       "      <td>America/Toronto</td>\n",
       "      <td>35190.0</td>\n",
       "    </tr>\n",
       "    <tr>\n",
       "      <th>388</th>\n",
       "      <td>Ottawa Macdonald-Cartier International Airport</td>\n",
       "      <td>YOW</td>\n",
       "      <td>CYOW</td>\n",
       "      <td>CA</td>\n",
       "      <td>Ottawa</td>\n",
       "      <td>YOW</td>\n",
       "      <td>45.32250</td>\n",
       "      <td>-75.66917</td>\n",
       "      <td>America/Toronto</td>\n",
       "      <td>10293.0</td>\n",
       "    </tr>\n",
       "    <tr>\n",
       "      <th>542</th>\n",
       "      <td>Toronto Pearson International Airport</td>\n",
       "      <td>YYZ</td>\n",
       "      <td>CYYZ</td>\n",
       "      <td>CA</td>\n",
       "      <td>Toronto</td>\n",
       "      <td>YTO</td>\n",
       "      <td>43.68066</td>\n",
       "      <td>-79.61286</td>\n",
       "      <td>America/Toronto</td>\n",
       "      <td>72355.0</td>\n",
       "    </tr>\n",
       "  </tbody>\n",
       "</table>\n",
       "</div>"
      ],
      "text/plain": [
       "                                                  Name IATA Code ICAO Code  \\\n",
       "40                   Billy Bishop Toronto City Airport       YTZ      CYTZ   \n",
       "346  Montreal-Pierre Elliott Trudeau International ...       YUL      CYUL   \n",
       "388     Ottawa Macdonald-Cartier International Airport       YOW      CYOW   \n",
       "542              Toronto Pearson International Airport       YYZ      CYYZ   \n",
       "\n",
       "    Country      City City Code  Latitude  Longitude         Timezone  \\\n",
       "40       CA   Toronto       YTO  43.62974  -79.39828  America/Toronto   \n",
       "346      CA  Montreal       YMQ  45.46106  -73.75019  America/Toronto   \n",
       "388      CA    Ottawa       YOW  45.32250  -75.66917  America/Toronto   \n",
       "542      CA   Toronto       YTO  43.68066  -79.61286  America/Toronto   \n",
       "\n",
       "     Departures  \n",
       "40          NaN  \n",
       "346     35190.0  \n",
       "388     10293.0  \n",
       "542     72355.0  "
      ]
     },
     "execution_count": 9,
     "metadata": {},
     "output_type": "execute_result"
    }
   ],
   "source": [
    "# Replace any special apostrophes with standard ones\n",
    "can_airport_df['Name'] = can_airport_df['Name'].str.replace(\"’\", \"'\")\n",
    "# Filter data to get 5 businest airport of the USA\n",
    "can_busiest_airport = can_airport_df.loc[can_airport_df['Name'].isin([\"Toronto Pearson International Airport\",\n",
    "                                                                      \"Montreal-Pierre Elliott Trudeau International Airport\", \n",
    "                                                                      \"Ottawa Macdonald-Cartier International Airport\",\n",
    "                                                                      \"Billy Bishop Toronto City Airport\"])]\n",
    "can_busiest_airport"
   ]
  },
  {
   "cell_type": "code",
   "execution_count": null,
   "metadata": {},
   "outputs": [],
   "source": [
    "# delete the columns that are not needed\n",
    "can_busiest_airport = can_busiest_airport.drop(columns=['City Code'])"
   ]
  },
  {
   "cell_type": "code",
   "execution_count": 11,
   "metadata": {},
   "outputs": [
    {
     "data": {
      "application/vnd.microsoft.datawrangler.viewer.v0+json": {
       "columns": [
        {
         "name": "index",
         "rawType": "int64",
         "type": "integer"
        },
        {
         "name": "Name",
         "rawType": "object",
         "type": "string"
        },
        {
         "name": "IATA Code",
         "rawType": "object",
         "type": "string"
        },
        {
         "name": "ICAO Code",
         "rawType": "object",
         "type": "string"
        },
        {
         "name": "Country",
         "rawType": "object",
         "type": "string"
        },
        {
         "name": "City",
         "rawType": "object",
         "type": "string"
        },
        {
         "name": "Latitude",
         "rawType": "float64",
         "type": "float"
        },
        {
         "name": "Longitude",
         "rawType": "float64",
         "type": "float"
        },
        {
         "name": "Timezone",
         "rawType": "object",
         "type": "string"
        },
        {
         "name": "Departures",
         "rawType": "float64",
         "type": "float"
        }
       ],
       "conversionMethod": "pd.DataFrame",
       "ref": "e548dff0-c7a5-4524-889c-329ce2bca1bd",
       "rows": [
        [
         "40",
         "Billy Bishop Toronto City Airport",
         "YTZ",
         "CYTZ",
         "CA",
         "Toronto",
         "43.62974",
         "-79.39828",
         "EST",
         null
        ],
        [
         "346",
         "Montreal-Pierre Elliott Trudeau International Airport",
         "YUL",
         "CYUL",
         "CA",
         "Montreal",
         "45.46106",
         "-73.75019",
         "EST",
         "35190.0"
        ],
        [
         "388",
         "Ottawa Macdonald-Cartier International Airport",
         "YOW",
         "CYOW",
         "CA",
         "Ottawa",
         "45.3225",
         "-75.66917",
         "EST",
         "10293.0"
        ],
        [
         "542",
         "Toronto Pearson International Airport",
         "YYZ",
         "CYYZ",
         "CA",
         "Toronto",
         "43.68066",
         "-79.61286",
         "EST",
         "72355.0"
        ]
       ],
       "shape": {
        "columns": 9,
        "rows": 4
       }
      },
      "text/html": [
       "<div>\n",
       "<style scoped>\n",
       "    .dataframe tbody tr th:only-of-type {\n",
       "        vertical-align: middle;\n",
       "    }\n",
       "\n",
       "    .dataframe tbody tr th {\n",
       "        vertical-align: top;\n",
       "    }\n",
       "\n",
       "    .dataframe thead th {\n",
       "        text-align: right;\n",
       "    }\n",
       "</style>\n",
       "<table border=\"1\" class=\"dataframe\">\n",
       "  <thead>\n",
       "    <tr style=\"text-align: right;\">\n",
       "      <th></th>\n",
       "      <th>Name</th>\n",
       "      <th>IATA Code</th>\n",
       "      <th>ICAO Code</th>\n",
       "      <th>Country</th>\n",
       "      <th>City</th>\n",
       "      <th>Latitude</th>\n",
       "      <th>Longitude</th>\n",
       "      <th>Timezone</th>\n",
       "      <th>Departures</th>\n",
       "    </tr>\n",
       "  </thead>\n",
       "  <tbody>\n",
       "    <tr>\n",
       "      <th>40</th>\n",
       "      <td>Billy Bishop Toronto City Airport</td>\n",
       "      <td>YTZ</td>\n",
       "      <td>CYTZ</td>\n",
       "      <td>CA</td>\n",
       "      <td>Toronto</td>\n",
       "      <td>43.62974</td>\n",
       "      <td>-79.39828</td>\n",
       "      <td>EST</td>\n",
       "      <td>NaN</td>\n",
       "    </tr>\n",
       "    <tr>\n",
       "      <th>346</th>\n",
       "      <td>Montreal-Pierre Elliott Trudeau International ...</td>\n",
       "      <td>YUL</td>\n",
       "      <td>CYUL</td>\n",
       "      <td>CA</td>\n",
       "      <td>Montreal</td>\n",
       "      <td>45.46106</td>\n",
       "      <td>-73.75019</td>\n",
       "      <td>EST</td>\n",
       "      <td>35190.0</td>\n",
       "    </tr>\n",
       "    <tr>\n",
       "      <th>388</th>\n",
       "      <td>Ottawa Macdonald-Cartier International Airport</td>\n",
       "      <td>YOW</td>\n",
       "      <td>CYOW</td>\n",
       "      <td>CA</td>\n",
       "      <td>Ottawa</td>\n",
       "      <td>45.32250</td>\n",
       "      <td>-75.66917</td>\n",
       "      <td>EST</td>\n",
       "      <td>10293.0</td>\n",
       "    </tr>\n",
       "    <tr>\n",
       "      <th>542</th>\n",
       "      <td>Toronto Pearson International Airport</td>\n",
       "      <td>YYZ</td>\n",
       "      <td>CYYZ</td>\n",
       "      <td>CA</td>\n",
       "      <td>Toronto</td>\n",
       "      <td>43.68066</td>\n",
       "      <td>-79.61286</td>\n",
       "      <td>EST</td>\n",
       "      <td>72355.0</td>\n",
       "    </tr>\n",
       "  </tbody>\n",
       "</table>\n",
       "</div>"
      ],
      "text/plain": [
       "                                                  Name IATA Code ICAO Code  \\\n",
       "40                   Billy Bishop Toronto City Airport       YTZ      CYTZ   \n",
       "346  Montreal-Pierre Elliott Trudeau International ...       YUL      CYUL   \n",
       "388     Ottawa Macdonald-Cartier International Airport       YOW      CYOW   \n",
       "542              Toronto Pearson International Airport       YYZ      CYYZ   \n",
       "\n",
       "    Country      City  Latitude  Longitude Timezone  Departures  \n",
       "40       CA   Toronto  43.62974  -79.39828      EST         NaN  \n",
       "346      CA  Montreal  45.46106  -73.75019      EST     35190.0  \n",
       "388      CA    Ottawa  45.32250  -75.66917      EST     10293.0  \n",
       "542      CA   Toronto  43.68066  -79.61286      EST     72355.0  "
      ]
     },
     "execution_count": 11,
     "metadata": {},
     "output_type": "execute_result"
    }
   ],
   "source": [
    "# Update Timezone column\n",
    "# replace the Timesoze with the actual timezone\n",
    "can_busiest_airport['Timezone'] = can_busiest_airport['Timezone'].replace({'America/Toronto': 'EST'})\n",
    "can_busiest_airport\n",
    "\n"
   ]
  },
  {
   "cell_type": "code",
   "execution_count": 12,
   "metadata": {},
   "outputs": [],
   "source": [
    "# save the data to a csv file in Resources\\clean_data folder\n",
    "can_busiest_airport.to_csv(\"Resources/clean_data/can_airport.csv\", index=False)"
   ]
  },
  {
   "cell_type": "markdown",
   "metadata": {},
   "source": [
    "Feb 2025 to March 2026 Data Extraction"
   ]
  },
  {
   "cell_type": "code",
   "execution_count": 13,
   "metadata": {},
   "outputs": [
    {
     "data": {
      "text/plain": [
       "Index(['date', 'itinerary_id', 'cabin_class', 'sort_by', 'price_raw',\n",
       "       'price_formatted', 'currency', 'flight_number', 'origin_airport',\n",
       "       'origin_city', 'origin_country', 'destination_airport',\n",
       "       'destination_city', 'destination_country', 'departure_time',\n",
       "       'arrival_time', 'duration_minutes', 'stop_count', 'marketing_airline',\n",
       "       'operating_airline', 'change_allowed', 'cancellation_allowed',\n",
       "       'is_self_transfer', 'has_flexible_options', 'score'],\n",
       "      dtype='object')"
      ]
     },
     "execution_count": 13,
     "metadata": {},
     "output_type": "execute_result"
    }
   ],
   "source": [
    "# Read the data into a Pandas DataFrame\n",
    "march_25_df = pd.read_csv('sample_dataset.csv')\n",
    "#march_25_df.head()\n",
    "march_25_df.columns\n"
   ]
  },
  {
   "cell_type": "markdown",
   "metadata": {},
   "source": [
    "Delete unwanted columns"
   ]
  },
  {
   "cell_type": "code",
   "execution_count": 14,
   "metadata": {},
   "outputs": [
    {
     "data": {
      "application/vnd.microsoft.datawrangler.viewer.v0+json": {
       "columns": [
        {
         "name": "index",
         "rawType": "int64",
         "type": "integer"
        },
        {
         "name": "itinerary_id",
         "rawType": "object",
         "type": "string"
        },
        {
         "name": "cabin_class",
         "rawType": "object",
         "type": "string"
        },
        {
         "name": "price_formatted",
         "rawType": "object",
         "type": "string"
        },
        {
         "name": "currency",
         "rawType": "float64",
         "type": "float"
        },
        {
         "name": "flight_number",
         "rawType": "int64",
         "type": "integer"
        },
        {
         "name": "origin_airport",
         "rawType": "object",
         "type": "string"
        },
        {
         "name": "origin_city",
         "rawType": "float64",
         "type": "float"
        },
        {
         "name": "origin_country",
         "rawType": "object",
         "type": "string"
        },
        {
         "name": "destination_airport",
         "rawType": "object",
         "type": "string"
        },
        {
         "name": "destination_city",
         "rawType": "float64",
         "type": "float"
        },
        {
         "name": "destination_country",
         "rawType": "object",
         "type": "string"
        },
        {
         "name": "departure_time",
         "rawType": "object",
         "type": "string"
        },
        {
         "name": "arrival_time",
         "rawType": "object",
         "type": "string"
        },
        {
         "name": "duration_minutes",
         "rawType": "int64",
         "type": "integer"
        },
        {
         "name": "stop_count",
         "rawType": "int64",
         "type": "integer"
        },
        {
         "name": "marketing_airline",
         "rawType": "object",
         "type": "string"
        },
        {
         "name": "operating_airline",
         "rawType": "object",
         "type": "string"
        },
        {
         "name": "is_self_transfer",
         "rawType": "bool",
         "type": "boolean"
        },
        {
         "name": "score",
         "rawType": "float64",
         "type": "float"
        }
       ],
       "conversionMethod": "pd.DataFrame",
       "ref": "6fa2770f-99ac-4e65-abb3-b0a360260bc4",
       "rows": [
        [
         "0",
         "18467-2503031400--32695-0-10968-2503031640",
         "economy",
         "C$690",
         null,
         "1031",
         "Toronto Pearson International",
         null,
         "Canada",
         "Dallas Fort Worth International",
         null,
         "United States",
         "2025-03-03T14:00:00",
         "2025-03-03T16:40:00",
         "220",
         "0",
         "Air Canada",
         "Air Canada",
         "False",
         "0.452919"
        ],
        [
         "1",
         "18467-2503031940--32695-0-10968-2503032222",
         "economy",
         "C$405",
         null,
         "1033",
         "Toronto Pearson International",
         null,
         "Canada",
         "Dallas Fort Worth International",
         null,
         "United States",
         "2025-03-03T19:40:00",
         "2025-03-03T22:22:00",
         "222",
         "0",
         "Air Canada",
         "Air Canada",
         "False",
         "0.999"
        ],
        [
         "2",
         "18467-2503031400--32593-0-10968-2503031655",
         "economy",
         "C$518",
         null,
         "4476",
         "Toronto Pearson International",
         null,
         "Canada",
         "Dallas Fort Worth International",
         null,
         "United States",
         "2025-03-03T14:00:00",
         "2025-03-03T16:55:00",
         "235",
         "0",
         "Alaska Airlines",
         "Envoy Air As American Eagle",
         "False",
         "0.684089"
        ],
        [
         "3",
         "18467-2503031730--32695-1-10968-2503032248",
         "economy",
         "C$413",
         null,
         "4990",
         "Toronto Pearson International",
         null,
         "Canada",
         "Chicago O'Hare International",
         null,
         "United States",
         "2025-03-03T17:30:00",
         "2025-03-03T18:39:00",
         "129",
         "1",
         "Air Canada",
         "Republic Airways DBA United Express",
         "False",
         "0.40761"
        ],
        [
         "4",
         "18467-2503031730--32695-1-10968-2503032248",
         "economy",
         "C$413",
         null,
         "5521",
         "Chicago O'Hare International",
         null,
         "United States",
         "Dallas Fort Worth International",
         null,
         "United States",
         "2025-03-03T19:55:00",
         "2025-03-03T22:48:00",
         "173",
         "1",
         "Air Canada",
         "United",
         "False",
         "0.40761"
        ]
       ],
       "shape": {
        "columns": 19,
        "rows": 5
       }
      },
      "text/html": [
       "<div>\n",
       "<style scoped>\n",
       "    .dataframe tbody tr th:only-of-type {\n",
       "        vertical-align: middle;\n",
       "    }\n",
       "\n",
       "    .dataframe tbody tr th {\n",
       "        vertical-align: top;\n",
       "    }\n",
       "\n",
       "    .dataframe thead th {\n",
       "        text-align: right;\n",
       "    }\n",
       "</style>\n",
       "<table border=\"1\" class=\"dataframe\">\n",
       "  <thead>\n",
       "    <tr style=\"text-align: right;\">\n",
       "      <th></th>\n",
       "      <th>itinerary_id</th>\n",
       "      <th>cabin_class</th>\n",
       "      <th>price_formatted</th>\n",
       "      <th>currency</th>\n",
       "      <th>flight_number</th>\n",
       "      <th>origin_airport</th>\n",
       "      <th>origin_city</th>\n",
       "      <th>origin_country</th>\n",
       "      <th>destination_airport</th>\n",
       "      <th>destination_city</th>\n",
       "      <th>destination_country</th>\n",
       "      <th>departure_time</th>\n",
       "      <th>arrival_time</th>\n",
       "      <th>duration_minutes</th>\n",
       "      <th>stop_count</th>\n",
       "      <th>marketing_airline</th>\n",
       "      <th>operating_airline</th>\n",
       "      <th>is_self_transfer</th>\n",
       "      <th>score</th>\n",
       "    </tr>\n",
       "  </thead>\n",
       "  <tbody>\n",
       "    <tr>\n",
       "      <th>0</th>\n",
       "      <td>18467-2503031400--32695-0-10968-2503031640</td>\n",
       "      <td>economy</td>\n",
       "      <td>C$690</td>\n",
       "      <td>NaN</td>\n",
       "      <td>1031</td>\n",
       "      <td>Toronto Pearson International</td>\n",
       "      <td>NaN</td>\n",
       "      <td>Canada</td>\n",
       "      <td>Dallas Fort Worth International</td>\n",
       "      <td>NaN</td>\n",
       "      <td>United States</td>\n",
       "      <td>2025-03-03T14:00:00</td>\n",
       "      <td>2025-03-03T16:40:00</td>\n",
       "      <td>220</td>\n",
       "      <td>0</td>\n",
       "      <td>Air Canada</td>\n",
       "      <td>Air Canada</td>\n",
       "      <td>False</td>\n",
       "      <td>0.452919</td>\n",
       "    </tr>\n",
       "    <tr>\n",
       "      <th>1</th>\n",
       "      <td>18467-2503031940--32695-0-10968-2503032222</td>\n",
       "      <td>economy</td>\n",
       "      <td>C$405</td>\n",
       "      <td>NaN</td>\n",
       "      <td>1033</td>\n",
       "      <td>Toronto Pearson International</td>\n",
       "      <td>NaN</td>\n",
       "      <td>Canada</td>\n",
       "      <td>Dallas Fort Worth International</td>\n",
       "      <td>NaN</td>\n",
       "      <td>United States</td>\n",
       "      <td>2025-03-03T19:40:00</td>\n",
       "      <td>2025-03-03T22:22:00</td>\n",
       "      <td>222</td>\n",
       "      <td>0</td>\n",
       "      <td>Air Canada</td>\n",
       "      <td>Air Canada</td>\n",
       "      <td>False</td>\n",
       "      <td>0.999000</td>\n",
       "    </tr>\n",
       "    <tr>\n",
       "      <th>2</th>\n",
       "      <td>18467-2503031400--32593-0-10968-2503031655</td>\n",
       "      <td>economy</td>\n",
       "      <td>C$518</td>\n",
       "      <td>NaN</td>\n",
       "      <td>4476</td>\n",
       "      <td>Toronto Pearson International</td>\n",
       "      <td>NaN</td>\n",
       "      <td>Canada</td>\n",
       "      <td>Dallas Fort Worth International</td>\n",
       "      <td>NaN</td>\n",
       "      <td>United States</td>\n",
       "      <td>2025-03-03T14:00:00</td>\n",
       "      <td>2025-03-03T16:55:00</td>\n",
       "      <td>235</td>\n",
       "      <td>0</td>\n",
       "      <td>Alaska Airlines</td>\n",
       "      <td>Envoy Air As American Eagle</td>\n",
       "      <td>False</td>\n",
       "      <td>0.684089</td>\n",
       "    </tr>\n",
       "    <tr>\n",
       "      <th>3</th>\n",
       "      <td>18467-2503031730--32695-1-10968-2503032248</td>\n",
       "      <td>economy</td>\n",
       "      <td>C$413</td>\n",
       "      <td>NaN</td>\n",
       "      <td>4990</td>\n",
       "      <td>Toronto Pearson International</td>\n",
       "      <td>NaN</td>\n",
       "      <td>Canada</td>\n",
       "      <td>Chicago O'Hare International</td>\n",
       "      <td>NaN</td>\n",
       "      <td>United States</td>\n",
       "      <td>2025-03-03T17:30:00</td>\n",
       "      <td>2025-03-03T18:39:00</td>\n",
       "      <td>129</td>\n",
       "      <td>1</td>\n",
       "      <td>Air Canada</td>\n",
       "      <td>Republic Airways DBA United Express</td>\n",
       "      <td>False</td>\n",
       "      <td>0.407610</td>\n",
       "    </tr>\n",
       "    <tr>\n",
       "      <th>4</th>\n",
       "      <td>18467-2503031730--32695-1-10968-2503032248</td>\n",
       "      <td>economy</td>\n",
       "      <td>C$413</td>\n",
       "      <td>NaN</td>\n",
       "      <td>5521</td>\n",
       "      <td>Chicago O'Hare International</td>\n",
       "      <td>NaN</td>\n",
       "      <td>United States</td>\n",
       "      <td>Dallas Fort Worth International</td>\n",
       "      <td>NaN</td>\n",
       "      <td>United States</td>\n",
       "      <td>2025-03-03T19:55:00</td>\n",
       "      <td>2025-03-03T22:48:00</td>\n",
       "      <td>173</td>\n",
       "      <td>1</td>\n",
       "      <td>Air Canada</td>\n",
       "      <td>United</td>\n",
       "      <td>False</td>\n",
       "      <td>0.407610</td>\n",
       "    </tr>\n",
       "  </tbody>\n",
       "</table>\n",
       "</div>"
      ],
      "text/plain": [
       "                                 itinerary_id cabin_class price_formatted  \\\n",
       "0  18467-2503031400--32695-0-10968-2503031640     economy           C$690   \n",
       "1  18467-2503031940--32695-0-10968-2503032222     economy           C$405   \n",
       "2  18467-2503031400--32593-0-10968-2503031655     economy           C$518   \n",
       "3  18467-2503031730--32695-1-10968-2503032248     economy           C$413   \n",
       "4  18467-2503031730--32695-1-10968-2503032248     economy           C$413   \n",
       "\n",
       "   currency  flight_number                 origin_airport  origin_city  \\\n",
       "0       NaN           1031  Toronto Pearson International          NaN   \n",
       "1       NaN           1033  Toronto Pearson International          NaN   \n",
       "2       NaN           4476  Toronto Pearson International          NaN   \n",
       "3       NaN           4990  Toronto Pearson International          NaN   \n",
       "4       NaN           5521   Chicago O'Hare International          NaN   \n",
       "\n",
       "  origin_country              destination_airport  destination_city  \\\n",
       "0         Canada  Dallas Fort Worth International               NaN   \n",
       "1         Canada  Dallas Fort Worth International               NaN   \n",
       "2         Canada  Dallas Fort Worth International               NaN   \n",
       "3         Canada     Chicago O'Hare International               NaN   \n",
       "4  United States  Dallas Fort Worth International               NaN   \n",
       "\n",
       "  destination_country       departure_time         arrival_time  \\\n",
       "0       United States  2025-03-03T14:00:00  2025-03-03T16:40:00   \n",
       "1       United States  2025-03-03T19:40:00  2025-03-03T22:22:00   \n",
       "2       United States  2025-03-03T14:00:00  2025-03-03T16:55:00   \n",
       "3       United States  2025-03-03T17:30:00  2025-03-03T18:39:00   \n",
       "4       United States  2025-03-03T19:55:00  2025-03-03T22:48:00   \n",
       "\n",
       "   duration_minutes  stop_count marketing_airline  \\\n",
       "0               220           0        Air Canada   \n",
       "1               222           0        Air Canada   \n",
       "2               235           0   Alaska Airlines   \n",
       "3               129           1        Air Canada   \n",
       "4               173           1        Air Canada   \n",
       "\n",
       "                     operating_airline  is_self_transfer     score  \n",
       "0                           Air Canada             False  0.452919  \n",
       "1                           Air Canada             False  0.999000  \n",
       "2          Envoy Air As American Eagle             False  0.684089  \n",
       "3  Republic Airways DBA United Express             False  0.407610  \n",
       "4                               United             False  0.407610  "
      ]
     },
     "execution_count": 14,
     "metadata": {},
     "output_type": "execute_result"
    }
   ],
   "source": [
    "march_25_unwanted = ['date','price_raw','cancellation_allowed','sort_by','has_flexible_options','change_allowed']\n",
    "march_25_df = march_25_df.drop(columns=march_25_unwanted, axis=1)\n",
    "march_25_df.head()\n"
   ]
  },
  {
   "cell_type": "code",
   "execution_count": 15,
   "metadata": {},
   "outputs": [
    {
     "data": {
      "text/plain": [
       "Index(['itinerary_id', 'cabin_class', 'price_formatted', 'currency',\n",
       "       'flight_number', 'origin_airport', 'origin_city', 'origin_country',\n",
       "       'destination_airport', 'destination_city', 'destination_country',\n",
       "       'departure_time', 'arrival_time', 'duration_minutes', 'stop_count',\n",
       "       'marketing_airline', 'operating_airline', 'is_self_transfer', 'score'],\n",
       "      dtype='object')"
      ]
     },
     "execution_count": 15,
     "metadata": {},
     "output_type": "execute_result"
    }
   ],
   "source": [
    "march_25_df.columns"
   ]
  },
  {
   "cell_type": "code",
   "execution_count": 16,
   "metadata": {},
   "outputs": [],
   "source": [
    "# spliting the departure_time column into two columns depart_date and depart_time\n",
    "# Convert depart_date to datetime format\n",
    "march_25_df['departure_time'] = pd.to_datetime(march_25_df['departure_time'])\n",
    "\n",
    "# Extract date and time into separate columns\n",
    "march_25_df['depart_date'] = march_25_df['departure_time'].dt.date\n",
    "march_25_df['depart_time'] = march_25_df['departure_time'].dt.time\n",
    "\n",
    "# Drop the original column\n",
    "march_25_df = march_25_df.drop(columns=['departure_time'], axis=1)\n",
    "\n"
   ]
  },
  {
   "cell_type": "code",
   "execution_count": 12,
   "metadata": {},
   "outputs": [
    {
     "data": {
      "application/vnd.microsoft.datawrangler.viewer.v0+json": {
       "columns": [
        {
         "name": "index",
         "rawType": "int64",
         "type": "integer"
        },
        {
         "name": "itinerary_id",
         "rawType": "object",
         "type": "string"
        },
        {
         "name": "cabin_class",
         "rawType": "object",
         "type": "string"
        },
        {
         "name": "price_formatted",
         "rawType": "object",
         "type": "string"
        },
        {
         "name": "currency",
         "rawType": "float64",
         "type": "float"
        },
        {
         "name": "flight_number",
         "rawType": "int64",
         "type": "integer"
        },
        {
         "name": "origin_airport",
         "rawType": "object",
         "type": "string"
        },
        {
         "name": "origin_city",
         "rawType": "float64",
         "type": "float"
        },
        {
         "name": "origin_country",
         "rawType": "object",
         "type": "string"
        },
        {
         "name": "destination_airport",
         "rawType": "object",
         "type": "string"
        },
        {
         "name": "destination_city",
         "rawType": "float64",
         "type": "float"
        },
        {
         "name": "destination_country",
         "rawType": "object",
         "type": "string"
        },
        {
         "name": "duration_minutes",
         "rawType": "int64",
         "type": "integer"
        },
        {
         "name": "stop_count",
         "rawType": "int64",
         "type": "integer"
        },
        {
         "name": "marketing_airline",
         "rawType": "object",
         "type": "string"
        },
        {
         "name": "operating_airline",
         "rawType": "object",
         "type": "string"
        },
        {
         "name": "is_self_transfer",
         "rawType": "bool",
         "type": "boolean"
        },
        {
         "name": "score",
         "rawType": "float64",
         "type": "float"
        },
        {
         "name": "depart_date",
         "rawType": "object",
         "type": "unknown"
        },
        {
         "name": "depart_time",
         "rawType": "object",
         "type": "unknown"
        },
        {
         "name": "arrival_date",
         "rawType": "object",
         "type": "unknown"
        },
        {
         "name": "arrival_time_only",
         "rawType": "object",
         "type": "unknown"
        }
       ],
       "conversionMethod": "pd.DataFrame",
       "ref": "ab45e677-7602-4364-a3a2-8f1fb25657a6",
       "rows": [
        [
         "0",
         "18467-2503031400--32695-0-10968-2503031640",
         "economy",
         "C$690",
         null,
         "1031",
         "Toronto Pearson International",
         null,
         "Canada",
         "Dallas Fort Worth International",
         null,
         "United States",
         "220",
         "0",
         "Air Canada",
         "Air Canada",
         "False",
         "0.452919",
         "2025-03-03",
         "14:00:00",
         "2025-03-03",
         "16:40:00"
        ],
        [
         "1",
         "18467-2503031940--32695-0-10968-2503032222",
         "economy",
         "C$405",
         null,
         "1033",
         "Toronto Pearson International",
         null,
         "Canada",
         "Dallas Fort Worth International",
         null,
         "United States",
         "222",
         "0",
         "Air Canada",
         "Air Canada",
         "False",
         "0.999",
         "2025-03-03",
         "19:40:00",
         "2025-03-03",
         "22:22:00"
        ],
        [
         "2",
         "18467-2503031400--32593-0-10968-2503031655",
         "economy",
         "C$518",
         null,
         "4476",
         "Toronto Pearson International",
         null,
         "Canada",
         "Dallas Fort Worth International",
         null,
         "United States",
         "235",
         "0",
         "Alaska Airlines",
         "Envoy Air As American Eagle",
         "False",
         "0.684089",
         "2025-03-03",
         "14:00:00",
         "2025-03-03",
         "16:55:00"
        ],
        [
         "3",
         "18467-2503031730--32695-1-10968-2503032248",
         "economy",
         "C$413",
         null,
         "4990",
         "Toronto Pearson International",
         null,
         "Canada",
         "Chicago O'Hare International",
         null,
         "United States",
         "129",
         "1",
         "Air Canada",
         "Republic Airways DBA United Express",
         "False",
         "0.40761",
         "2025-03-03",
         "17:30:00",
         "2025-03-03",
         "18:39:00"
        ],
        [
         "4",
         "18467-2503031730--32695-1-10968-2503032248",
         "economy",
         "C$413",
         null,
         "5521",
         "Chicago O'Hare International",
         null,
         "United States",
         "Dallas Fort Worth International",
         null,
         "United States",
         "173",
         "1",
         "Air Canada",
         "United",
         "False",
         "0.40761",
         "2025-03-03",
         "19:55:00",
         "2025-03-03",
         "22:48:00"
        ]
       ],
       "shape": {
        "columns": 21,
        "rows": 5
       }
      },
      "text/html": [
       "<div>\n",
       "<style scoped>\n",
       "    .dataframe tbody tr th:only-of-type {\n",
       "        vertical-align: middle;\n",
       "    }\n",
       "\n",
       "    .dataframe tbody tr th {\n",
       "        vertical-align: top;\n",
       "    }\n",
       "\n",
       "    .dataframe thead th {\n",
       "        text-align: right;\n",
       "    }\n",
       "</style>\n",
       "<table border=\"1\" class=\"dataframe\">\n",
       "  <thead>\n",
       "    <tr style=\"text-align: right;\">\n",
       "      <th></th>\n",
       "      <th>itinerary_id</th>\n",
       "      <th>cabin_class</th>\n",
       "      <th>price_formatted</th>\n",
       "      <th>currency</th>\n",
       "      <th>flight_number</th>\n",
       "      <th>origin_airport</th>\n",
       "      <th>origin_city</th>\n",
       "      <th>origin_country</th>\n",
       "      <th>destination_airport</th>\n",
       "      <th>destination_city</th>\n",
       "      <th>...</th>\n",
       "      <th>duration_minutes</th>\n",
       "      <th>stop_count</th>\n",
       "      <th>marketing_airline</th>\n",
       "      <th>operating_airline</th>\n",
       "      <th>is_self_transfer</th>\n",
       "      <th>score</th>\n",
       "      <th>depart_date</th>\n",
       "      <th>depart_time</th>\n",
       "      <th>arrival_date</th>\n",
       "      <th>arrival_time_only</th>\n",
       "    </tr>\n",
       "  </thead>\n",
       "  <tbody>\n",
       "    <tr>\n",
       "      <th>0</th>\n",
       "      <td>18467-2503031400--32695-0-10968-2503031640</td>\n",
       "      <td>economy</td>\n",
       "      <td>C$690</td>\n",
       "      <td>NaN</td>\n",
       "      <td>1031</td>\n",
       "      <td>Toronto Pearson International</td>\n",
       "      <td>NaN</td>\n",
       "      <td>Canada</td>\n",
       "      <td>Dallas Fort Worth International</td>\n",
       "      <td>NaN</td>\n",
       "      <td>...</td>\n",
       "      <td>220</td>\n",
       "      <td>0</td>\n",
       "      <td>Air Canada</td>\n",
       "      <td>Air Canada</td>\n",
       "      <td>False</td>\n",
       "      <td>0.452919</td>\n",
       "      <td>2025-03-03</td>\n",
       "      <td>14:00:00</td>\n",
       "      <td>2025-03-03</td>\n",
       "      <td>16:40:00</td>\n",
       "    </tr>\n",
       "    <tr>\n",
       "      <th>1</th>\n",
       "      <td>18467-2503031940--32695-0-10968-2503032222</td>\n",
       "      <td>economy</td>\n",
       "      <td>C$405</td>\n",
       "      <td>NaN</td>\n",
       "      <td>1033</td>\n",
       "      <td>Toronto Pearson International</td>\n",
       "      <td>NaN</td>\n",
       "      <td>Canada</td>\n",
       "      <td>Dallas Fort Worth International</td>\n",
       "      <td>NaN</td>\n",
       "      <td>...</td>\n",
       "      <td>222</td>\n",
       "      <td>0</td>\n",
       "      <td>Air Canada</td>\n",
       "      <td>Air Canada</td>\n",
       "      <td>False</td>\n",
       "      <td>0.999000</td>\n",
       "      <td>2025-03-03</td>\n",
       "      <td>19:40:00</td>\n",
       "      <td>2025-03-03</td>\n",
       "      <td>22:22:00</td>\n",
       "    </tr>\n",
       "    <tr>\n",
       "      <th>2</th>\n",
       "      <td>18467-2503031400--32593-0-10968-2503031655</td>\n",
       "      <td>economy</td>\n",
       "      <td>C$518</td>\n",
       "      <td>NaN</td>\n",
       "      <td>4476</td>\n",
       "      <td>Toronto Pearson International</td>\n",
       "      <td>NaN</td>\n",
       "      <td>Canada</td>\n",
       "      <td>Dallas Fort Worth International</td>\n",
       "      <td>NaN</td>\n",
       "      <td>...</td>\n",
       "      <td>235</td>\n",
       "      <td>0</td>\n",
       "      <td>Alaska Airlines</td>\n",
       "      <td>Envoy Air As American Eagle</td>\n",
       "      <td>False</td>\n",
       "      <td>0.684089</td>\n",
       "      <td>2025-03-03</td>\n",
       "      <td>14:00:00</td>\n",
       "      <td>2025-03-03</td>\n",
       "      <td>16:55:00</td>\n",
       "    </tr>\n",
       "    <tr>\n",
       "      <th>3</th>\n",
       "      <td>18467-2503031730--32695-1-10968-2503032248</td>\n",
       "      <td>economy</td>\n",
       "      <td>C$413</td>\n",
       "      <td>NaN</td>\n",
       "      <td>4990</td>\n",
       "      <td>Toronto Pearson International</td>\n",
       "      <td>NaN</td>\n",
       "      <td>Canada</td>\n",
       "      <td>Chicago O'Hare International</td>\n",
       "      <td>NaN</td>\n",
       "      <td>...</td>\n",
       "      <td>129</td>\n",
       "      <td>1</td>\n",
       "      <td>Air Canada</td>\n",
       "      <td>Republic Airways DBA United Express</td>\n",
       "      <td>False</td>\n",
       "      <td>0.407610</td>\n",
       "      <td>2025-03-03</td>\n",
       "      <td>17:30:00</td>\n",
       "      <td>2025-03-03</td>\n",
       "      <td>18:39:00</td>\n",
       "    </tr>\n",
       "    <tr>\n",
       "      <th>4</th>\n",
       "      <td>18467-2503031730--32695-1-10968-2503032248</td>\n",
       "      <td>economy</td>\n",
       "      <td>C$413</td>\n",
       "      <td>NaN</td>\n",
       "      <td>5521</td>\n",
       "      <td>Chicago O'Hare International</td>\n",
       "      <td>NaN</td>\n",
       "      <td>United States</td>\n",
       "      <td>Dallas Fort Worth International</td>\n",
       "      <td>NaN</td>\n",
       "      <td>...</td>\n",
       "      <td>173</td>\n",
       "      <td>1</td>\n",
       "      <td>Air Canada</td>\n",
       "      <td>United</td>\n",
       "      <td>False</td>\n",
       "      <td>0.407610</td>\n",
       "      <td>2025-03-03</td>\n",
       "      <td>19:55:00</td>\n",
       "      <td>2025-03-03</td>\n",
       "      <td>22:48:00</td>\n",
       "    </tr>\n",
       "  </tbody>\n",
       "</table>\n",
       "<p>5 rows × 21 columns</p>\n",
       "</div>"
      ],
      "text/plain": [
       "                                 itinerary_id cabin_class price_formatted  \\\n",
       "0  18467-2503031400--32695-0-10968-2503031640     economy           C$690   \n",
       "1  18467-2503031940--32695-0-10968-2503032222     economy           C$405   \n",
       "2  18467-2503031400--32593-0-10968-2503031655     economy           C$518   \n",
       "3  18467-2503031730--32695-1-10968-2503032248     economy           C$413   \n",
       "4  18467-2503031730--32695-1-10968-2503032248     economy           C$413   \n",
       "\n",
       "   currency  flight_number                 origin_airport  origin_city  \\\n",
       "0       NaN           1031  Toronto Pearson International          NaN   \n",
       "1       NaN           1033  Toronto Pearson International          NaN   \n",
       "2       NaN           4476  Toronto Pearson International          NaN   \n",
       "3       NaN           4990  Toronto Pearson International          NaN   \n",
       "4       NaN           5521   Chicago O'Hare International          NaN   \n",
       "\n",
       "  origin_country              destination_airport  destination_city  ...  \\\n",
       "0         Canada  Dallas Fort Worth International               NaN  ...   \n",
       "1         Canada  Dallas Fort Worth International               NaN  ...   \n",
       "2         Canada  Dallas Fort Worth International               NaN  ...   \n",
       "3         Canada     Chicago O'Hare International               NaN  ...   \n",
       "4  United States  Dallas Fort Worth International               NaN  ...   \n",
       "\n",
       "  duration_minutes  stop_count  marketing_airline  \\\n",
       "0              220           0         Air Canada   \n",
       "1              222           0         Air Canada   \n",
       "2              235           0    Alaska Airlines   \n",
       "3              129           1         Air Canada   \n",
       "4              173           1         Air Canada   \n",
       "\n",
       "                     operating_airline is_self_transfer     score  \\\n",
       "0                           Air Canada            False  0.452919   \n",
       "1                           Air Canada            False  0.999000   \n",
       "2          Envoy Air As American Eagle            False  0.684089   \n",
       "3  Republic Airways DBA United Express            False  0.407610   \n",
       "4                               United            False  0.407610   \n",
       "\n",
       "   depart_date depart_time arrival_date arrival_time_only  \n",
       "0   2025-03-03    14:00:00   2025-03-03          16:40:00  \n",
       "1   2025-03-03    19:40:00   2025-03-03          22:22:00  \n",
       "2   2025-03-03    14:00:00   2025-03-03          16:55:00  \n",
       "3   2025-03-03    17:30:00   2025-03-03          18:39:00  \n",
       "4   2025-03-03    19:55:00   2025-03-03          22:48:00  \n",
       "\n",
       "[5 rows x 21 columns]"
      ]
     },
     "execution_count": 12,
     "metadata": {},
     "output_type": "execute_result"
    }
   ],
   "source": [
    "#splitting the arrival_time column into two columns arrival_date and arrival_time_only\n",
    "# Convert arrival_time to datetime format\n",
    "march_25_df['arrival_time'] = pd.to_datetime(march_25_df['arrival_time'])\n",
    "\n",
    "# Extract date and time into separate columns arrival_date and arrival_time\n",
    "march_25_df['arrival_date'] = march_25_df['arrival_time'].dt.date\n",
    "march_25_df['arrival_time_only'] = march_25_df['arrival_time'].dt.time\n",
    "\n",
    "#delete the original column\n",
    "march_25_df = march_25_df.drop(columns=['arrival_time'], axis=1)\n",
    "\n",
    "march_25_df.head()"
   ]
  }
 ],
 "metadata": {
  "kernelspec": {
   "display_name": "dev",
   "language": "python",
   "name": "dev"
  },
  "language_info": {
   "codemirror_mode": {
    "name": "ipython",
    "version": 3
   },
   "file_extension": ".py",
   "mimetype": "text/x-python",
   "name": "python",
   "nbconvert_exporter": "python",
   "pygments_lexer": "ipython3",
   "version": "3.10.15"
  }
 },
 "nbformat": 4,
 "nbformat_minor": 2
}
